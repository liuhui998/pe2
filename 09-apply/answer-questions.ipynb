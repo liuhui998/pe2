{
 "cells": [
  {
   "cell_type": "markdown",
   "metadata": {},
   "source": [
    "# 1. 免学部分\n",
    "* p161~p168\n",
    "* 扣除免学部分只有7面\n"
   ]
  },
  {
   "cell_type": "markdown",
   "metadata": {},
   "source": [
    "# 2. 前言\n",
    "\n",
    "* 大家在做题目前一定要先把第9章的书读一下\n",
    "* 写本作业，请使用 Anaconda 里的 Notebook\n",
    "* 我做了一个[打包下载 Link](https://downgit.github.io/#/home?url=https://github.com/liuhui998/pe2/tree/master/09-apply), 大家下载下来解压后，使用 Notebook 打开"
   ]
  },
  {
   "cell_type": "markdown",
   "metadata": {},
   "source": [
    "# 3. 学习概要\n",
    "* 我会在每道题有前标明对的书页码\n",
    "* 如果超纲我会提前提示，并加上资料 Link\n",
    "---\n",
    "重点知识：\n",
    "\n",
    "---\n",
    "知识点整理\n"
   ]
  },
  {
   "cell_type": "code",
   "execution_count": 4,
   "metadata": {
    "ExecuteTime": {
     "end_time": "2020-08-03T03:34:02.091326Z",
     "start_time": "2020-08-03T03:34:02.088710Z"
    }
   },
   "outputs": [],
   "source": [
    "import pandas as pd"
   ]
  },
  {
   "cell_type": "code",
   "execution_count": 8,
   "metadata": {
    "ExecuteTime": {
     "end_time": "2020-08-03T03:34:25.341052Z",
     "start_time": "2020-08-03T03:34:25.331056Z"
    }
   },
   "outputs": [
    {
     "data": {
      "text/html": [
       "<div>\n",
       "<style scoped>\n",
       "    .dataframe tbody tr th:only-of-type {\n",
       "        vertical-align: middle;\n",
       "    }\n",
       "\n",
       "    .dataframe tbody tr th {\n",
       "        vertical-align: top;\n",
       "    }\n",
       "\n",
       "    .dataframe thead th {\n",
       "        text-align: right;\n",
       "    }\n",
       "</style>\n",
       "<table border=\"1\" class=\"dataframe\">\n",
       "  <thead>\n",
       "    <tr style=\"text-align: right;\">\n",
       "      <th></th>\n",
       "      <th>sku</th>\n",
       "      <th>price</th>\n",
       "      <th>quantity</th>\n",
       "      <th>currency</th>\n",
       "    </tr>\n",
       "  </thead>\n",
       "  <tbody>\n",
       "    <tr>\n",
       "      <th>0</th>\n",
       "      <td>A1234</td>\n",
       "      <td>$100</td>\n",
       "      <td>200</td>\n",
       "      <td>USD</td>\n",
       "    </tr>\n",
       "    <tr>\n",
       "      <th>1</th>\n",
       "      <td>A1235</td>\n",
       "      <td>$200</td>\n",
       "      <td>200</td>\n",
       "      <td>USD</td>\n",
       "    </tr>\n",
       "    <tr>\n",
       "      <th>2</th>\n",
       "      <td>A1236</td>\n",
       "      <td>$300</td>\n",
       "      <td>100</td>\n",
       "      <td>USD</td>\n",
       "    </tr>\n",
       "    <tr>\n",
       "      <th>3</th>\n",
       "      <td>A1234</td>\n",
       "      <td>£76</td>\n",
       "      <td>100</td>\n",
       "      <td>GBP</td>\n",
       "    </tr>\n",
       "    <tr>\n",
       "      <th>4</th>\n",
       "      <td>A1235</td>\n",
       "      <td>£160</td>\n",
       "      <td>100</td>\n",
       "      <td>GBP</td>\n",
       "    </tr>\n",
       "    <tr>\n",
       "      <th>5</th>\n",
       "      <td>A1236</td>\n",
       "      <td>£200</td>\n",
       "      <td>60</td>\n",
       "      <td>GBP</td>\n",
       "    </tr>\n",
       "  </tbody>\n",
       "</table>\n",
       "</div>"
      ],
      "text/plain": [
       "     sku  price  quantity currency\n",
       "0  A1234   $100       200      USD\n",
       "1  A1235   $200       200      USD\n",
       "2  A1236   $300       100      USD\n",
       "3  A1234    £76       100      GBP\n",
       "4  A1235   £160       100      GBP\n",
       "5  A1236   £200        60      GBP"
      ]
     },
     "execution_count": 8,
     "metadata": {},
     "output_type": "execute_result"
    }
   ],
   "source": [
    "\"\"\"\n",
    "* 读取 world_sales_data.csv 到 sales\n",
    "\n",
    "  字段解释：\n",
    "\n",
    "   sku: 商品编号\n",
    "   \n",
    "   price: 价格\n",
    "   \n",
    "   quantity: 数量\n",
    "   \n",
    "   currency: 货币类型\n",
    "\"\"\"\n",
    "sales = pd.read_csv(\"world_sales_data.csv\")\n",
    "sales"
   ]
  },
  {
   "cell_type": "code",
   "execution_count": 9,
   "metadata": {
    "ExecuteTime": {
     "end_time": "2020-08-03T03:34:25.943262Z",
     "start_time": "2020-08-03T03:34:25.938865Z"
    }
   },
   "outputs": [
    {
     "data": {
      "text/plain": [
       "sku         object\n",
       "price       object\n",
       "quantity     int64\n",
       "currency    object\n",
       "dtype: object"
      ]
     },
     "execution_count": 9,
     "metadata": {},
     "output_type": "execute_result"
    }
   ],
   "source": [
    "# 查看 sales 的数据类型\n",
    "sales.dtypes"
   ]
  },
  {
   "cell_type": "code",
   "execution_count": 10,
   "metadata": {
    "ExecuteTime": {
     "end_time": "2020-08-03T03:34:26.517931Z",
     "start_time": "2020-08-03T03:34:26.514802Z"
    }
   },
   "outputs": [
    {
     "name": "stdout",
     "output_type": "stream",
     "text": [
      "*$100*\n",
      "* $200*\n",
      "*$300*\n",
      "*£76*\n",
      "* £160*\n",
      "*£200*\n"
     ]
    }
   ],
   "source": [
    "#* 尝试打印  sales 中的每一个价格 price (前后加 \"*\")\n",
    "# 发现有些价格前面有空格\n",
    "# 同时大家看一下书 p148，这种新的字符串拼接的用法\n",
    "for price in sales['price']:\n",
    "    print(f\"*{price}*\")"
   ]
  },
  {
   "cell_type": "code",
   "execution_count": 11,
   "metadata": {
    "ExecuteTime": {
     "end_time": "2020-08-03T03:34:27.143455Z",
     "start_time": "2020-08-03T03:34:27.137896Z"
    }
   },
   "outputs": [
    {
     "name": "stdout",
     "output_type": "stream",
     "text": [
      "*100.0*\n",
      "*200.0*\n",
      "*300.0*\n",
      "*76.0*\n",
      "*160.0*\n",
      "*200.0*\n"
     ]
    },
    {
     "data": {
      "text/plain": [
       "[100.0, 200.0, 300.0, 76.0, 160.0, 200.0]"
      ]
     },
     "execution_count": 11,
     "metadata": {},
     "output_type": "execute_result"
    }
   ],
   "source": [
    "#定义一个空列表: new_prices \n",
    "new_prices = []\n",
    "# 遍历 sales 中的每一个价格 price, 去掉前后的空格(strip), 再取第2到最后一个字符，再再转成浮点数，最后把它加到列表 new_prices 里\n",
    "for price in sales['price']:\n",
    "    new_price = float(price.strip()[1:])\n",
    "    print(f\"*{new_price}*\")\n",
    "    new_prices.append(new_price)\n",
    "new_prices"
   ]
  },
  {
   "cell_type": "code",
   "execution_count": 12,
   "metadata": {
    "ExecuteTime": {
     "end_time": "2020-08-03T03:34:30.059808Z",
     "start_time": "2020-08-03T03:34:30.050115Z"
    }
   },
   "outputs": [
    {
     "data": {
      "text/html": [
       "<div>\n",
       "<style scoped>\n",
       "    .dataframe tbody tr th:only-of-type {\n",
       "        vertical-align: middle;\n",
       "    }\n",
       "\n",
       "    .dataframe tbody tr th {\n",
       "        vertical-align: top;\n",
       "    }\n",
       "\n",
       "    .dataframe thead th {\n",
       "        text-align: right;\n",
       "    }\n",
       "</style>\n",
       "<table border=\"1\" class=\"dataframe\">\n",
       "  <thead>\n",
       "    <tr style=\"text-align: right;\">\n",
       "      <th></th>\n",
       "      <th>sku</th>\n",
       "      <th>price</th>\n",
       "      <th>quantity</th>\n",
       "      <th>currency</th>\n",
       "      <th>new_price</th>\n",
       "    </tr>\n",
       "  </thead>\n",
       "  <tbody>\n",
       "    <tr>\n",
       "      <th>0</th>\n",
       "      <td>A1234</td>\n",
       "      <td>$100</td>\n",
       "      <td>200</td>\n",
       "      <td>USD</td>\n",
       "      <td>100.0</td>\n",
       "    </tr>\n",
       "    <tr>\n",
       "      <th>1</th>\n",
       "      <td>A1235</td>\n",
       "      <td>$200</td>\n",
       "      <td>200</td>\n",
       "      <td>USD</td>\n",
       "      <td>200.0</td>\n",
       "    </tr>\n",
       "    <tr>\n",
       "      <th>2</th>\n",
       "      <td>A1236</td>\n",
       "      <td>$300</td>\n",
       "      <td>100</td>\n",
       "      <td>USD</td>\n",
       "      <td>300.0</td>\n",
       "    </tr>\n",
       "    <tr>\n",
       "      <th>3</th>\n",
       "      <td>A1234</td>\n",
       "      <td>£76</td>\n",
       "      <td>100</td>\n",
       "      <td>GBP</td>\n",
       "      <td>76.0</td>\n",
       "    </tr>\n",
       "    <tr>\n",
       "      <th>4</th>\n",
       "      <td>A1235</td>\n",
       "      <td>£160</td>\n",
       "      <td>100</td>\n",
       "      <td>GBP</td>\n",
       "      <td>160.0</td>\n",
       "    </tr>\n",
       "    <tr>\n",
       "      <th>5</th>\n",
       "      <td>A1236</td>\n",
       "      <td>£200</td>\n",
       "      <td>60</td>\n",
       "      <td>GBP</td>\n",
       "      <td>200.0</td>\n",
       "    </tr>\n",
       "  </tbody>\n",
       "</table>\n",
       "</div>"
      ],
      "text/plain": [
       "     sku  price  quantity currency  new_price\n",
       "0  A1234   $100       200      USD      100.0\n",
       "1  A1235   $200       200      USD      200.0\n",
       "2  A1236   $300       100      USD      300.0\n",
       "3  A1234    £76       100      GBP       76.0\n",
       "4  A1235   £160       100      GBP      160.0\n",
       "5  A1236   £200        60      GBP      200.0"
      ]
     },
     "execution_count": 12,
     "metadata": {},
     "output_type": "execute_result"
    }
   ],
   "source": [
    "# 将 new_prices 放到 sales 的 new_price 列中(会自动创建这一列）\n",
    "sales['new_price'] = new_prices\n",
    "sales"
   ]
  },
  {
   "cell_type": "code",
   "execution_count": 22,
   "metadata": {
    "ExecuteTime": {
     "end_time": "2020-08-03T03:37:09.032375Z",
     "start_time": "2020-08-03T03:37:09.029714Z"
    }
   },
   "outputs": [],
   "source": [
    "def price_convert(raw_price):\n",
    "    return float(raw_price.strip()[1:])"
   ]
  },
  {
   "cell_type": "code",
   "execution_count": 23,
   "metadata": {
    "ExecuteTime": {
     "end_time": "2020-08-03T03:37:09.647400Z",
     "start_time": "2020-08-03T03:37:09.644112Z"
    }
   },
   "outputs": [
    {
     "name": "stdout",
     "output_type": "stream",
     "text": [
      "price: * $200*\n",
      "new_price: *200.0*\n"
     ]
    }
   ],
   "source": [
    "print(f\"price: *{sales.iloc[1,1]}*\")\n",
    "print(f\"new_price: *{price_convert(sales.iloc[1,1])}*\")"
   ]
  },
  {
   "cell_type": "code",
   "execution_count": 24,
   "metadata": {
    "ExecuteTime": {
     "end_time": "2020-08-03T03:37:13.834398Z",
     "start_time": "2020-08-03T03:37:13.829617Z"
    }
   },
   "outputs": [
    {
     "data": {
      "text/plain": [
       "0    100.0\n",
       "1    200.0\n",
       "2    300.0\n",
       "3     76.0\n",
       "4    160.0\n",
       "5    200.0\n",
       "Name: price, dtype: float64"
      ]
     },
     "execution_count": 24,
     "metadata": {},
     "output_type": "execute_result"
    }
   ],
   "source": [
    "sales['price'].apply(price_convert)"
   ]
  },
  {
   "cell_type": "code",
   "execution_count": 25,
   "metadata": {
    "ExecuteTime": {
     "end_time": "2020-08-03T03:37:15.019439Z",
     "start_time": "2020-08-03T03:37:15.009076Z"
    }
   },
   "outputs": [
    {
     "data": {
      "text/html": [
       "<div>\n",
       "<style scoped>\n",
       "    .dataframe tbody tr th:only-of-type {\n",
       "        vertical-align: middle;\n",
       "    }\n",
       "\n",
       "    .dataframe tbody tr th {\n",
       "        vertical-align: top;\n",
       "    }\n",
       "\n",
       "    .dataframe thead th {\n",
       "        text-align: right;\n",
       "    }\n",
       "</style>\n",
       "<table border=\"1\" class=\"dataframe\">\n",
       "  <thead>\n",
       "    <tr style=\"text-align: right;\">\n",
       "      <th></th>\n",
       "      <th>sku</th>\n",
       "      <th>price</th>\n",
       "      <th>quantity</th>\n",
       "      <th>currency</th>\n",
       "      <th>new_price</th>\n",
       "      <th>new_price1</th>\n",
       "    </tr>\n",
       "  </thead>\n",
       "  <tbody>\n",
       "    <tr>\n",
       "      <th>0</th>\n",
       "      <td>A1234</td>\n",
       "      <td>$100</td>\n",
       "      <td>200</td>\n",
       "      <td>USD</td>\n",
       "      <td>100.0</td>\n",
       "      <td>100.0</td>\n",
       "    </tr>\n",
       "    <tr>\n",
       "      <th>1</th>\n",
       "      <td>A1235</td>\n",
       "      <td>$200</td>\n",
       "      <td>200</td>\n",
       "      <td>USD</td>\n",
       "      <td>200.0</td>\n",
       "      <td>200.0</td>\n",
       "    </tr>\n",
       "    <tr>\n",
       "      <th>2</th>\n",
       "      <td>A1236</td>\n",
       "      <td>$300</td>\n",
       "      <td>100</td>\n",
       "      <td>USD</td>\n",
       "      <td>300.0</td>\n",
       "      <td>300.0</td>\n",
       "    </tr>\n",
       "    <tr>\n",
       "      <th>3</th>\n",
       "      <td>A1234</td>\n",
       "      <td>£76</td>\n",
       "      <td>100</td>\n",
       "      <td>GBP</td>\n",
       "      <td>76.0</td>\n",
       "      <td>76.0</td>\n",
       "    </tr>\n",
       "    <tr>\n",
       "      <th>4</th>\n",
       "      <td>A1235</td>\n",
       "      <td>£160</td>\n",
       "      <td>100</td>\n",
       "      <td>GBP</td>\n",
       "      <td>160.0</td>\n",
       "      <td>160.0</td>\n",
       "    </tr>\n",
       "    <tr>\n",
       "      <th>5</th>\n",
       "      <td>A1236</td>\n",
       "      <td>£200</td>\n",
       "      <td>60</td>\n",
       "      <td>GBP</td>\n",
       "      <td>200.0</td>\n",
       "      <td>200.0</td>\n",
       "    </tr>\n",
       "  </tbody>\n",
       "</table>\n",
       "</div>"
      ],
      "text/plain": [
       "     sku  price  quantity currency  new_price  new_price1\n",
       "0  A1234   $100       200      USD      100.0       100.0\n",
       "1  A1235   $200       200      USD      200.0       200.0\n",
       "2  A1236   $300       100      USD      300.0       300.0\n",
       "3  A1234    £76       100      GBP       76.0        76.0\n",
       "4  A1235   £160       100      GBP      160.0       160.0\n",
       "5  A1236   £200        60      GBP      200.0       200.0"
      ]
     },
     "execution_count": 25,
     "metadata": {},
     "output_type": "execute_result"
    }
   ],
   "source": [
    "sales['new_price1'] = sales['price'].apply(price_convert)\n",
    "sales"
   ]
  },
  {
   "cell_type": "code",
   "execution_count": 26,
   "metadata": {
    "ExecuteTime": {
     "end_time": "2020-08-03T03:38:31.217123Z",
     "start_time": "2020-08-03T03:38:31.205110Z"
    }
   },
   "outputs": [
    {
     "data": {
      "text/html": [
       "<div>\n",
       "<style scoped>\n",
       "    .dataframe tbody tr th:only-of-type {\n",
       "        vertical-align: middle;\n",
       "    }\n",
       "\n",
       "    .dataframe tbody tr th {\n",
       "        vertical-align: top;\n",
       "    }\n",
       "\n",
       "    .dataframe thead th {\n",
       "        text-align: right;\n",
       "    }\n",
       "</style>\n",
       "<table border=\"1\" class=\"dataframe\">\n",
       "  <thead>\n",
       "    <tr style=\"text-align: right;\">\n",
       "      <th></th>\n",
       "      <th>sku</th>\n",
       "      <th>price</th>\n",
       "      <th>quantity</th>\n",
       "      <th>currency</th>\n",
       "      <th>new_price</th>\n",
       "      <th>new_price1</th>\n",
       "      <th>new_price2</th>\n",
       "    </tr>\n",
       "  </thead>\n",
       "  <tbody>\n",
       "    <tr>\n",
       "      <th>0</th>\n",
       "      <td>A1234</td>\n",
       "      <td>$100</td>\n",
       "      <td>200</td>\n",
       "      <td>USD</td>\n",
       "      <td>100.0</td>\n",
       "      <td>100.0</td>\n",
       "      <td>100.0</td>\n",
       "    </tr>\n",
       "    <tr>\n",
       "      <th>1</th>\n",
       "      <td>A1235</td>\n",
       "      <td>$200</td>\n",
       "      <td>200</td>\n",
       "      <td>USD</td>\n",
       "      <td>200.0</td>\n",
       "      <td>200.0</td>\n",
       "      <td>200.0</td>\n",
       "    </tr>\n",
       "    <tr>\n",
       "      <th>2</th>\n",
       "      <td>A1236</td>\n",
       "      <td>$300</td>\n",
       "      <td>100</td>\n",
       "      <td>USD</td>\n",
       "      <td>300.0</td>\n",
       "      <td>300.0</td>\n",
       "      <td>300.0</td>\n",
       "    </tr>\n",
       "    <tr>\n",
       "      <th>3</th>\n",
       "      <td>A1234</td>\n",
       "      <td>£76</td>\n",
       "      <td>100</td>\n",
       "      <td>GBP</td>\n",
       "      <td>76.0</td>\n",
       "      <td>76.0</td>\n",
       "      <td>76.0</td>\n",
       "    </tr>\n",
       "    <tr>\n",
       "      <th>4</th>\n",
       "      <td>A1235</td>\n",
       "      <td>£160</td>\n",
       "      <td>100</td>\n",
       "      <td>GBP</td>\n",
       "      <td>160.0</td>\n",
       "      <td>160.0</td>\n",
       "      <td>160.0</td>\n",
       "    </tr>\n",
       "    <tr>\n",
       "      <th>5</th>\n",
       "      <td>A1236</td>\n",
       "      <td>£200</td>\n",
       "      <td>60</td>\n",
       "      <td>GBP</td>\n",
       "      <td>200.0</td>\n",
       "      <td>200.0</td>\n",
       "      <td>200.0</td>\n",
       "    </tr>\n",
       "  </tbody>\n",
       "</table>\n",
       "</div>"
      ],
      "text/plain": [
       "     sku  price  quantity currency  new_price  new_price1  new_price2\n",
       "0  A1234   $100       200      USD      100.0       100.0       100.0\n",
       "1  A1235   $200       200      USD      200.0       200.0       200.0\n",
       "2  A1236   $300       100      USD      300.0       300.0       300.0\n",
       "3  A1234    £76       100      GBP       76.0        76.0        76.0\n",
       "4  A1235   £160       100      GBP      160.0       160.0       160.0\n",
       "5  A1236   £200        60      GBP      200.0       200.0       200.0"
      ]
     },
     "execution_count": 26,
     "metadata": {},
     "output_type": "execute_result"
    }
   ],
   "source": [
    "sales['new_price2'] = sales['price'].apply(\n",
    "    lambda raw_price: float(raw_price.strip()[1:]) \n",
    ")\n",
    "sales"
   ]
  },
  {
   "cell_type": "code",
   "execution_count": null,
   "metadata": {},
   "outputs": [],
   "source": []
  }
 ],
 "metadata": {
  "kernelspec": {
   "display_name": "Python 3",
   "language": "python",
   "name": "python3"
  },
  "language_info": {
   "codemirror_mode": {
    "name": "ipython",
    "version": 3
   },
   "file_extension": ".py",
   "mimetype": "text/x-python",
   "name": "python",
   "nbconvert_exporter": "python",
   "pygments_lexer": "ipython3",
   "version": "3.7.6"
  },
  "toc": {
   "base_numbering": 1,
   "nav_menu": {},
   "number_sections": true,
   "sideBar": true,
   "skip_h1_title": false,
   "title_cell": "Table of Contents",
   "title_sidebar": "Contents",
   "toc_cell": false,
   "toc_position": {},
   "toc_section_display": true,
   "toc_window_display": false
  },
  "varInspector": {
   "cols": {
    "lenName": 16,
    "lenType": 16,
    "lenVar": 40
   },
   "kernels_config": {
    "python": {
     "delete_cmd_postfix": "",
     "delete_cmd_prefix": "del ",
     "library": "var_list.py",
     "varRefreshCmd": "print(var_dic_list())"
    },
    "r": {
     "delete_cmd_postfix": ") ",
     "delete_cmd_prefix": "rm(",
     "library": "var_list.r",
     "varRefreshCmd": "cat(var_dic_list()) "
    }
   },
   "types_to_exclude": [
    "module",
    "function",
    "builtin_function_or_method",
    "instance",
    "_Feature"
   ],
   "window_display": false
  }
 },
 "nbformat": 4,
 "nbformat_minor": 4
}
