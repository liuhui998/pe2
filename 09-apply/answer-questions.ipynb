{
 "cells": [
  {
   "cell_type": "markdown",
   "metadata": {},
   "source": [
    "# 1. 免学部分\n",
    "* p161~p168\n",
    "* 扣除免学部分只有7面"
   ]
  },
  {
   "cell_type": "markdown",
   "metadata": {},
   "source": [
    "# 2. 前言\n",
    "\n",
    "* 大家在做题目前一定要先把第9章的书读一下\n",
    "* 写本作业，请使用 Anaconda 里的 Notebook\n",
    "* 我做了一个[打包下载 Link](https://downgit.github.io/#/home?url=https://github.com/liuhui998/pe2/tree/master/09-apply), 大家下载下来解压后，使用 Notebook 打开"
   ]
  },
  {
   "cell_type": "markdown",
   "metadata": {},
   "source": [
    "# 3. 学习概要\n",
    "* 我会在每道题有前标明对的书页码\n",
    "* 如果超纲我会提前提示，并加上资料 Link\n",
    "---\n",
    "重点知识：\n",
    "\n",
    "* 要成为一个专业程序员，要对函数式编程有一定的概念和理解。函数式编程，包括函数式编程思维，当然是一个很复杂的话题，但对今天介绍的 apply() 函数，只需要理解：函数作为一个对象，能作为参数传递给其它参数，并且能作为函数的返回值\n",
    "\n",
    "* 如果用函数式的编程方法呢，我们可以这样想：从一个 list 中取出特定规则的数字，能不能只关注和设置这个规则，循环这种事情就交给编程语言去处理\n",
    "\n",
    "* apply 就一种函数式的编程的方式，帮你少写循环代码。\n",
    "\n",
    "  重点是帮你少写循环代码，不是增加你记忆工作量  \n",
    "  如果你现在是初学，不想记apply也可以，日常工作里先用循环，考试时记得翻一下书就好。\n",
    "\n",
    "* lambda函数也叫匿名函数，即没有具体名称的函数，它允许快速定义单行函数，可以用在任何需要函数的地方，这区别于def定义的函数。\n",
    " \n",
    "   我以一个 lambda 为例：\n",
    "   \n",
    "   lambda raw_price: float(raw_price.strip()[1:]) \n",
    "\n",
    "   lambda 后面的 raw_price 相当于函数的参数\n",
    "   \n",
    "   float(raw_price.strip()[1:]) 相当于平常函数的内容，然后这个值会自动返回(return)\n",
    "   \n",
    "---\n",
    "知识点整理\n",
    "\n",
    "* [pandas apply() 函数用法](https://www.jianshu.com/p/4fdd6eee1b06)\n",
    "* [Python中的lambda和apply用法](https://zhuanlan.zhihu.com/p/42756654)\n",
    "\n",
    "---\n",
    "备注:\n",
    "\n",
    "* 大家在GitHub 里看输出的表格，price 列显示有时可能会错位，这是GitHub 的bug, 如果列数里有美元符号，它就显示不正常；不影响大家日常使用; 后面我们也会想办法解决。\n",
    "  \n",
    "  因为代码运行在自己的电脑上不是运行在 Github 上，GitHub 只是一个展示教材的地方"
   ]
  },
  {
   "cell_type": "markdown",
   "metadata": {},
   "source": [
    "# 4. 汇总各国销售数据\n",
    "---\n",
    "备注：这里综合了 p140~143,p148,p158,p169的内容，同时我们也会介绍很多书上没有使用的参数\n",
    "\n",
    "* 了解如何用字符串切片去掉货币符号 p140~p142\n",
    "* 了解如何去掉字段前后的空格 strip p143\n",
    "* 本题中会学习 Python 新的格式化字符串 p148\n",
    "* 如何调用 apply 函数 p158, 书上是对整个 DataFrame, 实际应用中可以针对某一列\n",
    "\n",
    "```\n",
    "  df['col_name'].apply(func_name)\n",
    "```\n",
    "* 如何使用用 lambda p169 (书上讲了正则表达式，不熟悉的同学可以跳过正则表达式部分)\n",
    "\n",
    "如果大家有不熟悉的地方可以多看一下这两个 Link:\n",
    "\n",
    "* [pandas apply() 函数用法](https://www.jianshu.com/p/4fdd6eee1b06)\n",
    "* [Python中的lambda和apply用法](https://zhuanlan.zhihu.com/p/42756654)\n",
    "\n",
    "---\n",
    "\n",
    "背景:\n",
    "\n",
    "* 你现在公司财务部，负责整理各个国家的报过来的销售数据\n",
    "* 各国都是以本国货币单位来汇报(USD/GBP等）\n",
    "* 有些销售汇报时，数据前后不小心加了空格要去掉\n",
    "* 今天 Peter 要考你一下，你要用三种方式把销量信息把转成数字\n",
    "\n",
    "---\n",
    "* 读取 world_sales_data.csv 到 sales\n",
    "\n",
    "  字段解释：\n",
    "\n",
    "   sku: 商品编号\n",
    "   \n",
    "   price: 价格\n",
    "   \n",
    "   quantity: 数量\n",
    "   \n",
    "   currency: 货币类型\n",
    "   \n",
    "* 查看 sales 的数据类型\n",
    "\n",
    "* 尝试打印  sales 中的每一个价格 price (前后加 \"*\")\n",
    "\n",
    "* 定义一个空列表: new_prices\n",
    "\n",
    "   遍历 sales 中的每一个价格 price, 去掉前后的空格(strip), 再取第2到最后一个字符，再转成浮点数，最后把它加到列表 new_prices 里\n",
    "\n",
    "* 将 new_prices 放到 sales 的 new_price 列中(会自动创建这一列）\n",
    "\n",
    "* 定义一个函数，名叫 price_convert, 接收一个名为 raw_price 的参数\n",
    "\n",
    "  去掉 raw_price 前后的空格(strip), 再取第2到最后一个字符，再转成浮点数，\n",
    "  \n",
    "  最后返回转换的结果\n",
    "\n",
    "* 尝试打印 sales 第2行，第2列的数据，用 (iloc)\n",
    "\n",
    "* 用 price_convert 转换尝试打印 sales 第2行，第2列的数据，并打印输出\n",
    "\n",
    "* 用 apply + price_convert 将 sales 的 price 列 转换成数字类型\n",
    "\n",
    "  并将转换后的结果放到 sales 的 new_price1 列中\n",
    "  \n",
    "* 使用 apply + lambda 将将 sales 的 price 列 转换成数字类型\n",
    "   \n",
    "  并将转换后的结果放到 sales 的 new_price2 列中  "
   ]
  },
  {
   "cell_type": "code",
   "execution_count": 4,
   "metadata": {
    "ExecuteTime": {
     "end_time": "2020-08-03T03:34:02.091326Z",
     "start_time": "2020-08-03T03:34:02.088710Z"
    }
   },
   "outputs": [],
   "source": [
    "import pandas as pd"
   ]
  },
  {
   "cell_type": "code",
   "execution_count": 53,
   "metadata": {
    "ExecuteTime": {
     "end_time": "2020-08-04T01:15:47.637399Z",
     "start_time": "2020-08-04T01:15:47.627127Z"
    }
   },
   "outputs": [
    {
     "data": {
      "text/html": [
       "<div>\n",
       "<style scoped>\n",
       "    .dataframe tbody tr th:only-of-type {\n",
       "        vertical-align: middle;\n",
       "    }\n",
       "\n",
       "    .dataframe tbody tr th {\n",
       "        vertical-align: top;\n",
       "    }\n",
       "\n",
       "    .dataframe thead th {\n",
       "        text-align: right;\n",
       "    }\n",
       "</style>\n",
       "<table border=\"1\" class=\"dataframe\">\n",
       "  <thead>\n",
       "    <tr style=\"text-align: right;\">\n",
       "      <th></th>\n",
       "      <th>sku</th>\n",
       "      <th>price</th>\n",
       "      <th>quantity</th>\n",
       "      <th>currency</th>\n",
       "    </tr>\n",
       "  </thead>\n",
       "  <tbody>\n",
       "    <tr>\n",
       "      <th>0</th>\n",
       "      <td>A1234</td>\n",
       "      <td>$100</td>\n",
       "      <td>200</td>\n",
       "      <td>USD</td>\n",
       "    </tr>\n",
       "    <tr>\n",
       "      <th>1</th>\n",
       "      <td>A1235</td>\n",
       "      <td>$200</td>\n",
       "      <td>200</td>\n",
       "      <td>USD</td>\n",
       "    </tr>\n",
       "    <tr>\n",
       "      <th>2</th>\n",
       "      <td>A1236</td>\n",
       "      <td>$300</td>\n",
       "      <td>100</td>\n",
       "      <td>USD</td>\n",
       "    </tr>\n",
       "    <tr>\n",
       "      <th>3</th>\n",
       "      <td>A1234</td>\n",
       "      <td>£76</td>\n",
       "      <td>100</td>\n",
       "      <td>GBP</td>\n",
       "    </tr>\n",
       "    <tr>\n",
       "      <th>4</th>\n",
       "      <td>A1235</td>\n",
       "      <td>£160</td>\n",
       "      <td>100</td>\n",
       "      <td>GBP</td>\n",
       "    </tr>\n",
       "    <tr>\n",
       "      <th>5</th>\n",
       "      <td>A1236</td>\n",
       "      <td>£200</td>\n",
       "      <td>60</td>\n",
       "      <td>GBP</td>\n",
       "    </tr>\n",
       "  </tbody>\n",
       "</table>\n",
       "</div>"
      ],
      "text/plain": [
       "     sku  price  quantity currency\n",
       "0  A1234   $100       200      USD\n",
       "1  A1235   $200       200      USD\n",
       "2  A1236   $300       100      USD\n",
       "3  A1234    £76       100      GBP\n",
       "4  A1235   £160       100      GBP\n",
       "5  A1236   £200        60      GBP"
      ]
     },
     "execution_count": 53,
     "metadata": {},
     "output_type": "execute_result"
    }
   ],
   "source": [
    "\"\"\"\n",
    "* 读取 world_sales_data.csv 到 sales\n",
    "\n",
    "  字段解释：\n",
    "\n",
    "   sku: 商品编号\n",
    "   \n",
    "   price: 价格\n",
    "   \n",
    "   quantity: 数量\n",
    "   \n",
    "   currency: 货币类型\n",
    "\"\"\"\n",
    "sales = pd.read_csv(\"world_sales_data.csv\")\n",
    "sales"
   ]
  },
  {
   "cell_type": "code",
   "execution_count": 41,
   "metadata": {
    "ExecuteTime": {
     "end_time": "2020-08-04T01:11:45.487988Z",
     "start_time": "2020-08-04T01:11:45.480729Z"
    }
   },
   "outputs": [
    {
     "data": {
      "text/plain": [
       "sku         object\n",
       "price       object\n",
       "quantity     int64\n",
       "currency    object\n",
       "dtype: object"
      ]
     },
     "execution_count": 41,
     "metadata": {},
     "output_type": "execute_result"
    }
   ],
   "source": [
    "# 查看 sales 的数据类型\n",
    "sales.dtypes"
   ]
  },
  {
   "cell_type": "code",
   "execution_count": 42,
   "metadata": {
    "ExecuteTime": {
     "end_time": "2020-08-04T01:11:45.925666Z",
     "start_time": "2020-08-04T01:11:45.919874Z"
    }
   },
   "outputs": [
    {
     "name": "stdout",
     "output_type": "stream",
     "text": [
      "*$100*\n",
      "* $200*\n",
      "*$300*\n",
      "*£76*\n",
      "* £160*\n",
      "*£200*\n"
     ]
    }
   ],
   "source": [
    "#* 尝试打印  sales 中的每一个价格 price (前后加 \"*\")\n",
    "# 发现有些价格前面有空格\n",
    "# 同时大家看一下书 p148，这种新的字符串拼接的用法\n",
    "for price in sales['price']:\n",
    "    print(f\"*{price}*\")"
   ]
  },
  {
   "cell_type": "code",
   "execution_count": 43,
   "metadata": {
    "ExecuteTime": {
     "end_time": "2020-08-04T01:11:46.126040Z",
     "start_time": "2020-08-04T01:11:46.119622Z"
    }
   },
   "outputs": [
    {
     "name": "stdout",
     "output_type": "stream",
     "text": [
      "*100.0*\n",
      "*200.0*\n",
      "*300.0*\n",
      "*76.0*\n",
      "*160.0*\n",
      "*200.0*\n"
     ]
    },
    {
     "data": {
      "text/plain": [
       "[100.0, 200.0, 300.0, 76.0, 160.0, 200.0]"
      ]
     },
     "execution_count": 43,
     "metadata": {},
     "output_type": "execute_result"
    }
   ],
   "source": [
    "#定义一个空列表: new_prices \n",
    "new_prices = []\n",
    "# 遍历 sales 中的每一个价格 price, 去掉前后的空格(strip), 再取第2到最后一个字符，再再转成浮点数，最后把它加到列表 new_prices 里\n",
    "for price in sales['price']:\n",
    "    new_price = float(price.strip()[1:])\n",
    "    print(f\"*{new_price}*\")\n",
    "    new_prices.append(new_price)\n",
    "new_prices"
   ]
  },
  {
   "cell_type": "code",
   "execution_count": 44,
   "metadata": {
    "ExecuteTime": {
     "end_time": "2020-08-04T01:11:46.319207Z",
     "start_time": "2020-08-04T01:11:46.301894Z"
    }
   },
   "outputs": [
    {
     "data": {
      "text/html": [
       "<div>\n",
       "<style scoped>\n",
       "    .dataframe tbody tr th:only-of-type {\n",
       "        vertical-align: middle;\n",
       "    }\n",
       "\n",
       "    .dataframe tbody tr th {\n",
       "        vertical-align: top;\n",
       "    }\n",
       "\n",
       "    .dataframe thead th {\n",
       "        text-align: right;\n",
       "    }\n",
       "</style>\n",
       "<table border=\"1\" class=\"dataframe\">\n",
       "  <thead>\n",
       "    <tr style=\"text-align: right;\">\n",
       "      <th></th>\n",
       "      <th>sku</th>\n",
       "      <th>price</th>\n",
       "      <th>quantity</th>\n",
       "      <th>currency</th>\n",
       "      <th>new_price</th>\n",
       "    </tr>\n",
       "  </thead>\n",
       "  <tbody>\n",
       "    <tr>\n",
       "      <th>0</th>\n",
       "      <td>A1234</td>\n",
       "      <td>$100</td>\n",
       "      <td>200</td>\n",
       "      <td>USD</td>\n",
       "      <td>100.0</td>\n",
       "    </tr>\n",
       "    <tr>\n",
       "      <th>1</th>\n",
       "      <td>A1235</td>\n",
       "      <td>$200</td>\n",
       "      <td>200</td>\n",
       "      <td>USD</td>\n",
       "      <td>200.0</td>\n",
       "    </tr>\n",
       "    <tr>\n",
       "      <th>2</th>\n",
       "      <td>A1236</td>\n",
       "      <td>$300</td>\n",
       "      <td>100</td>\n",
       "      <td>USD</td>\n",
       "      <td>300.0</td>\n",
       "    </tr>\n",
       "    <tr>\n",
       "      <th>3</th>\n",
       "      <td>A1234</td>\n",
       "      <td>£76</td>\n",
       "      <td>100</td>\n",
       "      <td>GBP</td>\n",
       "      <td>76.0</td>\n",
       "    </tr>\n",
       "    <tr>\n",
       "      <th>4</th>\n",
       "      <td>A1235</td>\n",
       "      <td>£160</td>\n",
       "      <td>100</td>\n",
       "      <td>GBP</td>\n",
       "      <td>160.0</td>\n",
       "    </tr>\n",
       "    <tr>\n",
       "      <th>5</th>\n",
       "      <td>A1236</td>\n",
       "      <td>£200</td>\n",
       "      <td>60</td>\n",
       "      <td>GBP</td>\n",
       "      <td>200.0</td>\n",
       "    </tr>\n",
       "  </tbody>\n",
       "</table>\n",
       "</div>"
      ],
      "text/plain": [
       "     sku  price  quantity currency  new_price\n",
       "0  A1234   $100       200      USD      100.0\n",
       "1  A1235   $200       200      USD      200.0\n",
       "2  A1236   $300       100      USD      300.0\n",
       "3  A1234    £76       100      GBP       76.0\n",
       "4  A1235   £160       100      GBP      160.0\n",
       "5  A1236   £200        60      GBP      200.0"
      ]
     },
     "execution_count": 44,
     "metadata": {},
     "output_type": "execute_result"
    }
   ],
   "source": [
    "# 将 new_prices 放到 sales 的 new_price 列中(会自动创建这一列）\n",
    "\n",
    "sales['new_price'] = new_prices\n",
    "sales"
   ]
  },
  {
   "cell_type": "code",
   "execution_count": 27,
   "metadata": {
    "ExecuteTime": {
     "end_time": "2020-08-03T07:32:30.273150Z",
     "start_time": "2020-08-03T07:32:30.265875Z"
    }
   },
   "outputs": [],
   "source": [
    "# 定义一个函数，名叫 price_convert, 接收一个名为 raw_price 的参数\n",
    "# 去掉 raw_price 前后的空格(strip), 再取第2到最后一个字符，再转成浮点数，\n",
    "# 最后返回转换的结果\n",
    "def price_convert(raw_price):\n",
    "    return float(raw_price.strip()[1:])"
   ]
  },
  {
   "cell_type": "code",
   "execution_count": 23,
   "metadata": {
    "ExecuteTime": {
     "end_time": "2020-08-03T03:37:09.647400Z",
     "start_time": "2020-08-03T03:37:09.644112Z"
    }
   },
   "outputs": [
    {
     "name": "stdout",
     "output_type": "stream",
     "text": [
      "price: * $200*\n",
      "new_price: *200.0*\n"
     ]
    }
   ],
   "source": [
    "# 尝试打印 sales 第2行，第2列的数据，用 (iloc)\n",
    "print(f\"price: *{sales.iloc[1,1]}*\")\n"
   ]
  },
  {
   "cell_type": "code",
   "execution_count": null,
   "metadata": {},
   "outputs": [],
   "source": [
    "# 用 price_convert 转换尝试打印 sales 第2行，第2列的数据\n",
    "# 并打印输出\n",
    "print(f\"new_price: *{price_convert(sales.iloc[1,1])}*\")"
   ]
  },
  {
   "cell_type": "code",
   "execution_count": 24,
   "metadata": {
    "ExecuteTime": {
     "end_time": "2020-08-03T03:37:13.834398Z",
     "start_time": "2020-08-03T03:37:13.829617Z"
    }
   },
   "outputs": [
    {
     "data": {
      "text/plain": [
       "0    100.0\n",
       "1    200.0\n",
       "2    300.0\n",
       "3     76.0\n",
       "4    160.0\n",
       "5    200.0\n",
       "Name: price, dtype: float64"
      ]
     },
     "execution_count": 24,
     "metadata": {},
     "output_type": "execute_result"
    }
   ],
   "source": [
    "# 示例，如何使用 apply + price_convert 函数进行货币转换（非题目）\n",
    "sales['price'].apply(price_convert)"
   ]
  },
  {
   "cell_type": "code",
   "execution_count": 25,
   "metadata": {
    "ExecuteTime": {
     "end_time": "2020-08-03T03:37:15.019439Z",
     "start_time": "2020-08-03T03:37:15.009076Z"
    }
   },
   "outputs": [
    {
     "data": {
      "text/html": [
       "<div>\n",
       "<style scoped>\n",
       "    .dataframe tbody tr th:only-of-type {\n",
       "        vertical-align: middle;\n",
       "    }\n",
       "\n",
       "    .dataframe tbody tr th {\n",
       "        vertical-align: top;\n",
       "    }\n",
       "\n",
       "    .dataframe thead th {\n",
       "        text-align: right;\n",
       "    }\n",
       "</style>\n",
       "<table border=\"1\" class=\"dataframe\">\n",
       "  <thead>\n",
       "    <tr style=\"text-align: right;\">\n",
       "      <th></th>\n",
       "      <th>sku</th>\n",
       "      <th>price</th>\n",
       "      <th>quantity</th>\n",
       "      <th>currency</th>\n",
       "      <th>new_price</th>\n",
       "      <th>new_price1</th>\n",
       "    </tr>\n",
       "  </thead>\n",
       "  <tbody>\n",
       "    <tr>\n",
       "      <th>0</th>\n",
       "      <td>A1234</td>\n",
       "      <td>$100</td>\n",
       "      <td>200</td>\n",
       "      <td>USD</td>\n",
       "      <td>100.0</td>\n",
       "      <td>100.0</td>\n",
       "    </tr>\n",
       "    <tr>\n",
       "      <th>1</th>\n",
       "      <td>A1235</td>\n",
       "      <td>$200</td>\n",
       "      <td>200</td>\n",
       "      <td>USD</td>\n",
       "      <td>200.0</td>\n",
       "      <td>200.0</td>\n",
       "    </tr>\n",
       "    <tr>\n",
       "      <th>2</th>\n",
       "      <td>A1236</td>\n",
       "      <td>$300</td>\n",
       "      <td>100</td>\n",
       "      <td>USD</td>\n",
       "      <td>300.0</td>\n",
       "      <td>300.0</td>\n",
       "    </tr>\n",
       "    <tr>\n",
       "      <th>3</th>\n",
       "      <td>A1234</td>\n",
       "      <td>£76</td>\n",
       "      <td>100</td>\n",
       "      <td>GBP</td>\n",
       "      <td>76.0</td>\n",
       "      <td>76.0</td>\n",
       "    </tr>\n",
       "    <tr>\n",
       "      <th>4</th>\n",
       "      <td>A1235</td>\n",
       "      <td>£160</td>\n",
       "      <td>100</td>\n",
       "      <td>GBP</td>\n",
       "      <td>160.0</td>\n",
       "      <td>160.0</td>\n",
       "    </tr>\n",
       "    <tr>\n",
       "      <th>5</th>\n",
       "      <td>A1236</td>\n",
       "      <td>£200</td>\n",
       "      <td>60</td>\n",
       "      <td>GBP</td>\n",
       "      <td>200.0</td>\n",
       "      <td>200.0</td>\n",
       "    </tr>\n",
       "  </tbody>\n",
       "</table>\n",
       "</div>"
      ],
      "text/plain": [
       "     sku  price  quantity currency  new_price  new_price1\n",
       "0  A1234   $100       200      USD      100.0       100.0\n",
       "1  A1235   $200       200      USD      200.0       200.0\n",
       "2  A1236   $300       100      USD      300.0       300.0\n",
       "3  A1234    £76       100      GBP       76.0        76.0\n",
       "4  A1235   £160       100      GBP      160.0       160.0\n",
       "5  A1236   £200        60      GBP      200.0       200.0"
      ]
     },
     "execution_count": 25,
     "metadata": {},
     "output_type": "execute_result"
    }
   ],
   "source": [
    "# 用 apply + price_convert 将 sales 的 price 列 转换成数字类型\n",
    "# 并将转换后的结果放到 sales 的 new_price1 列中\n",
    "sales['new_price1'] = sales['price'].apply(price_convert)\n",
    "sales"
   ]
  },
  {
   "cell_type": "code",
   "execution_count": 26,
   "metadata": {
    "ExecuteTime": {
     "end_time": "2020-08-03T03:38:31.217123Z",
     "start_time": "2020-08-03T03:38:31.205110Z"
    }
   },
   "outputs": [
    {
     "data": {
      "text/html": [
       "<div>\n",
       "<style scoped>\n",
       "    .dataframe tbody tr th:only-of-type {\n",
       "        vertical-align: middle;\n",
       "    }\n",
       "\n",
       "    .dataframe tbody tr th {\n",
       "        vertical-align: top;\n",
       "    }\n",
       "\n",
       "    .dataframe thead th {\n",
       "        text-align: right;\n",
       "    }\n",
       "</style>\n",
       "<table border=\"1\" class=\"dataframe\">\n",
       "  <thead>\n",
       "    <tr style=\"text-align: right;\">\n",
       "      <th></th>\n",
       "      <th>sku</th>\n",
       "      <th>price</th>\n",
       "      <th>quantity</th>\n",
       "      <th>currency</th>\n",
       "      <th>new_price</th>\n",
       "      <th>new_price1</th>\n",
       "      <th>new_price2</th>\n",
       "    </tr>\n",
       "  </thead>\n",
       "  <tbody>\n",
       "    <tr>\n",
       "      <th>0</th>\n",
       "      <td>A1234</td>\n",
       "      <td>$100</td>\n",
       "      <td>200</td>\n",
       "      <td>USD</td>\n",
       "      <td>100.0</td>\n",
       "      <td>100.0</td>\n",
       "      <td>100.0</td>\n",
       "    </tr>\n",
       "    <tr>\n",
       "      <th>1</th>\n",
       "      <td>A1235</td>\n",
       "      <td>$200</td>\n",
       "      <td>200</td>\n",
       "      <td>USD</td>\n",
       "      <td>200.0</td>\n",
       "      <td>200.0</td>\n",
       "      <td>200.0</td>\n",
       "    </tr>\n",
       "    <tr>\n",
       "      <th>2</th>\n",
       "      <td>A1236</td>\n",
       "      <td>$300</td>\n",
       "      <td>100</td>\n",
       "      <td>USD</td>\n",
       "      <td>300.0</td>\n",
       "      <td>300.0</td>\n",
       "      <td>300.0</td>\n",
       "    </tr>\n",
       "    <tr>\n",
       "      <th>3</th>\n",
       "      <td>A1234</td>\n",
       "      <td>£76</td>\n",
       "      <td>100</td>\n",
       "      <td>GBP</td>\n",
       "      <td>76.0</td>\n",
       "      <td>76.0</td>\n",
       "      <td>76.0</td>\n",
       "    </tr>\n",
       "    <tr>\n",
       "      <th>4</th>\n",
       "      <td>A1235</td>\n",
       "      <td>£160</td>\n",
       "      <td>100</td>\n",
       "      <td>GBP</td>\n",
       "      <td>160.0</td>\n",
       "      <td>160.0</td>\n",
       "      <td>160.0</td>\n",
       "    </tr>\n",
       "    <tr>\n",
       "      <th>5</th>\n",
       "      <td>A1236</td>\n",
       "      <td>£200</td>\n",
       "      <td>60</td>\n",
       "      <td>GBP</td>\n",
       "      <td>200.0</td>\n",
       "      <td>200.0</td>\n",
       "      <td>200.0</td>\n",
       "    </tr>\n",
       "  </tbody>\n",
       "</table>\n",
       "</div>"
      ],
      "text/plain": [
       "     sku  price  quantity currency  new_price  new_price1  new_price2\n",
       "0  A1234   $100       200      USD      100.0       100.0       100.0\n",
       "1  A1235   $200       200      USD      200.0       200.0       200.0\n",
       "2  A1236   $300       100      USD      300.0       300.0       300.0\n",
       "3  A1234    £76       100      GBP       76.0        76.0        76.0\n",
       "4  A1235   £160       100      GBP      160.0       160.0       160.0\n",
       "5  A1236   £200        60      GBP      200.0       200.0       200.0"
      ]
     },
     "execution_count": 26,
     "metadata": {},
     "output_type": "execute_result"
    }
   ],
   "source": [
    "# 使用 apply + lambda 将将 sales 的 price 列 转换成数字类型\n",
    "# 并将转换后的结果放到 sales 的 new_price2 列中\n",
    "sales['new_price2'] = sales['price'].apply(\n",
    "    lambda raw_price: float(raw_price.strip()[1:]) \n",
    ")\n",
    "sales"
   ]
  },
  {
   "cell_type": "markdown",
   "metadata": {},
   "source": [
    "# 5. 参考资料\n",
    "* [pandas apply() 函数用法](https://www.jianshu.com/p/4fdd6eee1b06)\n",
    "* [Python中的lambda和apply用法](https://zhuanlan.zhihu.com/p/42756654)\n"
   ]
  }
 ],
 "metadata": {
  "kernelspec": {
   "display_name": "Python 3",
   "language": "python",
   "name": "python3"
  },
  "language_info": {
   "codemirror_mode": {
    "name": "ipython",
    "version": 3
   },
   "file_extension": ".py",
   "mimetype": "text/x-python",
   "name": "python",
   "nbconvert_exporter": "python",
   "pygments_lexer": "ipython3",
   "version": "3.7.6"
  },
  "toc": {
   "base_numbering": 1,
   "nav_menu": {},
   "number_sections": true,
   "sideBar": true,
   "skip_h1_title": false,
   "title_cell": "Table of Contents",
   "title_sidebar": "Contents",
   "toc_cell": false,
   "toc_position": {},
   "toc_section_display": true,
   "toc_window_display": false
  },
  "varInspector": {
   "cols": {
    "lenName": 16,
    "lenType": 16,
    "lenVar": 40
   },
   "kernels_config": {
    "python": {
     "delete_cmd_postfix": "",
     "delete_cmd_prefix": "del ",
     "library": "var_list.py",
     "varRefreshCmd": "print(var_dic_list())"
    },
    "r": {
     "delete_cmd_postfix": ") ",
     "delete_cmd_prefix": "rm(",
     "library": "var_list.r",
     "varRefreshCmd": "cat(var_dic_list()) "
    }
   },
   "types_to_exclude": [
    "module",
    "function",
    "builtin_function_or_method",
    "instance",
    "_Feature"
   ],
   "window_display": false
  }
 },
 "nbformat": 4,
 "nbformat_minor": 4
}
