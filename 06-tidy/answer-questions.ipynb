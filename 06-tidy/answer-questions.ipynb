{
 "cells": [
  {
   "cell_type": "markdown",
   "metadata": {},
   "source": [
    "# 1. 免学部分\n",
    "* p115~p119\n",
    "* p123\n",
    "* 扣除免学部分还有10面\n",
    "* 但是这一章还是干货很多"
   ]
  },
  {
   "cell_type": "markdown",
   "metadata": {},
   "source": [
    "# 2. 前言\n",
    "\n",
    "* 大家在做题目前一定要先把第6章的书读一下\n",
    "* 写本作业，请使用 Anaconda 里的 Notebook\n",
    "* 我做了一个[打包下载 Link](https://downgit.github.io/#/home?url=https://github.com/liuhui998/pe2/tree/master/06-tidy), 大家下载下来解压后，使用 Notebook 打开"
   ]
  },
  {
   "cell_type": "markdown",
   "metadata": {
    "ExecuteTime": {
     "end_time": "2020-07-29T04:03:22.777970Z",
     "start_time": "2020-07-29T04:03:22.774864Z"
    }
   },
   "source": [
    "# 3. 学习概要\n",
    "* 我会在每道题有前标明对的书页码\n",
    "* 如果超纲我会提前提示，并加上资料 Link\n",
    "---\n",
    "重点知识：\n",
    "\n",
    "整洁数据(Tidy Data), Peter起名叫: 数据 MECE 原则:\n",
    "\n",
    "* 每个观测值成一行\n",
    "* 每个变量成一列\n",
    "* 每种观测单元构成一个表格\n",
    "\n",
    "求卓越的同学可以扫一眼这篇论文：[数据整理（Tidy Data）—翻译Hadley Wickham的一篇论文](https://zhuanlan.zhihu.com/p/27579776)\n",
    "\n",
    "---\n",
    "知识点整理\n",
    "*  pd.melt 把宽表变成窄表  [Pandas melt 使用](https://blog.csdn.net/maymay_/article/details/80039677)\n",
    "*  df.pivot_table 数据透视 [一文看懂 Pandas 透视表](https://zhuanlan.zhihu.com/p/31952948)\n",
    "*  [Pandas之drop_duplicates：去除重复项](https://blog.csdn.net/u010665216/article/details/78559091)\n",
    "\n"
   ]
  },
  {
   "cell_type": "code",
   "execution_count": 1,
   "metadata": {
    "ExecuteTime": {
     "end_time": "2020-08-04T09:19:21.034628Z",
     "start_time": "2020-08-04T09:19:19.228002Z"
    }
   },
   "outputs": [],
   "source": [
    "import numpy as np\n",
    "import pandas as pd\n",
    "import seaborn as sns # 我们这里导入了 seaborn包，为了使用里面的示例数据\n",
    "pd.options.plotting.backend = \"plotly\""
   ]
  },
  {
   "cell_type": "markdown",
   "metadata": {
    "ExecuteTime": {
     "end_time": "2020-07-29T04:06:30.064628Z",
     "start_time": "2020-07-29T04:06:30.062480Z"
    }
   },
   "source": [
    "# 4. 把宽表打成窄表\n",
    "--- \n",
    "备注：这里综合了 p113~p114面的内容\n",
    "\n",
    "* 你现在负责分析各个bu的费用情况\n",
    "* 现在上游的同学，已经把各个 bu 数据做了初步汇总\n",
    "* 现在你要进行更细的分析\n",
    "* 目的是为了：每个观测值成一行，每个变量成一列\n",
    "---\n",
    "* 读取 total_stat.xlsx 到 total_stat (pd.read_excel)\n",
    "   \n",
    "   第1列是  BG名字(bg_name), BU名字(bu_name), 后面12列是 1～12月的费用情况\n",
    "\n",
    "* 将 total_stat 由一张宽表打成一张窄表 (pd.melt)\n",
    "  \n",
    "  保留 bg_name, bu_name 两列 （id_vars = ['bg_name','bu_name'])\n",
    "  \n",
    "  var_name 为 \"month\", value_name 为 \"RMB\"\n",
    "\n",
    "* 统计每个 BU 的费用情况，并且按费用进行降序排序( groupby, sum, sort_values(by=\"col_name\",ascending = False)\n",
    "  \n",
    " "
   ]
  },
  {
   "cell_type": "code",
   "execution_count": 2,
   "metadata": {
    "ExecuteTime": {
     "end_time": "2020-08-04T09:19:21.089397Z",
     "start_time": "2020-08-04T09:19:21.037216Z"
    }
   },
   "outputs": [
    {
     "data": {
      "text/html": [
       "<div>\n",
       "<style scoped>\n",
       "    .dataframe tbody tr th:only-of-type {\n",
       "        vertical-align: middle;\n",
       "    }\n",
       "\n",
       "    .dataframe tbody tr th {\n",
       "        vertical-align: top;\n",
       "    }\n",
       "\n",
       "    .dataframe thead th {\n",
       "        text-align: right;\n",
       "    }\n",
       "</style>\n",
       "<table border=\"1\" class=\"dataframe\">\n",
       "  <thead>\n",
       "    <tr style=\"text-align: right;\">\n",
       "      <th></th>\n",
       "      <th>bg_name</th>\n",
       "      <th>bu_name</th>\n",
       "      <th>1</th>\n",
       "      <th>2</th>\n",
       "      <th>3</th>\n",
       "      <th>4</th>\n",
       "      <th>5</th>\n",
       "      <th>6</th>\n",
       "      <th>7</th>\n",
       "      <th>8</th>\n",
       "      <th>9</th>\n",
       "      <th>10</th>\n",
       "      <th>11</th>\n",
       "      <th>12</th>\n",
       "    </tr>\n",
       "  </thead>\n",
       "  <tbody>\n",
       "    <tr>\n",
       "      <th>0</th>\n",
       "      <td>bg1</td>\n",
       "      <td>bu1</td>\n",
       "      <td>5467.222</td>\n",
       "      <td>6119.272</td>\n",
       "      <td>6428.870</td>\n",
       "      <td>6838.630</td>\n",
       "      <td>7535.284</td>\n",
       "      <td>8161.699</td>\n",
       "      <td>8532.240</td>\n",
       "      <td>8890.367</td>\n",
       "      <td>9697.996</td>\n",
       "      <td>10410.980</td>\n",
       "      <td>10692.954</td>\n",
       "      <td>10989.907</td>\n",
       "    </tr>\n",
       "    <tr>\n",
       "      <th>1</th>\n",
       "      <td>bg1</td>\n",
       "      <td>bu2</td>\n",
       "      <td>5386.665</td>\n",
       "      <td>5868.937</td>\n",
       "      <td>6274.798</td>\n",
       "      <td>6959.654</td>\n",
       "      <td>7504.437</td>\n",
       "      <td>7842.309</td>\n",
       "      <td>8680.299</td>\n",
       "      <td>8833.455</td>\n",
       "      <td>9483.944</td>\n",
       "      <td>9567.996</td>\n",
       "      <td>10480.824</td>\n",
       "      <td>10923.893</td>\n",
       "    </tr>\n",
       "    <tr>\n",
       "      <th>2</th>\n",
       "      <td>bg1</td>\n",
       "      <td>bu3</td>\n",
       "      <td>5392.393</td>\n",
       "      <td>5689.783</td>\n",
       "      <td>6500.498</td>\n",
       "      <td>7125.848</td>\n",
       "      <td>7584.676</td>\n",
       "      <td>8147.405</td>\n",
       "      <td>8145.477</td>\n",
       "      <td>9124.116</td>\n",
       "      <td>9840.914</td>\n",
       "      <td>9949.162</td>\n",
       "      <td>10277.647</td>\n",
       "      <td>10902.508</td>\n",
       "    </tr>\n",
       "    <tr>\n",
       "      <th>3</th>\n",
       "      <td>bg1</td>\n",
       "      <td>bu4</td>\n",
       "      <td>5582.793</td>\n",
       "      <td>6286.096</td>\n",
       "      <td>6482.942</td>\n",
       "      <td>6834.499</td>\n",
       "      <td>7563.993</td>\n",
       "      <td>7970.268</td>\n",
       "      <td>8390.084</td>\n",
       "      <td>9030.530</td>\n",
       "      <td>9644.366</td>\n",
       "      <td>10286.829</td>\n",
       "      <td>10709.009</td>\n",
       "      <td>11120.916</td>\n",
       "    </tr>\n",
       "    <tr>\n",
       "      <th>4</th>\n",
       "      <td>bg1</td>\n",
       "      <td>bu5</td>\n",
       "      <td>5491.237</td>\n",
       "      <td>6153.557</td>\n",
       "      <td>6387.314</td>\n",
       "      <td>6891.101</td>\n",
       "      <td>7436.566</td>\n",
       "      <td>8013.031</td>\n",
       "      <td>8696.517</td>\n",
       "      <td>8650.798</td>\n",
       "      <td>9357.792</td>\n",
       "      <td>9898.767</td>\n",
       "      <td>10594.913</td>\n",
       "      <td>11168.479</td>\n",
       "    </tr>\n",
       "    <tr>\n",
       "      <th>5</th>\n",
       "      <td>bg2</td>\n",
       "      <td>bu6</td>\n",
       "      <td>5482.094</td>\n",
       "      <td>6004.464</td>\n",
       "      <td>6580.063</td>\n",
       "      <td>7226.837</td>\n",
       "      <td>7456.125</td>\n",
       "      <td>8101.319</td>\n",
       "      <td>8509.066</td>\n",
       "      <td>8885.525</td>\n",
       "      <td>9668.551</td>\n",
       "      <td>10037.893</td>\n",
       "      <td>10639.045</td>\n",
       "      <td>10811.615</td>\n",
       "    </tr>\n",
       "    <tr>\n",
       "      <th>6</th>\n",
       "      <td>bg2</td>\n",
       "      <td>bu7</td>\n",
       "      <td>5522.656</td>\n",
       "      <td>5950.143</td>\n",
       "      <td>6411.400</td>\n",
       "      <td>7040.668</td>\n",
       "      <td>7481.248</td>\n",
       "      <td>7869.850</td>\n",
       "      <td>8654.708</td>\n",
       "      <td>9059.935</td>\n",
       "      <td>9494.008</td>\n",
       "      <td>10007.371</td>\n",
       "      <td>10424.638</td>\n",
       "      <td>11024.437</td>\n",
       "    </tr>\n",
       "    <tr>\n",
       "      <th>7</th>\n",
       "      <td>bg2</td>\n",
       "      <td>bu8</td>\n",
       "      <td>5379.041</td>\n",
       "      <td>6127.860</td>\n",
       "      <td>6544.731</td>\n",
       "      <td>6822.718</td>\n",
       "      <td>7375.903</td>\n",
       "      <td>8116.186</td>\n",
       "      <td>8836.734</td>\n",
       "      <td>9109.103</td>\n",
       "      <td>9468.940</td>\n",
       "      <td>9920.194</td>\n",
       "      <td>10626.707</td>\n",
       "      <td>11001.860</td>\n",
       "    </tr>\n",
       "    <tr>\n",
       "      <th>8</th>\n",
       "      <td>bg2</td>\n",
       "      <td>bu9</td>\n",
       "      <td>5575.877</td>\n",
       "      <td>6061.478</td>\n",
       "      <td>6416.372</td>\n",
       "      <td>7212.259</td>\n",
       "      <td>7310.406</td>\n",
       "      <td>8122.829</td>\n",
       "      <td>8562.822</td>\n",
       "      <td>9183.553</td>\n",
       "      <td>9617.876</td>\n",
       "      <td>9815.059</td>\n",
       "      <td>10402.755</td>\n",
       "      <td>11059.499</td>\n",
       "    </tr>\n",
       "    <tr>\n",
       "      <th>9</th>\n",
       "      <td>bg2</td>\n",
       "      <td>buX</td>\n",
       "      <td>5456.356</td>\n",
       "      <td>5972.015</td>\n",
       "      <td>6482.856</td>\n",
       "      <td>7143.421</td>\n",
       "      <td>7644.347</td>\n",
       "      <td>7845.157</td>\n",
       "      <td>8480.400</td>\n",
       "      <td>9057.831</td>\n",
       "      <td>9408.584</td>\n",
       "      <td>10003.083</td>\n",
       "      <td>10642.889</td>\n",
       "      <td>10809.798</td>\n",
       "    </tr>\n",
       "  </tbody>\n",
       "</table>\n",
       "</div>"
      ],
      "text/plain": [
       "  bg_name bu_name         1         2         3         4         5         6  \\\n",
       "0     bg1     bu1  5467.222  6119.272  6428.870  6838.630  7535.284  8161.699   \n",
       "1     bg1     bu2  5386.665  5868.937  6274.798  6959.654  7504.437  7842.309   \n",
       "2     bg1     bu3  5392.393  5689.783  6500.498  7125.848  7584.676  8147.405   \n",
       "3     bg1     bu4  5582.793  6286.096  6482.942  6834.499  7563.993  7970.268   \n",
       "4     bg1     bu5  5491.237  6153.557  6387.314  6891.101  7436.566  8013.031   \n",
       "5     bg2     bu6  5482.094  6004.464  6580.063  7226.837  7456.125  8101.319   \n",
       "6     bg2     bu7  5522.656  5950.143  6411.400  7040.668  7481.248  7869.850   \n",
       "7     bg2     bu8  5379.041  6127.860  6544.731  6822.718  7375.903  8116.186   \n",
       "8     bg2     bu9  5575.877  6061.478  6416.372  7212.259  7310.406  8122.829   \n",
       "9     bg2     buX  5456.356  5972.015  6482.856  7143.421  7644.347  7845.157   \n",
       "\n",
       "          7         8         9         10         11         12  \n",
       "0  8532.240  8890.367  9697.996  10410.980  10692.954  10989.907  \n",
       "1  8680.299  8833.455  9483.944   9567.996  10480.824  10923.893  \n",
       "2  8145.477  9124.116  9840.914   9949.162  10277.647  10902.508  \n",
       "3  8390.084  9030.530  9644.366  10286.829  10709.009  11120.916  \n",
       "4  8696.517  8650.798  9357.792   9898.767  10594.913  11168.479  \n",
       "5  8509.066  8885.525  9668.551  10037.893  10639.045  10811.615  \n",
       "6  8654.708  9059.935  9494.008  10007.371  10424.638  11024.437  \n",
       "7  8836.734  9109.103  9468.940   9920.194  10626.707  11001.860  \n",
       "8  8562.822  9183.553  9617.876   9815.059  10402.755  11059.499  \n",
       "9  8480.400  9057.831  9408.584  10003.083  10642.889  10809.798  "
      ]
     },
     "execution_count": 2,
     "metadata": {},
     "output_type": "execute_result"
    }
   ],
   "source": [
    "#读取 total_stat.xlsx 到 total_stat (pd.read_excel)\n",
    "#   第1列是  BG名字(bg_name), BU名字(bu_name), 后面12列是 1～12月的费用情况\n",
    "total_stat = pd.read_excel(\"total_stat.xlsx\")\n",
    "total_stat"
   ]
  },
  {
   "cell_type": "code",
   "execution_count": 3,
   "metadata": {
    "ExecuteTime": {
     "end_time": "2020-08-04T09:19:21.109236Z",
     "start_time": "2020-08-04T09:19:21.091814Z"
    }
   },
   "outputs": [
    {
     "data": {
      "text/html": [
       "<div>\n",
       "<style scoped>\n",
       "    .dataframe tbody tr th:only-of-type {\n",
       "        vertical-align: middle;\n",
       "    }\n",
       "\n",
       "    .dataframe tbody tr th {\n",
       "        vertical-align: top;\n",
       "    }\n",
       "\n",
       "    .dataframe thead th {\n",
       "        text-align: right;\n",
       "    }\n",
       "</style>\n",
       "<table border=\"1\" class=\"dataframe\">\n",
       "  <thead>\n",
       "    <tr style=\"text-align: right;\">\n",
       "      <th></th>\n",
       "      <th>bg_name</th>\n",
       "      <th>bu_name</th>\n",
       "      <th>month</th>\n",
       "      <th>RMB</th>\n",
       "    </tr>\n",
       "  </thead>\n",
       "  <tbody>\n",
       "    <tr>\n",
       "      <th>0</th>\n",
       "      <td>bg1</td>\n",
       "      <td>bu1</td>\n",
       "      <td>1</td>\n",
       "      <td>5467.222</td>\n",
       "    </tr>\n",
       "    <tr>\n",
       "      <th>1</th>\n",
       "      <td>bg1</td>\n",
       "      <td>bu2</td>\n",
       "      <td>1</td>\n",
       "      <td>5386.665</td>\n",
       "    </tr>\n",
       "    <tr>\n",
       "      <th>2</th>\n",
       "      <td>bg1</td>\n",
       "      <td>bu3</td>\n",
       "      <td>1</td>\n",
       "      <td>5392.393</td>\n",
       "    </tr>\n",
       "    <tr>\n",
       "      <th>3</th>\n",
       "      <td>bg1</td>\n",
       "      <td>bu4</td>\n",
       "      <td>1</td>\n",
       "      <td>5582.793</td>\n",
       "    </tr>\n",
       "    <tr>\n",
       "      <th>4</th>\n",
       "      <td>bg1</td>\n",
       "      <td>bu5</td>\n",
       "      <td>1</td>\n",
       "      <td>5491.237</td>\n",
       "    </tr>\n",
       "    <tr>\n",
       "      <th>...</th>\n",
       "      <td>...</td>\n",
       "      <td>...</td>\n",
       "      <td>...</td>\n",
       "      <td>...</td>\n",
       "    </tr>\n",
       "    <tr>\n",
       "      <th>115</th>\n",
       "      <td>bg2</td>\n",
       "      <td>bu6</td>\n",
       "      <td>12</td>\n",
       "      <td>10811.615</td>\n",
       "    </tr>\n",
       "    <tr>\n",
       "      <th>116</th>\n",
       "      <td>bg2</td>\n",
       "      <td>bu7</td>\n",
       "      <td>12</td>\n",
       "      <td>11024.437</td>\n",
       "    </tr>\n",
       "    <tr>\n",
       "      <th>117</th>\n",
       "      <td>bg2</td>\n",
       "      <td>bu8</td>\n",
       "      <td>12</td>\n",
       "      <td>11001.860</td>\n",
       "    </tr>\n",
       "    <tr>\n",
       "      <th>118</th>\n",
       "      <td>bg2</td>\n",
       "      <td>bu9</td>\n",
       "      <td>12</td>\n",
       "      <td>11059.499</td>\n",
       "    </tr>\n",
       "    <tr>\n",
       "      <th>119</th>\n",
       "      <td>bg2</td>\n",
       "      <td>buX</td>\n",
       "      <td>12</td>\n",
       "      <td>10809.798</td>\n",
       "    </tr>\n",
       "  </tbody>\n",
       "</table>\n",
       "<p>120 rows × 4 columns</p>\n",
       "</div>"
      ],
      "text/plain": [
       "    bg_name bu_name month        RMB\n",
       "0       bg1     bu1     1   5467.222\n",
       "1       bg1     bu2     1   5386.665\n",
       "2       bg1     bu3     1   5392.393\n",
       "3       bg1     bu4     1   5582.793\n",
       "4       bg1     bu5     1   5491.237\n",
       "..      ...     ...   ...        ...\n",
       "115     bg2     bu6    12  10811.615\n",
       "116     bg2     bu7    12  11024.437\n",
       "117     bg2     bu8    12  11001.860\n",
       "118     bg2     bu9    12  11059.499\n",
       "119     bg2     buX    12  10809.798\n",
       "\n",
       "[120 rows x 4 columns]"
      ]
     },
     "execution_count": 3,
     "metadata": {},
     "output_type": "execute_result"
    }
   ],
   "source": [
    "#将 total_stat 由一张宽表打成一张窄表 (pd.melt)\n",
    "#保留 bg_name, bu_name 两列 （id_vars = ['bg_name','bu_name'])\n",
    "#var_name 为 \"month\", value_name 为 \"RMB\"\n",
    "\n",
    "total = pd.melt(\n",
    "    total_stat,\n",
    "    id_vars = [\"bg_name\",'bu_name'],\n",
    "    var_name = \"month\",\n",
    "    value_name = \"RMB\"\n",
    ")\n",
    "total"
   ]
  },
  {
   "cell_type": "code",
   "execution_count": 4,
   "metadata": {
    "ExecuteTime": {
     "end_time": "2020-08-04T09:19:21.120834Z",
     "start_time": "2020-08-04T09:19:21.111047Z"
    }
   },
   "outputs": [
    {
     "data": {
      "text/html": [
       "<div>\n",
       "<style scoped>\n",
       "    .dataframe tbody tr th:only-of-type {\n",
       "        vertical-align: middle;\n",
       "    }\n",
       "\n",
       "    .dataframe tbody tr th {\n",
       "        vertical-align: top;\n",
       "    }\n",
       "\n",
       "    .dataframe thead th {\n",
       "        text-align: right;\n",
       "    }\n",
       "</style>\n",
       "<table border=\"1\" class=\"dataframe\">\n",
       "  <thead>\n",
       "    <tr style=\"text-align: right;\">\n",
       "      <th></th>\n",
       "      <th>RMB</th>\n",
       "    </tr>\n",
       "    <tr>\n",
       "      <th>bu_name</th>\n",
       "      <th></th>\n",
       "    </tr>\n",
       "  </thead>\n",
       "  <tbody>\n",
       "    <tr>\n",
       "      <th>bu4</th>\n",
       "      <td>99902.325</td>\n",
       "    </tr>\n",
       "    <tr>\n",
       "      <th>bu1</th>\n",
       "      <td>99765.421</td>\n",
       "    </tr>\n",
       "    <tr>\n",
       "      <th>bu6</th>\n",
       "      <td>99402.597</td>\n",
       "    </tr>\n",
       "    <tr>\n",
       "      <th>bu9</th>\n",
       "      <td>99340.785</td>\n",
       "    </tr>\n",
       "    <tr>\n",
       "      <th>bu8</th>\n",
       "      <td>99329.977</td>\n",
       "    </tr>\n",
       "    <tr>\n",
       "      <th>buX</th>\n",
       "      <td>98946.737</td>\n",
       "    </tr>\n",
       "    <tr>\n",
       "      <th>bu7</th>\n",
       "      <td>98941.062</td>\n",
       "    </tr>\n",
       "    <tr>\n",
       "      <th>bu5</th>\n",
       "      <td>98740.072</td>\n",
       "    </tr>\n",
       "    <tr>\n",
       "      <th>bu3</th>\n",
       "      <td>98680.427</td>\n",
       "    </tr>\n",
       "    <tr>\n",
       "      <th>bu2</th>\n",
       "      <td>97807.211</td>\n",
       "    </tr>\n",
       "  </tbody>\n",
       "</table>\n",
       "</div>"
      ],
      "text/plain": [
       "               RMB\n",
       "bu_name           \n",
       "bu4      99902.325\n",
       "bu1      99765.421\n",
       "bu6      99402.597\n",
       "bu9      99340.785\n",
       "bu8      99329.977\n",
       "buX      98946.737\n",
       "bu7      98941.062\n",
       "bu5      98740.072\n",
       "bu3      98680.427\n",
       "bu2      97807.211"
      ]
     },
     "execution_count": 4,
     "metadata": {},
     "output_type": "execute_result"
    }
   ],
   "source": [
    "#统计每个 BU 的费用情况，并且按费用进行降序排序\n",
    "#( groupby, sum, sort_values(by=\"col_name\",ascending = False)\n",
    "# 学习时习之！\n",
    "total.groupby([\"bu_name\"]).sum().sort_values(by=\"RMB\",ascending = False)"
   ]
  },
  {
   "cell_type": "markdown",
   "metadata": {
    "ExecuteTime": {
     "end_time": "2020-07-29T04:07:24.198404Z",
     "start_time": "2020-07-29T04:07:24.196331Z"
    }
   },
   "source": [
    "# 5. 数据透视表\n",
    "\n",
    "---\n",
    "备注：这里综合了 p113~p114面的内容，同时我们也会介绍很多书上没有使用的参数\n",
    "\n",
    "* 我们现在分析泰坦尼克号生还者的数据\n",
    "* 我们想知道生还者的构成，想知道Jack为什么会死\n",
    "* pivot_table 也是 melt 的逆向操作，\n",
    "  pivot_table 是 DataFrame 对象的一个成员函数，而 melt 是 pandas(pd) 下的一个函数\n",
    "  \n",
    "---\n",
    "* 我现在给大家导入了一个叫 titanic 的 DataFrame\n",
    "\n",
    "* 里面每行数据代表一个乘客数据（同学们这个数据后面都代表着一个鲜活的生命)\n",
    "\n",
    "  字段介绍\n",
    "  \n",
    "  survived (是否生还, 1代表生还，0代表未生还)\n",
    "  \n",
    "  sex      (性别)\n",
    "  \n",
    "  age      (年龄)\n",
    "  \n",
    "  fare     (船票价)\n",
    "  \n",
    "  class    (在什么等级的船舱, First/Second/Third)\n",
    "  \n",
    "* 建一个透视表， 索引名是 sex, 列名是船舱等级，值是生还比 (df.pivot_table)\n",
    "   \n",
    "   index = \"sex\", columns =\"class\", values = \"survived\"\n",
    "   \n",
    "   因为 pivot_table 会自动算平均，所以会自动算出生还比\n",
    "   \n",
    "*  按是否成年来分析生还数据   \n",
    "\n",
    "*  使用 aggfunc 参数来统计还人数\n",
    "  \n",
    "---\n",
    "相关资料：\n",
    "\n",
    "* [一文看懂 Pandas 透视表](https://zhuanlan.zhihu.com/p/31952948)\n",
    "* [Python: Pandas中stack和unstack的形象理解](https://blog.csdn.net/anshuai_aw1/article/details/82830916) #补充资料，选 学\n"
   ]
  },
  {
   "cell_type": "code",
   "execution_count": 5,
   "metadata": {
    "ExecuteTime": {
     "end_time": "2020-08-04T09:19:21.148235Z",
     "start_time": "2020-08-04T09:19:21.122486Z"
    }
   },
   "outputs": [
    {
     "name": "stdout",
     "output_type": "stream",
     "text": [
      "(891, 15)\n"
     ]
    },
    {
     "data": {
      "text/html": [
       "<div>\n",
       "<style scoped>\n",
       "    .dataframe tbody tr th:only-of-type {\n",
       "        vertical-align: middle;\n",
       "    }\n",
       "\n",
       "    .dataframe tbody tr th {\n",
       "        vertical-align: top;\n",
       "    }\n",
       "\n",
       "    .dataframe thead th {\n",
       "        text-align: right;\n",
       "    }\n",
       "</style>\n",
       "<table border=\"1\" class=\"dataframe\">\n",
       "  <thead>\n",
       "    <tr style=\"text-align: right;\">\n",
       "      <th></th>\n",
       "      <th>survived</th>\n",
       "      <th>pclass</th>\n",
       "      <th>sex</th>\n",
       "      <th>age</th>\n",
       "      <th>sibsp</th>\n",
       "      <th>parch</th>\n",
       "      <th>fare</th>\n",
       "      <th>embarked</th>\n",
       "      <th>class</th>\n",
       "      <th>who</th>\n",
       "      <th>adult_male</th>\n",
       "      <th>deck</th>\n",
       "      <th>embark_town</th>\n",
       "      <th>alive</th>\n",
       "      <th>alone</th>\n",
       "    </tr>\n",
       "  </thead>\n",
       "  <tbody>\n",
       "    <tr>\n",
       "      <th>0</th>\n",
       "      <td>0</td>\n",
       "      <td>3</td>\n",
       "      <td>male</td>\n",
       "      <td>22.0</td>\n",
       "      <td>1</td>\n",
       "      <td>0</td>\n",
       "      <td>7.2500</td>\n",
       "      <td>S</td>\n",
       "      <td>Third</td>\n",
       "      <td>man</td>\n",
       "      <td>True</td>\n",
       "      <td>NaN</td>\n",
       "      <td>Southampton</td>\n",
       "      <td>no</td>\n",
       "      <td>False</td>\n",
       "    </tr>\n",
       "    <tr>\n",
       "      <th>1</th>\n",
       "      <td>1</td>\n",
       "      <td>1</td>\n",
       "      <td>female</td>\n",
       "      <td>38.0</td>\n",
       "      <td>1</td>\n",
       "      <td>0</td>\n",
       "      <td>71.2833</td>\n",
       "      <td>C</td>\n",
       "      <td>First</td>\n",
       "      <td>woman</td>\n",
       "      <td>False</td>\n",
       "      <td>C</td>\n",
       "      <td>Cherbourg</td>\n",
       "      <td>yes</td>\n",
       "      <td>False</td>\n",
       "    </tr>\n",
       "    <tr>\n",
       "      <th>2</th>\n",
       "      <td>1</td>\n",
       "      <td>3</td>\n",
       "      <td>female</td>\n",
       "      <td>26.0</td>\n",
       "      <td>0</td>\n",
       "      <td>0</td>\n",
       "      <td>7.9250</td>\n",
       "      <td>S</td>\n",
       "      <td>Third</td>\n",
       "      <td>woman</td>\n",
       "      <td>False</td>\n",
       "      <td>NaN</td>\n",
       "      <td>Southampton</td>\n",
       "      <td>yes</td>\n",
       "      <td>True</td>\n",
       "    </tr>\n",
       "    <tr>\n",
       "      <th>3</th>\n",
       "      <td>1</td>\n",
       "      <td>1</td>\n",
       "      <td>female</td>\n",
       "      <td>35.0</td>\n",
       "      <td>1</td>\n",
       "      <td>0</td>\n",
       "      <td>53.1000</td>\n",
       "      <td>S</td>\n",
       "      <td>First</td>\n",
       "      <td>woman</td>\n",
       "      <td>False</td>\n",
       "      <td>C</td>\n",
       "      <td>Southampton</td>\n",
       "      <td>yes</td>\n",
       "      <td>False</td>\n",
       "    </tr>\n",
       "    <tr>\n",
       "      <th>4</th>\n",
       "      <td>0</td>\n",
       "      <td>3</td>\n",
       "      <td>male</td>\n",
       "      <td>35.0</td>\n",
       "      <td>0</td>\n",
       "      <td>0</td>\n",
       "      <td>8.0500</td>\n",
       "      <td>S</td>\n",
       "      <td>Third</td>\n",
       "      <td>man</td>\n",
       "      <td>True</td>\n",
       "      <td>NaN</td>\n",
       "      <td>Southampton</td>\n",
       "      <td>no</td>\n",
       "      <td>True</td>\n",
       "    </tr>\n",
       "  </tbody>\n",
       "</table>\n",
       "</div>"
      ],
      "text/plain": [
       "   survived  pclass     sex   age  sibsp  parch     fare embarked  class  \\\n",
       "0         0       3    male  22.0      1      0   7.2500        S  Third   \n",
       "1         1       1  female  38.0      1      0  71.2833        C  First   \n",
       "2         1       3  female  26.0      0      0   7.9250        S  Third   \n",
       "3         1       1  female  35.0      1      0  53.1000        S  First   \n",
       "4         0       3    male  35.0      0      0   8.0500        S  Third   \n",
       "\n",
       "     who  adult_male deck  embark_town alive  alone  \n",
       "0    man        True  NaN  Southampton    no  False  \n",
       "1  woman       False    C    Cherbourg   yes  False  \n",
       "2  woman       False  NaN  Southampton   yes   True  \n",
       "3  woman       False    C  Southampton   yes  False  \n",
       "4    man        True  NaN  Southampton    no   True  "
      ]
     },
     "execution_count": 5,
     "metadata": {},
     "output_type": "execute_result"
    }
   ],
   "source": [
    "#我现在给大家导入了一个叫 titanic 的 DataFrame （非题目）\n",
    "titanic = sns.load_dataset(\"titanic\")\n",
    "print(titanic.shape)\n",
    "titanic.head()"
   ]
  },
  {
   "cell_type": "code",
   "execution_count": 6,
   "metadata": {
    "ExecuteTime": {
     "end_time": "2020-08-04T09:19:21.160081Z",
     "start_time": "2020-08-04T09:19:21.155193Z"
    }
   },
   "outputs": [
    {
     "data": {
      "text/plain": [
       "Index(['survived', 'pclass', 'sex', 'age', 'sibsp', 'parch', 'fare',\n",
       "       'embarked', 'class', 'who', 'adult_male', 'deck', 'embark_town',\n",
       "       'alive', 'alone'],\n",
       "      dtype='object')"
      ]
     },
     "execution_count": 6,
     "metadata": {},
     "output_type": "execute_result"
    }
   ],
   "source": [
    "''' （非题目）\n",
    "  里面每行数据代表一个乘客数据（同学们这个数据后面都代表着一个鲜活的生命)\n",
    "  字段介绍：\n",
    "  survived (是否生还, 1代表生还，0代表未生还)  \n",
    "  sex      (性别)  \n",
    "  age      (年龄)\n",
    "  fare     (船票价)\n",
    "  class    (在什么等级的船舱, First/Second/Third)\n",
    "'''  \n",
    "titanic.columns"
   ]
  },
  {
   "cell_type": "code",
   "execution_count": 7,
   "metadata": {
    "ExecuteTime": {
     "end_time": "2020-08-04T09:19:21.186332Z",
     "start_time": "2020-08-04T09:19:21.161995Z"
    }
   },
   "outputs": [
    {
     "data": {
      "text/html": [
       "<div>\n",
       "<style scoped>\n",
       "    .dataframe tbody tr th:only-of-type {\n",
       "        vertical-align: middle;\n",
       "    }\n",
       "\n",
       "    .dataframe tbody tr th {\n",
       "        vertical-align: top;\n",
       "    }\n",
       "\n",
       "    .dataframe thead th {\n",
       "        text-align: right;\n",
       "    }\n",
       "</style>\n",
       "<table border=\"1\" class=\"dataframe\">\n",
       "  <thead>\n",
       "    <tr style=\"text-align: right;\">\n",
       "      <th>class</th>\n",
       "      <th>First</th>\n",
       "      <th>Second</th>\n",
       "      <th>Third</th>\n",
       "    </tr>\n",
       "    <tr>\n",
       "      <th>sex</th>\n",
       "      <th></th>\n",
       "      <th></th>\n",
       "      <th></th>\n",
       "    </tr>\n",
       "  </thead>\n",
       "  <tbody>\n",
       "    <tr>\n",
       "      <th>female</th>\n",
       "      <td>0.968085</td>\n",
       "      <td>0.921053</td>\n",
       "      <td>0.500000</td>\n",
       "    </tr>\n",
       "    <tr>\n",
       "      <th>male</th>\n",
       "      <td>0.368852</td>\n",
       "      <td>0.157407</td>\n",
       "      <td>0.135447</td>\n",
       "    </tr>\n",
       "  </tbody>\n",
       "</table>\n",
       "</div>"
      ],
      "text/plain": [
       "class      First    Second     Third\n",
       "sex                                 \n",
       "female  0.968085  0.921053  0.500000\n",
       "male    0.368852  0.157407  0.135447"
      ]
     },
     "execution_count": 7,
     "metadata": {},
     "output_type": "execute_result"
    }
   ],
   "source": [
    "'''\n",
    "建一个透视表， 索引名是 sex, 列名是船舱等级，值是生还比 (df.pivot_table)   \n",
    "   index = \"sex\", columns =\"class\", values = \"sumrvived\"   \n",
    "   因为 pivot_table 会自动算平均，所以会自动算出生还比\n",
    "'''   \n",
    "titanic.pivot_table(index='sex',columns='class',values='survived')"
   ]
  },
  {
   "cell_type": "code",
   "execution_count": 8,
   "metadata": {
    "ExecuteTime": {
     "end_time": "2020-08-04T09:19:21.190982Z",
     "start_time": "2020-08-04T09:19:21.188506Z"
    }
   },
   "outputs": [],
   "source": [
    "# 给大家出一个思考题，看了上面的数据，大家会有什么样的结论\n"
   ]
  },
  {
   "cell_type": "markdown",
   "metadata": {},
   "source": [
    "### 下面解释一下，如果不用 pivot_table 函数，怎么生透视表"
   ]
  },
  {
   "cell_type": "code",
   "execution_count": 9,
   "metadata": {
    "ExecuteTime": {
     "end_time": "2020-08-04T09:19:21.204465Z",
     "start_time": "2020-08-04T09:19:21.192930Z"
    }
   },
   "outputs": [
    {
     "data": {
      "text/plain": [
       "sex     class \n",
       "female  First     0.968085\n",
       "        Second    0.921053\n",
       "        Third     0.500000\n",
       "male    First     0.368852\n",
       "        Second    0.157407\n",
       "        Third     0.135447\n",
       "Name: survived, dtype: float64"
      ]
     },
     "execution_count": 9,
     "metadata": {},
     "output_type": "execute_result"
    }
   ],
   "source": [
    "# 对titanic按 sex（性别）,class（船仓） 进行 groupby 分组\n",
    "# 最后对 survived (生还数据) 求平均，算出不同组合下的生还率\n",
    "t = titanic.groupby(['sex','class'])['survived'].mean()\n",
    "t"
   ]
  },
  {
   "cell_type": "code",
   "execution_count": 10,
   "metadata": {
    "ExecuteTime": {
     "end_time": "2020-08-04T09:19:21.212695Z",
     "start_time": "2020-08-04T09:19:21.206943Z"
    }
   },
   "outputs": [
    {
     "data": {
      "text/plain": [
       "MultiIndex([('female',  'First'),\n",
       "            ('female', 'Second'),\n",
       "            ('female',  'Third'),\n",
       "            (  'male',  'First'),\n",
       "            (  'male', 'Second'),\n",
       "            (  'male',  'Third')],\n",
       "           names=['sex', 'class'])"
      ]
     },
     "execution_count": 10,
     "metadata": {},
     "output_type": "execute_result"
    }
   ],
   "source": [
    "# 因为是对 'sex','class' 两列进行分组\n",
    "# 所以索引也有两列\n",
    "t.index"
   ]
  },
  {
   "cell_type": "code",
   "execution_count": 11,
   "metadata": {
    "ExecuteTime": {
     "end_time": "2020-08-04T09:19:21.228756Z",
     "start_time": "2020-08-04T09:19:21.214612Z"
    }
   },
   "outputs": [
    {
     "data": {
      "text/html": [
       "<div>\n",
       "<style scoped>\n",
       "    .dataframe tbody tr th:only-of-type {\n",
       "        vertical-align: middle;\n",
       "    }\n",
       "\n",
       "    .dataframe tbody tr th {\n",
       "        vertical-align: top;\n",
       "    }\n",
       "\n",
       "    .dataframe thead th {\n",
       "        text-align: right;\n",
       "    }\n",
       "</style>\n",
       "<table border=\"1\" class=\"dataframe\">\n",
       "  <thead>\n",
       "    <tr style=\"text-align: right;\">\n",
       "      <th>class</th>\n",
       "      <th>First</th>\n",
       "      <th>Second</th>\n",
       "      <th>Third</th>\n",
       "    </tr>\n",
       "    <tr>\n",
       "      <th>sex</th>\n",
       "      <th></th>\n",
       "      <th></th>\n",
       "      <th></th>\n",
       "    </tr>\n",
       "  </thead>\n",
       "  <tbody>\n",
       "    <tr>\n",
       "      <th>female</th>\n",
       "      <td>0.968085</td>\n",
       "      <td>0.921053</td>\n",
       "      <td>0.500000</td>\n",
       "    </tr>\n",
       "    <tr>\n",
       "      <th>male</th>\n",
       "      <td>0.368852</td>\n",
       "      <td>0.157407</td>\n",
       "      <td>0.135447</td>\n",
       "    </tr>\n",
       "  </tbody>\n",
       "</table>\n",
       "</div>"
      ],
      "text/plain": [
       "class      First    Second     Third\n",
       "sex                                 \n",
       "female  0.968085  0.921053  0.500000\n",
       "male    0.368852  0.157407  0.135447"
      ]
     },
     "execution_count": 11,
     "metadata": {},
     "output_type": "execute_result"
    }
   ],
   "source": [
    "#  使用unstack, 把一列索引打成层次化索引\n",
    "#  老实讲 unstack 我也不大熟，大家可以看文档\n",
    "t.unstack()"
   ]
  },
  {
   "cell_type": "code",
   "execution_count": 12,
   "metadata": {
    "ExecuteTime": {
     "end_time": "2020-08-04T09:19:21.247023Z",
     "start_time": "2020-08-04T09:19:21.231264Z"
    }
   },
   "outputs": [
    {
     "data": {
      "text/plain": [
       "0      (18.0, 80.0]\n",
       "1      (18.0, 80.0]\n",
       "2      (18.0, 80.0]\n",
       "3      (18.0, 80.0]\n",
       "4      (18.0, 80.0]\n",
       "           ...     \n",
       "886    (18.0, 80.0]\n",
       "887    (18.0, 80.0]\n",
       "888             NaN\n",
       "889    (18.0, 80.0]\n",
       "890    (18.0, 80.0]\n",
       "Name: age, Length: 891, dtype: category\n",
       "Categories (2, interval[int64]): [(0, 18] < (18, 80]]"
      ]
     },
     "execution_count": 12,
     "metadata": {},
     "output_type": "execute_result"
    }
   ],
   "source": [
    "# 按是否成年来分析生还数据 （非题目）\n",
    "#  有同学之前问怎么按价格段进行分析\n",
    "# 那么我这理按年龄段进行分析，大家可以把它套用到业务上\n",
    "# 先按年龄段来对 age 进行数据分组\n",
    "age = pd.cut(titanic['age'],[0,18,80])\n",
    "age"
   ]
  },
  {
   "cell_type": "code",
   "execution_count": 13,
   "metadata": {
    "ExecuteTime": {
     "end_time": "2020-08-04T09:19:21.260697Z",
     "start_time": "2020-08-04T09:19:21.249986Z"
    }
   },
   "outputs": [
    {
     "data": {
      "text/plain": [
       "[(18.0, 80.0], NaN, (0.0, 18.0]]\n",
       "Categories (2, interval[int64]): [(0, 18] < (18, 80]]"
      ]
     },
     "execution_count": 13,
     "metadata": {},
     "output_type": "execute_result"
    }
   ],
   "source": [
    "# 对非组数据进行去重(非题目)\n",
    "age.unique()"
   ]
  },
  {
   "cell_type": "code",
   "execution_count": 14,
   "metadata": {
    "ExecuteTime": {
     "end_time": "2020-08-04T09:19:21.298724Z",
     "start_time": "2020-08-04T09:19:21.263319Z"
    }
   },
   "outputs": [
    {
     "data": {
      "text/html": [
       "<div>\n",
       "<style scoped>\n",
       "    .dataframe tbody tr th:only-of-type {\n",
       "        vertical-align: middle;\n",
       "    }\n",
       "\n",
       "    .dataframe tbody tr th {\n",
       "        vertical-align: top;\n",
       "    }\n",
       "\n",
       "    .dataframe thead th {\n",
       "        text-align: right;\n",
       "    }\n",
       "</style>\n",
       "<table border=\"1\" class=\"dataframe\">\n",
       "  <thead>\n",
       "    <tr style=\"text-align: right;\">\n",
       "      <th></th>\n",
       "      <th>class</th>\n",
       "      <th>First</th>\n",
       "      <th>Second</th>\n",
       "      <th>Third</th>\n",
       "    </tr>\n",
       "    <tr>\n",
       "      <th>sex</th>\n",
       "      <th>age</th>\n",
       "      <th></th>\n",
       "      <th></th>\n",
       "      <th></th>\n",
       "    </tr>\n",
       "  </thead>\n",
       "  <tbody>\n",
       "    <tr>\n",
       "      <th rowspan=\"2\" valign=\"top\">female</th>\n",
       "      <th>(0, 18]</th>\n",
       "      <td>0.909091</td>\n",
       "      <td>1.000000</td>\n",
       "      <td>0.511628</td>\n",
       "    </tr>\n",
       "    <tr>\n",
       "      <th>(18, 80]</th>\n",
       "      <td>0.972973</td>\n",
       "      <td>0.900000</td>\n",
       "      <td>0.423729</td>\n",
       "    </tr>\n",
       "    <tr>\n",
       "      <th rowspan=\"2\" valign=\"top\">male</th>\n",
       "      <th>(0, 18]</th>\n",
       "      <td>0.800000</td>\n",
       "      <td>0.600000</td>\n",
       "      <td>0.215686</td>\n",
       "    </tr>\n",
       "    <tr>\n",
       "      <th>(18, 80]</th>\n",
       "      <td>0.375000</td>\n",
       "      <td>0.071429</td>\n",
       "      <td>0.133663</td>\n",
       "    </tr>\n",
       "  </tbody>\n",
       "</table>\n",
       "</div>"
      ],
      "text/plain": [
       "class               First    Second     Third\n",
       "sex    age                                   \n",
       "female (0, 18]   0.909091  1.000000  0.511628\n",
       "       (18, 80]  0.972973  0.900000  0.423729\n",
       "male   (0, 18]   0.800000  0.600000  0.215686\n",
       "       (18, 80]  0.375000  0.071429  0.133663"
      ]
     },
     "execution_count": 14,
     "metadata": {},
     "output_type": "execute_result"
    }
   ],
   "source": [
    "# 把年龄分组（age)加入到 index 参数中 （非题目）\n",
    "titanic.pivot_table(\n",
    "    index=['sex',age],\n",
    "    columns='class',\n",
    "    values=\"survived\"\n",
    ")"
   ]
  },
  {
   "cell_type": "code",
   "execution_count": 15,
   "metadata": {
    "ExecuteTime": {
     "end_time": "2020-08-04T09:19:21.336120Z",
     "start_time": "2020-08-04T09:19:21.300604Z"
    }
   },
   "outputs": [
    {
     "data": {
      "text/html": [
       "<div>\n",
       "<style scoped>\n",
       "    .dataframe tbody tr th:only-of-type {\n",
       "        vertical-align: middle;\n",
       "    }\n",
       "\n",
       "    .dataframe tbody tr th {\n",
       "        vertical-align: top;\n",
       "    }\n",
       "\n",
       "    .dataframe thead tr th {\n",
       "        text-align: left;\n",
       "    }\n",
       "\n",
       "    .dataframe thead tr:last-of-type th {\n",
       "        text-align: right;\n",
       "    }\n",
       "</style>\n",
       "<table border=\"1\" class=\"dataframe\">\n",
       "  <thead>\n",
       "    <tr>\n",
       "      <th></th>\n",
       "      <th colspan=\"3\" halign=\"left\">fare</th>\n",
       "      <th colspan=\"3\" halign=\"left\">survived</th>\n",
       "    </tr>\n",
       "    <tr>\n",
       "      <th>class</th>\n",
       "      <th>First</th>\n",
       "      <th>Second</th>\n",
       "      <th>Third</th>\n",
       "      <th>First</th>\n",
       "      <th>Second</th>\n",
       "      <th>Third</th>\n",
       "    </tr>\n",
       "    <tr>\n",
       "      <th>sex</th>\n",
       "      <th></th>\n",
       "      <th></th>\n",
       "      <th></th>\n",
       "      <th></th>\n",
       "      <th></th>\n",
       "      <th></th>\n",
       "    </tr>\n",
       "  </thead>\n",
       "  <tbody>\n",
       "    <tr>\n",
       "      <th>female</th>\n",
       "      <td>106.125798</td>\n",
       "      <td>21.970121</td>\n",
       "      <td>16.118810</td>\n",
       "      <td>91</td>\n",
       "      <td>70</td>\n",
       "      <td>72</td>\n",
       "    </tr>\n",
       "    <tr>\n",
       "      <th>male</th>\n",
       "      <td>67.226127</td>\n",
       "      <td>19.741782</td>\n",
       "      <td>12.661633</td>\n",
       "      <td>45</td>\n",
       "      <td>17</td>\n",
       "      <td>47</td>\n",
       "    </tr>\n",
       "  </tbody>\n",
       "</table>\n",
       "</div>"
      ],
      "text/plain": [
       "              fare                       survived             \n",
       "class        First     Second      Third    First Second Third\n",
       "sex                                                           \n",
       "female  106.125798  21.970121  16.118810       91     70    72\n",
       "male     67.226127  19.741782  12.661633       45     17    47"
      ]
     },
     "execution_count": 15,
     "metadata": {},
     "output_type": "execute_result"
    }
   ],
   "source": [
    "# 使用 aggfunc 参数来统计还人数\n",
    "# 求各个舱位(class)的平均(mean)票价(fare)\n",
    "# 求各个舱位(class)的总共(sum)总生还人数(fare)\n",
    "titanic.pivot_table(\n",
    "    index='sex', \n",
    "    columns='class',\n",
    "    aggfunc={\n",
    "        'survived': 'sum',\n",
    "        'fare': 'mean'\n",
    "    }    \n",
    ")"
   ]
  },
  {
   "cell_type": "code",
   "execution_count": 16,
   "metadata": {
    "ExecuteTime": {
     "end_time": "2020-08-04T09:19:21.393807Z",
     "start_time": "2020-08-04T09:19:21.337984Z"
    }
   },
   "outputs": [
    {
     "data": {
      "text/html": [
       "<div>\n",
       "<style scoped>\n",
       "    .dataframe tbody tr th:only-of-type {\n",
       "        vertical-align: middle;\n",
       "    }\n",
       "\n",
       "    .dataframe tbody tr th {\n",
       "        vertical-align: top;\n",
       "    }\n",
       "\n",
       "    .dataframe thead th {\n",
       "        text-align: right;\n",
       "    }\n",
       "</style>\n",
       "<table border=\"1\" class=\"dataframe\">\n",
       "  <thead>\n",
       "    <tr style=\"text-align: right;\">\n",
       "      <th>class</th>\n",
       "      <th>First</th>\n",
       "      <th>Second</th>\n",
       "      <th>Third</th>\n",
       "      <th>All</th>\n",
       "    </tr>\n",
       "    <tr>\n",
       "      <th>sex</th>\n",
       "      <th></th>\n",
       "      <th></th>\n",
       "      <th></th>\n",
       "      <th></th>\n",
       "    </tr>\n",
       "  </thead>\n",
       "  <tbody>\n",
       "    <tr>\n",
       "      <th>female</th>\n",
       "      <td>0.968085</td>\n",
       "      <td>0.921053</td>\n",
       "      <td>0.500000</td>\n",
       "      <td>0.742038</td>\n",
       "    </tr>\n",
       "    <tr>\n",
       "      <th>male</th>\n",
       "      <td>0.368852</td>\n",
       "      <td>0.157407</td>\n",
       "      <td>0.135447</td>\n",
       "      <td>0.188908</td>\n",
       "    </tr>\n",
       "    <tr>\n",
       "      <th>All</th>\n",
       "      <td>0.629630</td>\n",
       "      <td>0.472826</td>\n",
       "      <td>0.242363</td>\n",
       "      <td>0.383838</td>\n",
       "    </tr>\n",
       "  </tbody>\n",
       "</table>\n",
       "</div>"
      ],
      "text/plain": [
       "class      First    Second     Third       All\n",
       "sex                                           \n",
       "female  0.968085  0.921053  0.500000  0.742038\n",
       "male    0.368852  0.157407  0.135447  0.188908\n",
       "All     0.629630  0.472826  0.242363  0.383838"
      ]
     },
     "execution_count": 16,
     "metadata": {},
     "output_type": "execute_result"
    }
   ],
   "source": [
    "# 为每行每列加上统计值 （非题目）\n",
    "titanic.pivot_table('survived',index='sex',columns='class',margins=True)"
   ]
  },
  {
   "cell_type": "markdown",
   "metadata": {},
   "source": [
    "# 6. 订单数据表拆分(大表变小表）\n",
    "\n",
    "--- \n",
    "备注：这里综合了 p122面的内容\n",
    "\n",
    "* 主要考查了如何从 DataFrame 选择若干列数据\n",
    "* 如何使用 df.drop_duplicates() 删除重复数据\n",
    "  \n",
    "  [Pandas之drop_duplicates：去除重复项](https://blog.csdn.net/u010665216/article/details/78559091)\n",
    "\n",
    "---\n",
    "实现数据MECE原则\n",
    "\n",
    "* 你现在是系统数据架构师，要重构历史的订单全表\n",
    "\n",
    "* 订单全表里同时有 订单号(order_no), 产品名(name), 产品编号(sku), 数量字段(quantity)\n",
    "\n",
    "* 从数据整洁性来说，应把订单全表(full_orders)拆成两个表: 产品表(products)，订单表(orders)\n",
    "\n",
    "* 这些操作也是为了符合每种观测单元构成一张表格的规则\n",
    "---\n",
    "\n",
    "* 读取 full_orders.xlsx 到 full_orders\n",
    "\n",
    "* 从 full_orders 取 ['order_no','sku','quantity'] 3列数据生成 orders,\n",
    "  同时把orders 保存到 orders.xlsx(不保存索引, index = False)\n",
    "\n",
    "* 从 full_orders 取 ['sku','name'] 2列数据生成 products ;   \n",
    "  对products去掉重复数据，同时把 products 保存到 products.xlsx(不保存索引, index = False)\n"
   ]
  },
  {
   "cell_type": "code",
   "execution_count": 17,
   "metadata": {
    "ExecuteTime": {
     "end_time": "2020-08-04T09:19:21.414102Z",
     "start_time": "2020-08-04T09:19:21.396012Z"
    }
   },
   "outputs": [
    {
     "data": {
      "text/html": [
       "<div>\n",
       "<style scoped>\n",
       "    .dataframe tbody tr th:only-of-type {\n",
       "        vertical-align: middle;\n",
       "    }\n",
       "\n",
       "    .dataframe tbody tr th {\n",
       "        vertical-align: top;\n",
       "    }\n",
       "\n",
       "    .dataframe thead th {\n",
       "        text-align: right;\n",
       "    }\n",
       "</style>\n",
       "<table border=\"1\" class=\"dataframe\">\n",
       "  <thead>\n",
       "    <tr style=\"text-align: right;\">\n",
       "      <th></th>\n",
       "      <th>order_no</th>\n",
       "      <th>name</th>\n",
       "      <th>sku</th>\n",
       "      <th>quantity</th>\n",
       "    </tr>\n",
       "  </thead>\n",
       "  <tbody>\n",
       "    <tr>\n",
       "      <th>0</th>\n",
       "      <td>O_2020_01</td>\n",
       "      <td>AirPods</td>\n",
       "      <td>A1234</td>\n",
       "      <td>2</td>\n",
       "    </tr>\n",
       "    <tr>\n",
       "      <th>1</th>\n",
       "      <td>O_2020_02</td>\n",
       "      <td>AirPods</td>\n",
       "      <td>A1234</td>\n",
       "      <td>2</td>\n",
       "    </tr>\n",
       "    <tr>\n",
       "      <th>2</th>\n",
       "      <td>O_2020_03</td>\n",
       "      <td>MacBookPro</td>\n",
       "      <td>A1235</td>\n",
       "      <td>1</td>\n",
       "    </tr>\n",
       "    <tr>\n",
       "      <th>3</th>\n",
       "      <td>O_2020_04</td>\n",
       "      <td>MacBookPro</td>\n",
       "      <td>A1235</td>\n",
       "      <td>1</td>\n",
       "    </tr>\n",
       "  </tbody>\n",
       "</table>\n",
       "</div>"
      ],
      "text/plain": [
       "    order_no        name    sku  quantity\n",
       "0  O_2020_01     AirPods  A1234         2\n",
       "1  O_2020_02     AirPods  A1234         2\n",
       "2  O_2020_03  MacBookPro  A1235         1\n",
       "3  O_2020_04  MacBookPro  A1235         1"
      ]
     },
     "execution_count": 17,
     "metadata": {},
     "output_type": "execute_result"
    }
   ],
   "source": [
    "#读取 full_orders.xlsx 到 full_orders\n",
    "full_orders = pd.read_excel(\"full_orders.xlsx\")\n",
    "full_orders"
   ]
  },
  {
   "cell_type": "code",
   "execution_count": 18,
   "metadata": {
    "ExecuteTime": {
     "end_time": "2020-08-04T09:19:21.468519Z",
     "start_time": "2020-08-04T09:19:21.416140Z"
    }
   },
   "outputs": [
    {
     "data": {
      "text/html": [
       "<div>\n",
       "<style scoped>\n",
       "    .dataframe tbody tr th:only-of-type {\n",
       "        vertical-align: middle;\n",
       "    }\n",
       "\n",
       "    .dataframe tbody tr th {\n",
       "        vertical-align: top;\n",
       "    }\n",
       "\n",
       "    .dataframe thead th {\n",
       "        text-align: right;\n",
       "    }\n",
       "</style>\n",
       "<table border=\"1\" class=\"dataframe\">\n",
       "  <thead>\n",
       "    <tr style=\"text-align: right;\">\n",
       "      <th></th>\n",
       "      <th>order_no</th>\n",
       "      <th>sku</th>\n",
       "      <th>quantity</th>\n",
       "    </tr>\n",
       "  </thead>\n",
       "  <tbody>\n",
       "    <tr>\n",
       "      <th>0</th>\n",
       "      <td>O_2020_01</td>\n",
       "      <td>A1234</td>\n",
       "      <td>2</td>\n",
       "    </tr>\n",
       "    <tr>\n",
       "      <th>1</th>\n",
       "      <td>O_2020_02</td>\n",
       "      <td>A1234</td>\n",
       "      <td>2</td>\n",
       "    </tr>\n",
       "    <tr>\n",
       "      <th>2</th>\n",
       "      <td>O_2020_03</td>\n",
       "      <td>A1235</td>\n",
       "      <td>1</td>\n",
       "    </tr>\n",
       "    <tr>\n",
       "      <th>3</th>\n",
       "      <td>O_2020_04</td>\n",
       "      <td>A1235</td>\n",
       "      <td>1</td>\n",
       "    </tr>\n",
       "  </tbody>\n",
       "</table>\n",
       "</div>"
      ],
      "text/plain": [
       "    order_no    sku  quantity\n",
       "0  O_2020_01  A1234         2\n",
       "1  O_2020_02  A1234         2\n",
       "2  O_2020_03  A1235         1\n",
       "3  O_2020_04  A1235         1"
      ]
     },
     "execution_count": 18,
     "metadata": {},
     "output_type": "execute_result"
    }
   ],
   "source": [
    "#从 full_orders 取 ['order_no','sku','quantity'] 3列数据生成 orders,\n",
    "#  同时把orders 保存到 orders.xlsx(不保存索引, index = False)\n",
    "orders = full_orders[['order_no','sku','quantity']]\n",
    "orders.to_excel(\"orders.xlsx\",index = False)\n",
    "orders"
   ]
  },
  {
   "cell_type": "code",
   "execution_count": 19,
   "metadata": {
    "ExecuteTime": {
     "end_time": "2020-08-04T09:19:21.479675Z",
     "start_time": "2020-08-04T09:19:21.470184Z"
    }
   },
   "outputs": [
    {
     "data": {
      "text/html": [
       "<div>\n",
       "<style scoped>\n",
       "    .dataframe tbody tr th:only-of-type {\n",
       "        vertical-align: middle;\n",
       "    }\n",
       "\n",
       "    .dataframe tbody tr th {\n",
       "        vertical-align: top;\n",
       "    }\n",
       "\n",
       "    .dataframe thead th {\n",
       "        text-align: right;\n",
       "    }\n",
       "</style>\n",
       "<table border=\"1\" class=\"dataframe\">\n",
       "  <thead>\n",
       "    <tr style=\"text-align: right;\">\n",
       "      <th></th>\n",
       "      <th>sku</th>\n",
       "      <th>name</th>\n",
       "    </tr>\n",
       "  </thead>\n",
       "  <tbody>\n",
       "    <tr>\n",
       "      <th>0</th>\n",
       "      <td>A1234</td>\n",
       "      <td>AirPods</td>\n",
       "    </tr>\n",
       "    <tr>\n",
       "      <th>1</th>\n",
       "      <td>A1234</td>\n",
       "      <td>AirPods</td>\n",
       "    </tr>\n",
       "    <tr>\n",
       "      <th>2</th>\n",
       "      <td>A1235</td>\n",
       "      <td>MacBookPro</td>\n",
       "    </tr>\n",
       "    <tr>\n",
       "      <th>3</th>\n",
       "      <td>A1235</td>\n",
       "      <td>MacBookPro</td>\n",
       "    </tr>\n",
       "  </tbody>\n",
       "</table>\n",
       "</div>"
      ],
      "text/plain": [
       "     sku        name\n",
       "0  A1234     AirPods\n",
       "1  A1234     AirPods\n",
       "2  A1235  MacBookPro\n",
       "3  A1235  MacBookPro"
      ]
     },
     "execution_count": 19,
     "metadata": {},
     "output_type": "execute_result"
    }
   ],
   "source": [
    "products = full_orders[['sku','name']]\n",
    "products"
   ]
  },
  {
   "cell_type": "code",
   "execution_count": 20,
   "metadata": {
    "ExecuteTime": {
     "end_time": "2020-08-04T09:19:21.509873Z",
     "start_time": "2020-08-04T09:19:21.487795Z"
    }
   },
   "outputs": [
    {
     "data": {
      "text/html": [
       "<div>\n",
       "<style scoped>\n",
       "    .dataframe tbody tr th:only-of-type {\n",
       "        vertical-align: middle;\n",
       "    }\n",
       "\n",
       "    .dataframe tbody tr th {\n",
       "        vertical-align: top;\n",
       "    }\n",
       "\n",
       "    .dataframe thead th {\n",
       "        text-align: right;\n",
       "    }\n",
       "</style>\n",
       "<table border=\"1\" class=\"dataframe\">\n",
       "  <thead>\n",
       "    <tr style=\"text-align: right;\">\n",
       "      <th></th>\n",
       "      <th>sku</th>\n",
       "      <th>name</th>\n",
       "    </tr>\n",
       "  </thead>\n",
       "  <tbody>\n",
       "    <tr>\n",
       "      <th>0</th>\n",
       "      <td>A1234</td>\n",
       "      <td>AirPods</td>\n",
       "    </tr>\n",
       "    <tr>\n",
       "      <th>2</th>\n",
       "      <td>A1235</td>\n",
       "      <td>MacBookPro</td>\n",
       "    </tr>\n",
       "  </tbody>\n",
       "</table>\n",
       "</div>"
      ],
      "text/plain": [
       "     sku        name\n",
       "0  A1234     AirPods\n",
       "2  A1235  MacBookPro"
      ]
     },
     "execution_count": 20,
     "metadata": {},
     "output_type": "execute_result"
    }
   ],
   "source": [
    "#从 full_orders 取 ['sku','name'] 2列数据生成 products ;   \n",
    "#  对products去掉重复数据，同时把 products 保存到 products.xlsx(不保存索引, index = False)\n",
    "products = full_orders[['sku','name']]\n",
    "products = products.drop_duplicates()\n",
    "products.to_excel(\"products.xlsx\",index = False)\n",
    "products"
   ]
  },
  {
   "cell_type": "markdown",
   "metadata": {},
   "source": [
    "# 7. 加载多个文件并合并\n",
    "--- \n",
    "备注：这里综合了 p125~p126面的内容\n",
    "\n",
    "* 这里主要考查用 for 循环里字符串拼接文件路径\n",
    "\n",
    "* 还使用之前的 pd.concat 拼接 DataFrame\n",
    "\n",
    "* 求卓越的同学，可以再看 glob.glob 用法(书p124)\n",
    "\n",
    " [python glob模块](https://blog.csdn.net/csapr1987/article/details/7469769)  [python glob.glob使用](https://blog.csdn.net/mantoureganmian/article/details/47949101)\n",
    " \n",
    "---\n",
    "背景:\n",
    "    \n",
    "* 你现在负责分析公司2019年的费用数据\n",
    "\n",
    "* 公司这一年的费用数据分散在 120 个 Excel 中，你现在要负责把它们合并起来\n",
    "\n",
    "---\n",
    "\n",
    "* 定义一个空的列表 df_list\n",
    "\n",
    "* 定义 bu_names = [\"bu1\",\"bu2\",\"bu3\",\"bu4\",\"bu5\",\"bu6\",\"bu7\",\"bu8\",\"bu9\",\"buX\"] \n",
    "\n",
    "  里面存储了所有的 bu 名\n",
    "  \n",
    "\n",
    "* 2019 目录下有所有10个bu 的12个月的数据\n",
    "\n",
    "* 文件的命名路径的规则是 年/月/bu名.xlsx\n",
    "\n",
    "\n",
    "* 按上面的命名规则遍历2019目录下的所的xlsx文件, 把它读到 df, 然后再添加到 df_list 中\n",
    "\n",
    "* 将 df_list 里的 DataFrame 合并到一个 DataFrame 中，名叫 df_total\n",
    "\n"
   ]
  },
  {
   "cell_type": "code",
   "execution_count": 21,
   "metadata": {
    "ExecuteTime": {
     "end_time": "2020-08-04T09:19:21.523538Z",
     "start_time": "2020-08-04T09:19:21.521148Z"
    }
   },
   "outputs": [],
   "source": [
    "#定义一个空的列表 df_list\n",
    "df_list = []"
   ]
  },
  {
   "cell_type": "code",
   "execution_count": 22,
   "metadata": {
    "ExecuteTime": {
     "end_time": "2020-08-04T09:19:21.531534Z",
     "start_time": "2020-08-04T09:19:21.528937Z"
    }
   },
   "outputs": [],
   "source": [
    "#定义 bu_names = [\"bu1\",\"bu2\",\"bu3\",\"bu4\",\"bu5\",\"bu6\",\"bu7\",\"bu8\",\"bu9\",\"buX\"]\n",
    "#里面存储了所有的 bu 名\n",
    "bu_names = [\"bu1\",\"bu2\",\"bu3\",\"bu4\",\"bu5\",\"bu6\",\"bu7\",\"bu8\",\"bu9\",\"buX\"]"
   ]
  },
  {
   "cell_type": "code",
   "execution_count": 23,
   "metadata": {
    "ExecuteTime": {
     "end_time": "2020-08-04T09:19:28.440027Z",
     "start_time": "2020-08-04T09:19:21.533315Z"
    }
   },
   "outputs": [
    {
     "name": "stdout",
     "output_type": "stream",
     "text": [
      "2019/1/bu1.xlsx\n",
      "(1000, 4)\n",
      "2019/1/bu2.xlsx\n",
      "(1000, 4)\n",
      "2019/1/bu3.xlsx\n",
      "(1000, 4)\n",
      "2019/1/bu4.xlsx\n",
      "(1000, 4)\n",
      "2019/1/bu5.xlsx\n",
      "(1000, 4)\n",
      "2019/1/bu6.xlsx\n",
      "(1000, 4)\n",
      "2019/1/bu7.xlsx\n",
      "(1000, 4)\n",
      "2019/1/bu8.xlsx\n",
      "(1000, 4)\n",
      "2019/1/bu9.xlsx\n",
      "(1000, 4)\n",
      "2019/1/buX.xlsx\n",
      "(1000, 4)\n",
      "2019/2/bu1.xlsx\n",
      "(1000, 4)\n",
      "2019/2/bu2.xlsx\n",
      "(1000, 4)\n",
      "2019/2/bu3.xlsx\n",
      "(1000, 4)\n",
      "2019/2/bu4.xlsx\n",
      "(1000, 4)\n",
      "2019/2/bu5.xlsx\n",
      "(1000, 4)\n",
      "2019/2/bu6.xlsx\n",
      "(1000, 4)\n",
      "2019/2/bu7.xlsx\n",
      "(1000, 4)\n",
      "2019/2/bu8.xlsx\n",
      "(1000, 4)\n",
      "2019/2/bu9.xlsx\n",
      "(1000, 4)\n",
      "2019/2/buX.xlsx\n",
      "(1000, 4)\n",
      "2019/3/bu1.xlsx\n",
      "(1000, 4)\n",
      "2019/3/bu2.xlsx\n",
      "(1000, 4)\n",
      "2019/3/bu3.xlsx\n",
      "(1000, 4)\n",
      "2019/3/bu4.xlsx\n",
      "(1000, 4)\n",
      "2019/3/bu5.xlsx\n",
      "(1000, 4)\n",
      "2019/3/bu6.xlsx\n",
      "(1000, 4)\n",
      "2019/3/bu7.xlsx\n",
      "(1000, 4)\n",
      "2019/3/bu8.xlsx\n",
      "(1000, 4)\n",
      "2019/3/bu9.xlsx\n",
      "(1000, 4)\n",
      "2019/3/buX.xlsx\n",
      "(1000, 4)\n",
      "2019/4/bu1.xlsx\n",
      "(1000, 4)\n",
      "2019/4/bu2.xlsx\n",
      "(1000, 4)\n",
      "2019/4/bu3.xlsx\n",
      "(1000, 4)\n",
      "2019/4/bu4.xlsx\n",
      "(1000, 4)\n",
      "2019/4/bu5.xlsx\n",
      "(1000, 4)\n",
      "2019/4/bu6.xlsx\n",
      "(1000, 4)\n",
      "2019/4/bu7.xlsx\n",
      "(1000, 4)\n",
      "2019/4/bu8.xlsx\n",
      "(1000, 4)\n",
      "2019/4/bu9.xlsx\n",
      "(1000, 4)\n",
      "2019/4/buX.xlsx\n",
      "(1000, 4)\n",
      "2019/5/bu1.xlsx\n",
      "(1000, 4)\n",
      "2019/5/bu2.xlsx\n",
      "(1000, 4)\n",
      "2019/5/bu3.xlsx\n",
      "(1000, 4)\n",
      "2019/5/bu4.xlsx\n",
      "(1000, 4)\n",
      "2019/5/bu5.xlsx\n",
      "(1000, 4)\n",
      "2019/5/bu6.xlsx\n",
      "(1000, 4)\n",
      "2019/5/bu7.xlsx\n",
      "(1000, 4)\n",
      "2019/5/bu8.xlsx\n",
      "(1000, 4)\n",
      "2019/5/bu9.xlsx\n",
      "(1000, 4)\n",
      "2019/5/buX.xlsx\n",
      "(1000, 4)\n",
      "2019/6/bu1.xlsx\n",
      "(1000, 4)\n",
      "2019/6/bu2.xlsx\n",
      "(1000, 4)\n",
      "2019/6/bu3.xlsx\n",
      "(1000, 4)\n",
      "2019/6/bu4.xlsx\n",
      "(1000, 4)\n",
      "2019/6/bu5.xlsx\n",
      "(1000, 4)\n",
      "2019/6/bu6.xlsx\n",
      "(1000, 4)\n",
      "2019/6/bu7.xlsx\n",
      "(1000, 4)\n",
      "2019/6/bu8.xlsx\n",
      "(1000, 4)\n",
      "2019/6/bu9.xlsx\n",
      "(1000, 4)\n",
      "2019/6/buX.xlsx\n",
      "(1000, 4)\n",
      "2019/7/bu1.xlsx\n",
      "(1000, 4)\n",
      "2019/7/bu2.xlsx\n",
      "(1000, 4)\n",
      "2019/7/bu3.xlsx\n",
      "(1000, 4)\n",
      "2019/7/bu4.xlsx\n",
      "(1000, 4)\n",
      "2019/7/bu5.xlsx\n",
      "(1000, 4)\n",
      "2019/7/bu6.xlsx\n",
      "(1000, 4)\n",
      "2019/7/bu7.xlsx\n",
      "(1000, 4)\n",
      "2019/7/bu8.xlsx\n",
      "(1000, 4)\n",
      "2019/7/bu9.xlsx\n",
      "(1000, 4)\n",
      "2019/7/buX.xlsx\n",
      "(1000, 4)\n",
      "2019/8/bu1.xlsx\n",
      "(1000, 4)\n",
      "2019/8/bu2.xlsx\n",
      "(1000, 4)\n",
      "2019/8/bu3.xlsx\n",
      "(1000, 4)\n",
      "2019/8/bu4.xlsx\n",
      "(1000, 4)\n",
      "2019/8/bu5.xlsx\n",
      "(1000, 4)\n",
      "2019/8/bu6.xlsx\n",
      "(1000, 4)\n",
      "2019/8/bu7.xlsx\n",
      "(1000, 4)\n",
      "2019/8/bu8.xlsx\n",
      "(1000, 4)\n",
      "2019/8/bu9.xlsx\n",
      "(1000, 4)\n",
      "2019/8/buX.xlsx\n",
      "(1000, 4)\n",
      "2019/9/bu1.xlsx\n",
      "(1000, 4)\n",
      "2019/9/bu2.xlsx\n",
      "(1000, 4)\n",
      "2019/9/bu3.xlsx\n",
      "(1000, 4)\n",
      "2019/9/bu4.xlsx\n",
      "(1000, 4)\n",
      "2019/9/bu5.xlsx\n",
      "(1000, 4)\n",
      "2019/9/bu6.xlsx\n",
      "(1000, 4)\n",
      "2019/9/bu7.xlsx\n",
      "(1000, 4)\n",
      "2019/9/bu8.xlsx\n",
      "(1000, 4)\n",
      "2019/9/bu9.xlsx\n",
      "(1000, 4)\n",
      "2019/9/buX.xlsx\n",
      "(1000, 4)\n",
      "2019/10/bu1.xlsx\n",
      "(1000, 4)\n",
      "2019/10/bu2.xlsx\n",
      "(1000, 4)\n",
      "2019/10/bu3.xlsx\n",
      "(1000, 4)\n",
      "2019/10/bu4.xlsx\n",
      "(1000, 4)\n",
      "2019/10/bu5.xlsx\n",
      "(1000, 4)\n",
      "2019/10/bu6.xlsx\n",
      "(1000, 4)\n",
      "2019/10/bu7.xlsx\n",
      "(1000, 4)\n",
      "2019/10/bu8.xlsx\n",
      "(1000, 4)\n",
      "2019/10/bu9.xlsx\n",
      "(1000, 4)\n",
      "2019/10/buX.xlsx\n",
      "(1000, 4)\n",
      "2019/11/bu1.xlsx\n",
      "(1000, 4)\n",
      "2019/11/bu2.xlsx\n",
      "(1000, 4)\n",
      "2019/11/bu3.xlsx\n",
      "(1000, 4)\n",
      "2019/11/bu4.xlsx\n",
      "(1000, 4)\n",
      "2019/11/bu5.xlsx\n",
      "(1000, 4)\n",
      "2019/11/bu6.xlsx\n",
      "(1000, 4)\n",
      "2019/11/bu7.xlsx\n",
      "(1000, 4)\n",
      "2019/11/bu8.xlsx\n",
      "(1000, 4)\n",
      "2019/11/bu9.xlsx\n",
      "(1000, 4)\n",
      "2019/11/buX.xlsx\n",
      "(1000, 4)\n",
      "2019/12/bu1.xlsx\n",
      "(1000, 4)\n",
      "2019/12/bu2.xlsx\n",
      "(1000, 4)\n",
      "2019/12/bu3.xlsx\n",
      "(1000, 4)\n",
      "2019/12/bu4.xlsx\n",
      "(1000, 4)\n",
      "2019/12/bu5.xlsx\n",
      "(1000, 4)\n",
      "2019/12/bu6.xlsx\n",
      "(1000, 4)\n",
      "2019/12/bu7.xlsx\n",
      "(1000, 4)\n",
      "2019/12/bu8.xlsx\n",
      "(1000, 4)\n",
      "2019/12/bu9.xlsx\n",
      "(1000, 4)\n",
      "2019/12/buX.xlsx\n",
      "(1000, 4)\n"
     ]
    }
   ],
   "source": [
    "#2019 目录下有所有10个bu 的12个月的数据\n",
    "#文件的命名路径的规则是 年/月/bu名.xlsx\n",
    "#按上面的命名规则遍历2019目录下的所的xlsx文件, 把它读到 df, 然后再添加到 df_list 中\n",
    "for month_index in range(1,13):\n",
    "    for bu_name in bu_names:\n",
    "        file_name = \"2019/%d/%s.xlsx\" % (month_index,bu_name)\n",
    "        print(file_name)\n",
    "        df = pd.read_excel(file_name)\n",
    "        print(df.shape)\n",
    "        df_list.append(df)\n",
    "        "
   ]
  },
  {
   "cell_type": "code",
   "execution_count": 24,
   "metadata": {
    "ExecuteTime": {
     "end_time": "2020-08-04T09:19:28.473010Z",
     "start_time": "2020-08-04T09:19:28.442094Z"
    }
   },
   "outputs": [
    {
     "data": {
      "text/plain": [
       "(120000, 4)"
      ]
     },
     "execution_count": 24,
     "metadata": {},
     "output_type": "execute_result"
    }
   ],
   "source": [
    "#将 df_list 里的 DataFrame 合并到一个 DataFrame 中，名叫 df_total (pd.concat)\n",
    "df_total = pd.concat(df_list)\n",
    "df_total.shape"
   ]
  },
  {
   "cell_type": "code",
   "execution_count": 25,
   "metadata": {
    "ExecuteTime": {
     "end_time": "2020-08-04T09:19:28.485906Z",
     "start_time": "2020-08-04T09:19:28.475164Z"
    }
   },
   "outputs": [
    {
     "data": {
      "text/html": [
       "<div>\n",
       "<style scoped>\n",
       "    .dataframe tbody tr th:only-of-type {\n",
       "        vertical-align: middle;\n",
       "    }\n",
       "\n",
       "    .dataframe tbody tr th {\n",
       "        vertical-align: top;\n",
       "    }\n",
       "\n",
       "    .dataframe thead th {\n",
       "        text-align: right;\n",
       "    }\n",
       "</style>\n",
       "<table border=\"1\" class=\"dataframe\">\n",
       "  <thead>\n",
       "    <tr style=\"text-align: right;\">\n",
       "      <th></th>\n",
       "      <th>bu_name</th>\n",
       "      <th>type</th>\n",
       "      <th>rmb</th>\n",
       "      <th>date</th>\n",
       "    </tr>\n",
       "  </thead>\n",
       "  <tbody>\n",
       "    <tr>\n",
       "      <th>0</th>\n",
       "      <td>bu1</td>\n",
       "      <td>G</td>\n",
       "      <td>9089</td>\n",
       "      <td>2019-01-26</td>\n",
       "    </tr>\n",
       "    <tr>\n",
       "      <th>1</th>\n",
       "      <td>bu1</td>\n",
       "      <td>M</td>\n",
       "      <td>1570</td>\n",
       "      <td>2019-01-17</td>\n",
       "    </tr>\n",
       "    <tr>\n",
       "      <th>2</th>\n",
       "      <td>bu1</td>\n",
       "      <td>E</td>\n",
       "      <td>1511</td>\n",
       "      <td>2019-01-05</td>\n",
       "    </tr>\n",
       "    <tr>\n",
       "      <th>3</th>\n",
       "      <td>bu1</td>\n",
       "      <td>B</td>\n",
       "      <td>6998</td>\n",
       "      <td>2019-01-18</td>\n",
       "    </tr>\n",
       "    <tr>\n",
       "      <th>4</th>\n",
       "      <td>bu1</td>\n",
       "      <td>I</td>\n",
       "      <td>1331</td>\n",
       "      <td>2019-01-09</td>\n",
       "    </tr>\n",
       "  </tbody>\n",
       "</table>\n",
       "</div>"
      ],
      "text/plain": [
       "  bu_name type   rmb       date\n",
       "0     bu1    G  9089 2019-01-26\n",
       "1     bu1    M  1570 2019-01-17\n",
       "2     bu1    E  1511 2019-01-05\n",
       "3     bu1    B  6998 2019-01-18\n",
       "4     bu1    I  1331 2019-01-09"
      ]
     },
     "execution_count": 25,
     "metadata": {},
     "output_type": "execute_result"
    }
   ],
   "source": [
    "# （非题目）\n",
    "df_total.head()"
   ]
  },
  {
   "cell_type": "code",
   "execution_count": 26,
   "metadata": {
    "ExecuteTime": {
     "end_time": "2020-08-04T09:19:28.518356Z",
     "start_time": "2020-08-04T09:19:28.488184Z"
    }
   },
   "outputs": [
    {
     "data": {
      "text/html": [
       "<div>\n",
       "<style scoped>\n",
       "    .dataframe tbody tr th:only-of-type {\n",
       "        vertical-align: middle;\n",
       "    }\n",
       "\n",
       "    .dataframe tbody tr th {\n",
       "        vertical-align: top;\n",
       "    }\n",
       "\n",
       "    .dataframe thead th {\n",
       "        text-align: right;\n",
       "    }\n",
       "</style>\n",
       "<table border=\"1\" class=\"dataframe\">\n",
       "  <thead>\n",
       "    <tr style=\"text-align: right;\">\n",
       "      <th></th>\n",
       "      <th>bu_name</th>\n",
       "      <th>type</th>\n",
       "      <th>rmb</th>\n",
       "      <th>date</th>\n",
       "      <th>year</th>\n",
       "      <th>month</th>\n",
       "    </tr>\n",
       "  </thead>\n",
       "  <tbody>\n",
       "    <tr>\n",
       "      <th>0</th>\n",
       "      <td>bu1</td>\n",
       "      <td>G</td>\n",
       "      <td>9089</td>\n",
       "      <td>2019-01-26</td>\n",
       "      <td>2019</td>\n",
       "      <td>1</td>\n",
       "    </tr>\n",
       "    <tr>\n",
       "      <th>1</th>\n",
       "      <td>bu1</td>\n",
       "      <td>M</td>\n",
       "      <td>1570</td>\n",
       "      <td>2019-01-17</td>\n",
       "      <td>2019</td>\n",
       "      <td>1</td>\n",
       "    </tr>\n",
       "    <tr>\n",
       "      <th>2</th>\n",
       "      <td>bu1</td>\n",
       "      <td>E</td>\n",
       "      <td>1511</td>\n",
       "      <td>2019-01-05</td>\n",
       "      <td>2019</td>\n",
       "      <td>1</td>\n",
       "    </tr>\n",
       "    <tr>\n",
       "      <th>3</th>\n",
       "      <td>bu1</td>\n",
       "      <td>B</td>\n",
       "      <td>6998</td>\n",
       "      <td>2019-01-18</td>\n",
       "      <td>2019</td>\n",
       "      <td>1</td>\n",
       "    </tr>\n",
       "    <tr>\n",
       "      <th>4</th>\n",
       "      <td>bu1</td>\n",
       "      <td>I</td>\n",
       "      <td>1331</td>\n",
       "      <td>2019-01-09</td>\n",
       "      <td>2019</td>\n",
       "      <td>1</td>\n",
       "    </tr>\n",
       "  </tbody>\n",
       "</table>\n",
       "</div>"
      ],
      "text/plain": [
       "  bu_name type   rmb       date  year  month\n",
       "0     bu1    G  9089 2019-01-26  2019      1\n",
       "1     bu1    M  1570 2019-01-17  2019      1\n",
       "2     bu1    E  1511 2019-01-05  2019      1\n",
       "3     bu1    B  6998 2019-01-18  2019      1\n",
       "4     bu1    I  1331 2019-01-09  2019      1"
      ]
     },
     "execution_count": 26,
     "metadata": {},
     "output_type": "execute_result"
    }
   ],
   "source": [
    "# 每一行记录，增加年/月字段（非题目）\n",
    "# dt 用来处理日期数据\n",
    "total_copy = df_total.copy()\n",
    "total_copy['year'] = total_copy.date.dt.year\n",
    "total_copy['month'] = total_copy.date.dt.month\n",
    "total_copy.head()\n"
   ]
  },
  {
   "cell_type": "code",
   "execution_count": 27,
   "metadata": {
    "ExecuteTime": {
     "end_time": "2020-08-04T09:19:28.534256Z",
     "start_time": "2020-08-04T09:19:28.520500Z"
    }
   },
   "outputs": [
    {
     "data": {
      "text/plain": [
       "month\n",
       "1      54736334\n",
       "2      60233605\n",
       "3      64509844\n",
       "4      70095635\n",
       "5      74892985\n",
       "6      80190053\n",
       "7      85488347\n",
       "8      89825213\n",
       "9      95682971\n",
       "10     99897334\n",
       "11    105491381\n",
       "12    109812912\n",
       "Name: rmb, dtype: int64"
      ]
     },
     "execution_count": 27,
     "metadata": {},
     "output_type": "execute_result"
    }
   ],
   "source": [
    "# 按月计算分组计费用 (非题目)\n",
    "total_rmb_trend = total_copy.groupby('month')['rmb'].sum()\n",
    "total_rmb_trend"
   ]
  },
  {
   "cell_type": "code",
   "execution_count": 30,
   "metadata": {
    "ExecuteTime": {
     "end_time": "2020-08-04T09:19:54.398789Z",
     "start_time": "2020-08-04T09:19:54.345424Z"
    }
   },
   "outputs": [
    {
     "data": {
      "application/vnd.plotly.v1+json": {
       "config": {
        "plotlyServerURL": "https://plot.ly"
       },
       "data": [
        {
         "hovertemplate": "variable=rmb<br>month=%{x}<br>value=%{y}<extra></extra>",
         "legendgroup": "rmb",
         "line": {
          "color": "#636efa",
          "dash": "solid"
         },
         "mode": "lines",
         "name": "rmb",
         "orientation": "v",
         "showlegend": true,
         "type": "scatter",
         "x": [
          1,
          2,
          3,
          4,
          5,
          6,
          7,
          8,
          9,
          10,
          11,
          12
         ],
         "xaxis": "x",
         "y": [
          54736334,
          60233605,
          64509844,
          70095635,
          74892985,
          80190053,
          85488347,
          89825213,
          95682971,
          99897334,
          105491381,
          109812912
         ],
         "yaxis": "y"
        }
       ],
       "layout": {
        "legend": {
         "title": {
          "text": "variable"
         },
         "tracegroupgap": 0
        },
        "margin": {
         "t": 60
        },
        "template": {
         "data": {
          "bar": [
           {
            "error_x": {
             "color": "#2a3f5f"
            },
            "error_y": {
             "color": "#2a3f5f"
            },
            "marker": {
             "line": {
              "color": "#E5ECF6",
              "width": 0.5
             }
            },
            "type": "bar"
           }
          ],
          "barpolar": [
           {
            "marker": {
             "line": {
              "color": "#E5ECF6",
              "width": 0.5
             }
            },
            "type": "barpolar"
           }
          ],
          "carpet": [
           {
            "aaxis": {
             "endlinecolor": "#2a3f5f",
             "gridcolor": "white",
             "linecolor": "white",
             "minorgridcolor": "white",
             "startlinecolor": "#2a3f5f"
            },
            "baxis": {
             "endlinecolor": "#2a3f5f",
             "gridcolor": "white",
             "linecolor": "white",
             "minorgridcolor": "white",
             "startlinecolor": "#2a3f5f"
            },
            "type": "carpet"
           }
          ],
          "choropleth": [
           {
            "colorbar": {
             "outlinewidth": 0,
             "ticks": ""
            },
            "type": "choropleth"
           }
          ],
          "contour": [
           {
            "colorbar": {
             "outlinewidth": 0,
             "ticks": ""
            },
            "colorscale": [
             [
              0,
              "#0d0887"
             ],
             [
              0.1111111111111111,
              "#46039f"
             ],
             [
              0.2222222222222222,
              "#7201a8"
             ],
             [
              0.3333333333333333,
              "#9c179e"
             ],
             [
              0.4444444444444444,
              "#bd3786"
             ],
             [
              0.5555555555555556,
              "#d8576b"
             ],
             [
              0.6666666666666666,
              "#ed7953"
             ],
             [
              0.7777777777777778,
              "#fb9f3a"
             ],
             [
              0.8888888888888888,
              "#fdca26"
             ],
             [
              1,
              "#f0f921"
             ]
            ],
            "type": "contour"
           }
          ],
          "contourcarpet": [
           {
            "colorbar": {
             "outlinewidth": 0,
             "ticks": ""
            },
            "type": "contourcarpet"
           }
          ],
          "heatmap": [
           {
            "colorbar": {
             "outlinewidth": 0,
             "ticks": ""
            },
            "colorscale": [
             [
              0,
              "#0d0887"
             ],
             [
              0.1111111111111111,
              "#46039f"
             ],
             [
              0.2222222222222222,
              "#7201a8"
             ],
             [
              0.3333333333333333,
              "#9c179e"
             ],
             [
              0.4444444444444444,
              "#bd3786"
             ],
             [
              0.5555555555555556,
              "#d8576b"
             ],
             [
              0.6666666666666666,
              "#ed7953"
             ],
             [
              0.7777777777777778,
              "#fb9f3a"
             ],
             [
              0.8888888888888888,
              "#fdca26"
             ],
             [
              1,
              "#f0f921"
             ]
            ],
            "type": "heatmap"
           }
          ],
          "heatmapgl": [
           {
            "colorbar": {
             "outlinewidth": 0,
             "ticks": ""
            },
            "colorscale": [
             [
              0,
              "#0d0887"
             ],
             [
              0.1111111111111111,
              "#46039f"
             ],
             [
              0.2222222222222222,
              "#7201a8"
             ],
             [
              0.3333333333333333,
              "#9c179e"
             ],
             [
              0.4444444444444444,
              "#bd3786"
             ],
             [
              0.5555555555555556,
              "#d8576b"
             ],
             [
              0.6666666666666666,
              "#ed7953"
             ],
             [
              0.7777777777777778,
              "#fb9f3a"
             ],
             [
              0.8888888888888888,
              "#fdca26"
             ],
             [
              1,
              "#f0f921"
             ]
            ],
            "type": "heatmapgl"
           }
          ],
          "histogram": [
           {
            "marker": {
             "colorbar": {
              "outlinewidth": 0,
              "ticks": ""
             }
            },
            "type": "histogram"
           }
          ],
          "histogram2d": [
           {
            "colorbar": {
             "outlinewidth": 0,
             "ticks": ""
            },
            "colorscale": [
             [
              0,
              "#0d0887"
             ],
             [
              0.1111111111111111,
              "#46039f"
             ],
             [
              0.2222222222222222,
              "#7201a8"
             ],
             [
              0.3333333333333333,
              "#9c179e"
             ],
             [
              0.4444444444444444,
              "#bd3786"
             ],
             [
              0.5555555555555556,
              "#d8576b"
             ],
             [
              0.6666666666666666,
              "#ed7953"
             ],
             [
              0.7777777777777778,
              "#fb9f3a"
             ],
             [
              0.8888888888888888,
              "#fdca26"
             ],
             [
              1,
              "#f0f921"
             ]
            ],
            "type": "histogram2d"
           }
          ],
          "histogram2dcontour": [
           {
            "colorbar": {
             "outlinewidth": 0,
             "ticks": ""
            },
            "colorscale": [
             [
              0,
              "#0d0887"
             ],
             [
              0.1111111111111111,
              "#46039f"
             ],
             [
              0.2222222222222222,
              "#7201a8"
             ],
             [
              0.3333333333333333,
              "#9c179e"
             ],
             [
              0.4444444444444444,
              "#bd3786"
             ],
             [
              0.5555555555555556,
              "#d8576b"
             ],
             [
              0.6666666666666666,
              "#ed7953"
             ],
             [
              0.7777777777777778,
              "#fb9f3a"
             ],
             [
              0.8888888888888888,
              "#fdca26"
             ],
             [
              1,
              "#f0f921"
             ]
            ],
            "type": "histogram2dcontour"
           }
          ],
          "mesh3d": [
           {
            "colorbar": {
             "outlinewidth": 0,
             "ticks": ""
            },
            "type": "mesh3d"
           }
          ],
          "parcoords": [
           {
            "line": {
             "colorbar": {
              "outlinewidth": 0,
              "ticks": ""
             }
            },
            "type": "parcoords"
           }
          ],
          "pie": [
           {
            "automargin": true,
            "type": "pie"
           }
          ],
          "scatter": [
           {
            "marker": {
             "colorbar": {
              "outlinewidth": 0,
              "ticks": ""
             }
            },
            "type": "scatter"
           }
          ],
          "scatter3d": [
           {
            "line": {
             "colorbar": {
              "outlinewidth": 0,
              "ticks": ""
             }
            },
            "marker": {
             "colorbar": {
              "outlinewidth": 0,
              "ticks": ""
             }
            },
            "type": "scatter3d"
           }
          ],
          "scattercarpet": [
           {
            "marker": {
             "colorbar": {
              "outlinewidth": 0,
              "ticks": ""
             }
            },
            "type": "scattercarpet"
           }
          ],
          "scattergeo": [
           {
            "marker": {
             "colorbar": {
              "outlinewidth": 0,
              "ticks": ""
             }
            },
            "type": "scattergeo"
           }
          ],
          "scattergl": [
           {
            "marker": {
             "colorbar": {
              "outlinewidth": 0,
              "ticks": ""
             }
            },
            "type": "scattergl"
           }
          ],
          "scattermapbox": [
           {
            "marker": {
             "colorbar": {
              "outlinewidth": 0,
              "ticks": ""
             }
            },
            "type": "scattermapbox"
           }
          ],
          "scatterpolar": [
           {
            "marker": {
             "colorbar": {
              "outlinewidth": 0,
              "ticks": ""
             }
            },
            "type": "scatterpolar"
           }
          ],
          "scatterpolargl": [
           {
            "marker": {
             "colorbar": {
              "outlinewidth": 0,
              "ticks": ""
             }
            },
            "type": "scatterpolargl"
           }
          ],
          "scatterternary": [
           {
            "marker": {
             "colorbar": {
              "outlinewidth": 0,
              "ticks": ""
             }
            },
            "type": "scatterternary"
           }
          ],
          "surface": [
           {
            "colorbar": {
             "outlinewidth": 0,
             "ticks": ""
            },
            "colorscale": [
             [
              0,
              "#0d0887"
             ],
             [
              0.1111111111111111,
              "#46039f"
             ],
             [
              0.2222222222222222,
              "#7201a8"
             ],
             [
              0.3333333333333333,
              "#9c179e"
             ],
             [
              0.4444444444444444,
              "#bd3786"
             ],
             [
              0.5555555555555556,
              "#d8576b"
             ],
             [
              0.6666666666666666,
              "#ed7953"
             ],
             [
              0.7777777777777778,
              "#fb9f3a"
             ],
             [
              0.8888888888888888,
              "#fdca26"
             ],
             [
              1,
              "#f0f921"
             ]
            ],
            "type": "surface"
           }
          ],
          "table": [
           {
            "cells": {
             "fill": {
              "color": "#EBF0F8"
             },
             "line": {
              "color": "white"
             }
            },
            "header": {
             "fill": {
              "color": "#C8D4E3"
             },
             "line": {
              "color": "white"
             }
            },
            "type": "table"
           }
          ]
         },
         "layout": {
          "annotationdefaults": {
           "arrowcolor": "#2a3f5f",
           "arrowhead": 0,
           "arrowwidth": 1
          },
          "coloraxis": {
           "colorbar": {
            "outlinewidth": 0,
            "ticks": ""
           }
          },
          "colorscale": {
           "diverging": [
            [
             0,
             "#8e0152"
            ],
            [
             0.1,
             "#c51b7d"
            ],
            [
             0.2,
             "#de77ae"
            ],
            [
             0.3,
             "#f1b6da"
            ],
            [
             0.4,
             "#fde0ef"
            ],
            [
             0.5,
             "#f7f7f7"
            ],
            [
             0.6,
             "#e6f5d0"
            ],
            [
             0.7,
             "#b8e186"
            ],
            [
             0.8,
             "#7fbc41"
            ],
            [
             0.9,
             "#4d9221"
            ],
            [
             1,
             "#276419"
            ]
           ],
           "sequential": [
            [
             0,
             "#0d0887"
            ],
            [
             0.1111111111111111,
             "#46039f"
            ],
            [
             0.2222222222222222,
             "#7201a8"
            ],
            [
             0.3333333333333333,
             "#9c179e"
            ],
            [
             0.4444444444444444,
             "#bd3786"
            ],
            [
             0.5555555555555556,
             "#d8576b"
            ],
            [
             0.6666666666666666,
             "#ed7953"
            ],
            [
             0.7777777777777778,
             "#fb9f3a"
            ],
            [
             0.8888888888888888,
             "#fdca26"
            ],
            [
             1,
             "#f0f921"
            ]
           ],
           "sequentialminus": [
            [
             0,
             "#0d0887"
            ],
            [
             0.1111111111111111,
             "#46039f"
            ],
            [
             0.2222222222222222,
             "#7201a8"
            ],
            [
             0.3333333333333333,
             "#9c179e"
            ],
            [
             0.4444444444444444,
             "#bd3786"
            ],
            [
             0.5555555555555556,
             "#d8576b"
            ],
            [
             0.6666666666666666,
             "#ed7953"
            ],
            [
             0.7777777777777778,
             "#fb9f3a"
            ],
            [
             0.8888888888888888,
             "#fdca26"
            ],
            [
             1,
             "#f0f921"
            ]
           ]
          },
          "colorway": [
           "#636efa",
           "#EF553B",
           "#00cc96",
           "#ab63fa",
           "#FFA15A",
           "#19d3f3",
           "#FF6692",
           "#B6E880",
           "#FF97FF",
           "#FECB52"
          ],
          "font": {
           "color": "#2a3f5f"
          },
          "geo": {
           "bgcolor": "white",
           "lakecolor": "white",
           "landcolor": "#E5ECF6",
           "showlakes": true,
           "showland": true,
           "subunitcolor": "white"
          },
          "hoverlabel": {
           "align": "left"
          },
          "hovermode": "closest",
          "mapbox": {
           "style": "light"
          },
          "paper_bgcolor": "white",
          "plot_bgcolor": "#E5ECF6",
          "polar": {
           "angularaxis": {
            "gridcolor": "white",
            "linecolor": "white",
            "ticks": ""
           },
           "bgcolor": "#E5ECF6",
           "radialaxis": {
            "gridcolor": "white",
            "linecolor": "white",
            "ticks": ""
           }
          },
          "scene": {
           "xaxis": {
            "backgroundcolor": "#E5ECF6",
            "gridcolor": "white",
            "gridwidth": 2,
            "linecolor": "white",
            "showbackground": true,
            "ticks": "",
            "zerolinecolor": "white"
           },
           "yaxis": {
            "backgroundcolor": "#E5ECF6",
            "gridcolor": "white",
            "gridwidth": 2,
            "linecolor": "white",
            "showbackground": true,
            "ticks": "",
            "zerolinecolor": "white"
           },
           "zaxis": {
            "backgroundcolor": "#E5ECF6",
            "gridcolor": "white",
            "gridwidth": 2,
            "linecolor": "white",
            "showbackground": true,
            "ticks": "",
            "zerolinecolor": "white"
           }
          },
          "shapedefaults": {
           "line": {
            "color": "#2a3f5f"
           }
          },
          "ternary": {
           "aaxis": {
            "gridcolor": "white",
            "linecolor": "white",
            "ticks": ""
           },
           "baxis": {
            "gridcolor": "white",
            "linecolor": "white",
            "ticks": ""
           },
           "bgcolor": "#E5ECF6",
           "caxis": {
            "gridcolor": "white",
            "linecolor": "white",
            "ticks": ""
           }
          },
          "title": {
           "x": 0.05
          },
          "xaxis": {
           "automargin": true,
           "gridcolor": "white",
           "linecolor": "white",
           "ticks": "",
           "title": {
            "standoff": 15
           },
           "zerolinecolor": "white",
           "zerolinewidth": 2
          },
          "yaxis": {
           "automargin": true,
           "gridcolor": "white",
           "linecolor": "white",
           "ticks": "",
           "title": {
            "standoff": 15
           },
           "zerolinecolor": "white",
           "zerolinewidth": 2
          }
         }
        },
        "xaxis": {
         "anchor": "y",
         "domain": [
          0,
          1
         ],
         "title": {
          "text": "month"
         }
        },
        "yaxis": {
         "anchor": "x",
         "domain": [
          0,
          1
         ],
         "title": {
          "text": "value"
         }
        }
       }
      },
      "text/html": [
       "<div>\n",
       "        \n",
       "        \n",
       "            <div id=\"a3c532d0-4aa8-4404-afe3-1af84afa5a21\" class=\"plotly-graph-div\" style=\"height:525px; width:100%;\"></div>\n",
       "            <script type=\"text/javascript\">\n",
       "                require([\"plotly\"], function(Plotly) {\n",
       "                    window.PLOTLYENV=window.PLOTLYENV || {};\n",
       "                    \n",
       "                if (document.getElementById(\"a3c532d0-4aa8-4404-afe3-1af84afa5a21\")) {\n",
       "                    Plotly.newPlot(\n",
       "                        'a3c532d0-4aa8-4404-afe3-1af84afa5a21',\n",
       "                        [{\"hovertemplate\": \"variable=rmb<br>month=%{x}<br>value=%{y}<extra></extra>\", \"legendgroup\": \"rmb\", \"line\": {\"color\": \"#636efa\", \"dash\": \"solid\"}, \"mode\": \"lines\", \"name\": \"rmb\", \"orientation\": \"v\", \"showlegend\": true, \"type\": \"scatter\", \"x\": [1, 2, 3, 4, 5, 6, 7, 8, 9, 10, 11, 12], \"xaxis\": \"x\", \"y\": [54736334, 60233605, 64509844, 70095635, 74892985, 80190053, 85488347, 89825213, 95682971, 99897334, 105491381, 109812912], \"yaxis\": \"y\"}],\n",
       "                        {\"legend\": {\"title\": {\"text\": \"variable\"}, \"tracegroupgap\": 0}, \"margin\": {\"t\": 60}, \"template\": {\"data\": {\"bar\": [{\"error_x\": {\"color\": \"#2a3f5f\"}, \"error_y\": {\"color\": \"#2a3f5f\"}, \"marker\": {\"line\": {\"color\": \"#E5ECF6\", \"width\": 0.5}}, \"type\": \"bar\"}], \"barpolar\": [{\"marker\": {\"line\": {\"color\": \"#E5ECF6\", \"width\": 0.5}}, \"type\": \"barpolar\"}], \"carpet\": [{\"aaxis\": {\"endlinecolor\": \"#2a3f5f\", \"gridcolor\": \"white\", \"linecolor\": \"white\", \"minorgridcolor\": \"white\", \"startlinecolor\": \"#2a3f5f\"}, \"baxis\": {\"endlinecolor\": \"#2a3f5f\", \"gridcolor\": \"white\", \"linecolor\": \"white\", \"minorgridcolor\": \"white\", \"startlinecolor\": \"#2a3f5f\"}, \"type\": \"carpet\"}], \"choropleth\": [{\"colorbar\": {\"outlinewidth\": 0, \"ticks\": \"\"}, \"type\": \"choropleth\"}], \"contour\": [{\"colorbar\": {\"outlinewidth\": 0, \"ticks\": \"\"}, \"colorscale\": [[0.0, \"#0d0887\"], [0.1111111111111111, \"#46039f\"], [0.2222222222222222, \"#7201a8\"], [0.3333333333333333, \"#9c179e\"], [0.4444444444444444, \"#bd3786\"], [0.5555555555555556, \"#d8576b\"], [0.6666666666666666, \"#ed7953\"], [0.7777777777777778, \"#fb9f3a\"], [0.8888888888888888, \"#fdca26\"], [1.0, \"#f0f921\"]], \"type\": \"contour\"}], \"contourcarpet\": [{\"colorbar\": {\"outlinewidth\": 0, \"ticks\": \"\"}, \"type\": \"contourcarpet\"}], \"heatmap\": [{\"colorbar\": {\"outlinewidth\": 0, \"ticks\": \"\"}, \"colorscale\": [[0.0, \"#0d0887\"], [0.1111111111111111, \"#46039f\"], [0.2222222222222222, \"#7201a8\"], [0.3333333333333333, \"#9c179e\"], [0.4444444444444444, \"#bd3786\"], [0.5555555555555556, \"#d8576b\"], [0.6666666666666666, \"#ed7953\"], [0.7777777777777778, \"#fb9f3a\"], [0.8888888888888888, \"#fdca26\"], [1.0, \"#f0f921\"]], \"type\": \"heatmap\"}], \"heatmapgl\": [{\"colorbar\": {\"outlinewidth\": 0, \"ticks\": \"\"}, \"colorscale\": [[0.0, \"#0d0887\"], [0.1111111111111111, \"#46039f\"], [0.2222222222222222, \"#7201a8\"], [0.3333333333333333, \"#9c179e\"], [0.4444444444444444, \"#bd3786\"], [0.5555555555555556, \"#d8576b\"], [0.6666666666666666, \"#ed7953\"], [0.7777777777777778, \"#fb9f3a\"], [0.8888888888888888, \"#fdca26\"], [1.0, \"#f0f921\"]], \"type\": \"heatmapgl\"}], \"histogram\": [{\"marker\": {\"colorbar\": {\"outlinewidth\": 0, \"ticks\": \"\"}}, \"type\": \"histogram\"}], \"histogram2d\": [{\"colorbar\": {\"outlinewidth\": 0, \"ticks\": \"\"}, \"colorscale\": [[0.0, \"#0d0887\"], [0.1111111111111111, \"#46039f\"], [0.2222222222222222, \"#7201a8\"], [0.3333333333333333, \"#9c179e\"], [0.4444444444444444, \"#bd3786\"], [0.5555555555555556, \"#d8576b\"], [0.6666666666666666, \"#ed7953\"], [0.7777777777777778, \"#fb9f3a\"], [0.8888888888888888, \"#fdca26\"], [1.0, \"#f0f921\"]], \"type\": \"histogram2d\"}], \"histogram2dcontour\": [{\"colorbar\": {\"outlinewidth\": 0, \"ticks\": \"\"}, \"colorscale\": [[0.0, \"#0d0887\"], [0.1111111111111111, \"#46039f\"], [0.2222222222222222, \"#7201a8\"], [0.3333333333333333, \"#9c179e\"], [0.4444444444444444, \"#bd3786\"], [0.5555555555555556, \"#d8576b\"], [0.6666666666666666, \"#ed7953\"], [0.7777777777777778, \"#fb9f3a\"], [0.8888888888888888, \"#fdca26\"], [1.0, \"#f0f921\"]], \"type\": \"histogram2dcontour\"}], \"mesh3d\": [{\"colorbar\": {\"outlinewidth\": 0, \"ticks\": \"\"}, \"type\": \"mesh3d\"}], \"parcoords\": [{\"line\": {\"colorbar\": {\"outlinewidth\": 0, \"ticks\": \"\"}}, \"type\": \"parcoords\"}], \"pie\": [{\"automargin\": true, \"type\": \"pie\"}], \"scatter\": [{\"marker\": {\"colorbar\": {\"outlinewidth\": 0, \"ticks\": \"\"}}, \"type\": \"scatter\"}], \"scatter3d\": [{\"line\": {\"colorbar\": {\"outlinewidth\": 0, \"ticks\": \"\"}}, \"marker\": {\"colorbar\": {\"outlinewidth\": 0, \"ticks\": \"\"}}, \"type\": \"scatter3d\"}], \"scattercarpet\": [{\"marker\": {\"colorbar\": {\"outlinewidth\": 0, \"ticks\": \"\"}}, \"type\": \"scattercarpet\"}], \"scattergeo\": [{\"marker\": {\"colorbar\": {\"outlinewidth\": 0, \"ticks\": \"\"}}, \"type\": \"scattergeo\"}], \"scattergl\": [{\"marker\": {\"colorbar\": {\"outlinewidth\": 0, \"ticks\": \"\"}}, \"type\": \"scattergl\"}], \"scattermapbox\": [{\"marker\": {\"colorbar\": {\"outlinewidth\": 0, \"ticks\": \"\"}}, \"type\": \"scattermapbox\"}], \"scatterpolar\": [{\"marker\": {\"colorbar\": {\"outlinewidth\": 0, \"ticks\": \"\"}}, \"type\": \"scatterpolar\"}], \"scatterpolargl\": [{\"marker\": {\"colorbar\": {\"outlinewidth\": 0, \"ticks\": \"\"}}, \"type\": \"scatterpolargl\"}], \"scatterternary\": [{\"marker\": {\"colorbar\": {\"outlinewidth\": 0, \"ticks\": \"\"}}, \"type\": \"scatterternary\"}], \"surface\": [{\"colorbar\": {\"outlinewidth\": 0, \"ticks\": \"\"}, \"colorscale\": [[0.0, \"#0d0887\"], [0.1111111111111111, \"#46039f\"], [0.2222222222222222, \"#7201a8\"], [0.3333333333333333, \"#9c179e\"], [0.4444444444444444, \"#bd3786\"], [0.5555555555555556, \"#d8576b\"], [0.6666666666666666, \"#ed7953\"], [0.7777777777777778, \"#fb9f3a\"], [0.8888888888888888, \"#fdca26\"], [1.0, \"#f0f921\"]], \"type\": \"surface\"}], \"table\": [{\"cells\": {\"fill\": {\"color\": \"#EBF0F8\"}, \"line\": {\"color\": \"white\"}}, \"header\": {\"fill\": {\"color\": \"#C8D4E3\"}, \"line\": {\"color\": \"white\"}}, \"type\": \"table\"}]}, \"layout\": {\"annotationdefaults\": {\"arrowcolor\": \"#2a3f5f\", \"arrowhead\": 0, \"arrowwidth\": 1}, \"coloraxis\": {\"colorbar\": {\"outlinewidth\": 0, \"ticks\": \"\"}}, \"colorscale\": {\"diverging\": [[0, \"#8e0152\"], [0.1, \"#c51b7d\"], [0.2, \"#de77ae\"], [0.3, \"#f1b6da\"], [0.4, \"#fde0ef\"], [0.5, \"#f7f7f7\"], [0.6, \"#e6f5d0\"], [0.7, \"#b8e186\"], [0.8, \"#7fbc41\"], [0.9, \"#4d9221\"], [1, \"#276419\"]], \"sequential\": [[0.0, \"#0d0887\"], [0.1111111111111111, \"#46039f\"], [0.2222222222222222, \"#7201a8\"], [0.3333333333333333, \"#9c179e\"], [0.4444444444444444, \"#bd3786\"], [0.5555555555555556, \"#d8576b\"], [0.6666666666666666, \"#ed7953\"], [0.7777777777777778, \"#fb9f3a\"], [0.8888888888888888, \"#fdca26\"], [1.0, \"#f0f921\"]], \"sequentialminus\": [[0.0, \"#0d0887\"], [0.1111111111111111, \"#46039f\"], [0.2222222222222222, \"#7201a8\"], [0.3333333333333333, \"#9c179e\"], [0.4444444444444444, \"#bd3786\"], [0.5555555555555556, \"#d8576b\"], [0.6666666666666666, \"#ed7953\"], [0.7777777777777778, \"#fb9f3a\"], [0.8888888888888888, \"#fdca26\"], [1.0, \"#f0f921\"]]}, \"colorway\": [\"#636efa\", \"#EF553B\", \"#00cc96\", \"#ab63fa\", \"#FFA15A\", \"#19d3f3\", \"#FF6692\", \"#B6E880\", \"#FF97FF\", \"#FECB52\"], \"font\": {\"color\": \"#2a3f5f\"}, \"geo\": {\"bgcolor\": \"white\", \"lakecolor\": \"white\", \"landcolor\": \"#E5ECF6\", \"showlakes\": true, \"showland\": true, \"subunitcolor\": \"white\"}, \"hoverlabel\": {\"align\": \"left\"}, \"hovermode\": \"closest\", \"mapbox\": {\"style\": \"light\"}, \"paper_bgcolor\": \"white\", \"plot_bgcolor\": \"#E5ECF6\", \"polar\": {\"angularaxis\": {\"gridcolor\": \"white\", \"linecolor\": \"white\", \"ticks\": \"\"}, \"bgcolor\": \"#E5ECF6\", \"radialaxis\": {\"gridcolor\": \"white\", \"linecolor\": \"white\", \"ticks\": \"\"}}, \"scene\": {\"xaxis\": {\"backgroundcolor\": \"#E5ECF6\", \"gridcolor\": \"white\", \"gridwidth\": 2, \"linecolor\": \"white\", \"showbackground\": true, \"ticks\": \"\", \"zerolinecolor\": \"white\"}, \"yaxis\": {\"backgroundcolor\": \"#E5ECF6\", \"gridcolor\": \"white\", \"gridwidth\": 2, \"linecolor\": \"white\", \"showbackground\": true, \"ticks\": \"\", \"zerolinecolor\": \"white\"}, \"zaxis\": {\"backgroundcolor\": \"#E5ECF6\", \"gridcolor\": \"white\", \"gridwidth\": 2, \"linecolor\": \"white\", \"showbackground\": true, \"ticks\": \"\", \"zerolinecolor\": \"white\"}}, \"shapedefaults\": {\"line\": {\"color\": \"#2a3f5f\"}}, \"ternary\": {\"aaxis\": {\"gridcolor\": \"white\", \"linecolor\": \"white\", \"ticks\": \"\"}, \"baxis\": {\"gridcolor\": \"white\", \"linecolor\": \"white\", \"ticks\": \"\"}, \"bgcolor\": \"#E5ECF6\", \"caxis\": {\"gridcolor\": \"white\", \"linecolor\": \"white\", \"ticks\": \"\"}}, \"title\": {\"x\": 0.05}, \"xaxis\": {\"automargin\": true, \"gridcolor\": \"white\", \"linecolor\": \"white\", \"ticks\": \"\", \"title\": {\"standoff\": 15}, \"zerolinecolor\": \"white\", \"zerolinewidth\": 2}, \"yaxis\": {\"automargin\": true, \"gridcolor\": \"white\", \"linecolor\": \"white\", \"ticks\": \"\", \"title\": {\"standoff\": 15}, \"zerolinecolor\": \"white\", \"zerolinewidth\": 2}}}, \"xaxis\": {\"anchor\": \"y\", \"domain\": [0.0, 1.0], \"title\": {\"text\": \"month\"}}, \"yaxis\": {\"anchor\": \"x\", \"domain\": [0.0, 1.0], \"title\": {\"text\": \"value\"}}},\n",
       "                        {\"responsive\": true}\n",
       "                    ).then(function(){\n",
       "                            \n",
       "var gd = document.getElementById('a3c532d0-4aa8-4404-afe3-1af84afa5a21');\n",
       "var x = new MutationObserver(function (mutations, observer) {{\n",
       "        var display = window.getComputedStyle(gd).display;\n",
       "        if (!display || display === 'none') {{\n",
       "            console.log([gd, 'removed!']);\n",
       "            Plotly.purge(gd);\n",
       "            observer.disconnect();\n",
       "        }}\n",
       "}});\n",
       "\n",
       "// Listen for the removal of the full notebook cells\n",
       "var notebookContainer = gd.closest('#notebook-container');\n",
       "if (notebookContainer) {{\n",
       "    x.observe(notebookContainer, {childList: true});\n",
       "}}\n",
       "\n",
       "// Listen for the clearing of the current output cell\n",
       "var outputEl = gd.closest('.output');\n",
       "if (outputEl) {{\n",
       "    x.observe(outputEl, {childList: true});\n",
       "}}\n",
       "\n",
       "                        })\n",
       "                };\n",
       "                });\n",
       "            </script>\n",
       "        </div>"
      ]
     },
     "metadata": {},
     "output_type": "display_data"
    }
   ],
   "source": [
    "# 画图看费用趋势（非题目）\n",
    "trend_fig = total_rmb_trend.plot()\n",
    "trend_fig.show()"
   ]
  },
  {
   "cell_type": "code",
   "execution_count": 32,
   "metadata": {
    "ExecuteTime": {
     "end_time": "2020-08-04T09:20:11.754010Z",
     "start_time": "2020-08-04T09:20:10.628271Z"
    }
   },
   "outputs": [
    {
     "data": {
      "image/png": "[encoded data removed]"
     },
     "metadata": {},
     "output_type": "display_data"
    }
   ],
   "source": [
    "#为了能在 GitHub 中也能看到图，我使用了 show('png'), (非题目)\n",
    "trend_fig.show('png')"
   ]
  },
  {
   "cell_type": "markdown",
   "metadata": {},
   "source": [
    "# 8. 参考资料\n",
    "* [一文看懂 Pandas 透视表](https://zhuanlan.zhihu.com/p/31952948)\n",
    "* pd.melt 把宽表变成窄表  [Pandas melt 使用](https://blog.csdn.net/maymay_/article/details/80039677)\n",
    "* [python glob模块](https://blog.csdn.net/csapr1987/article/details/7469769)\n",
    "* [python glob.glob使用](https://blog.csdn.net/mantoureganmian/article/details/47949101)\n",
    "* [Pandas之drop_duplicates：去除重复项](https://blog.csdn.net/u010665216/article/details/78559091)\n",
    "* [Python3 pandas库 时间日期高效操作 .dt](https://zhuanlan.zhihu.com/p/31490318)\n",
    "* [Python: Pandas中stack和unstack的形象理解](https://blog.csdn.net/anshuai_aw1/article/details/82830916) #补充资料，选 学"
   ]
  }
 ],
 "metadata": {
  "kernelspec": {
   "display_name": "Python 3",
   "language": "python",
   "name": "python3"
  },
  "language_info": {
   "codemirror_mode": {
    "name": "ipython",
    "version": 3
   },
   "file_extension": ".py",
   "mimetype": "text/x-python",
   "name": "python",
   "nbconvert_exporter": "python",
   "pygments_lexer": "ipython3",
   "version": "3.7.6"
  },
  "toc": {
   "base_numbering": 1,
   "nav_menu": {},
   "number_sections": true,
   "sideBar": true,
   "skip_h1_title": false,
   "title_cell": "Table of Contents",
   "title_sidebar": "Contents",
   "toc_cell": false,
   "toc_position": {},
   "toc_section_display": true,
   "toc_window_display": false
  },
  "varInspector": {
   "cols": {
    "lenName": 16,
    "lenType": 16,
    "lenVar": 40
   },
   "kernels_config": {
    "python": {
     "delete_cmd_postfix": "",
     "delete_cmd_prefix": "del ",
     "library": "var_list.py",
     "varRefreshCmd": "print(var_dic_list())"
    },
    "r": {
     "delete_cmd_postfix": ") ",
     "delete_cmd_prefix": "rm(",
     "library": "var_list.r",
     "varRefreshCmd": "cat(var_dic_list()) "
    }
   },
   "types_to_exclude": [
    "module",
    "function",
    "builtin_function_or_method",
    "instance",
    "_Feature"
   ],
   "window_display": false
  }
 },
 "nbformat": 4,
 "nbformat_minor": 4
}
