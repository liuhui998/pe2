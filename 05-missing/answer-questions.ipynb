{
 "cells": [
  {
   "cell_type": "markdown",
   "metadata": {},
   "source": [
    "# 1. 免学部分\n",
    "* 这一章只有14面内容，所以暂不设免学部分"
   ]
  },
  {
   "cell_type": "markdown",
   "metadata": {
    "ExecuteTime": {
     "end_time": "2020-07-29T03:37:40.187956Z",
     "start_time": "2020-07-29T03:37:40.184665Z"
    }
   },
   "source": [
    "# 2. 前言\n",
    "\n",
    "* 大家在做题目前一定要先把第5章的书大概的读一下\n",
    "* 写本作业，请使用 Anaconda 里的 Notebook\n",
    "* 我做了一个[打包下载 Link](https://downgit.github.io/#/home?url=https://github.com/liuhui998/pe2/tree/master/05-missing), 大家下载下来解压后，使用 Notebook 打开"
   ]
  },
  {
   "cell_type": "markdown",
   "metadata": {},
   "source": [
    "# 3. 学习概要\n",
    "* 我会在每道题有前标明对的书页码\n",
    "* 如果超纲我会提前提示，并加上资料 Link\n",
    "---\n",
    "\n",
    "知识点整理\n",
    "\n",
    "* "
   ]
  },
  {
   "cell_type": "markdown",
   "metadata": {},
   "source": [
    "# 找出订单表中没有物流号的订单\n"
   ]
  },
  {
   "cell_type": "markdown",
   "metadata": {},
   "source": [
    "# 处理 Amazon review 数据缺失的情况\n",
    "---\n",
    "* 现在有一张 SKU A1234 的 Amazon Review 表\n",
    "* 字段有两列: day（日期）, star（星级）\n",
    "* 现在有一些的数据是缺失的，我们想把它补上\n",
    "\n",
    "---\n"
   ]
  },
  {
   "cell_type": "markdown",
   "metadata": {},
   "source": [
    "# 处理缺失的客户调查数据\n",
    "---\n",
    "* 现在有一张客户调查表 survey\n",
    "* 字段有 name(姓名),gender(性别),income(收入）\n",
    "\n",
    "--- \n",
    "* 删掉所有 gender(性别） 为空的调查数据\n",
    "\n",
    "* 分别计算男性 (gender=='Male') 的平均收入 \n",
    "\n",
    "  (先对 gender 过滤, 再对 income 用 sum 求和，记得使用 skipna 参数）\n",
    "  \n",
    "* 分别计算男性 (gender=='Female') 的平均收入\n",
    "\n",
    "* 使用男性平均收入，填充男性客户收入值缺失的数据 (income.isnull())\n",
    "\n",
    "* 使用女性平均收入，填充女性客户收入值缺失的数据 (income.isnull())"
   ]
  }
 ],
 "metadata": {
  "kernelspec": {
   "display_name": "Python 3",
   "language": "python",
   "name": "python3"
  },
  "language_info": {
   "codemirror_mode": {
    "name": "ipython",
    "version": 3
   },
   "file_extension": ".py",
   "mimetype": "text/x-python",
   "name": "python",
   "nbconvert_exporter": "python",
   "pygments_lexer": "ipython3",
   "version": "3.7.6"
  },
  "toc": {
   "base_numbering": 1,
   "nav_menu": {},
   "number_sections": true,
   "sideBar": true,
   "skip_h1_title": false,
   "title_cell": "Table of Contents",
   "title_sidebar": "Contents",
   "toc_cell": false,
   "toc_position": {},
   "toc_section_display": true,
   "toc_window_display": false
  },
  "varInspector": {
   "cols": {
    "lenName": 16,
    "lenType": 16,
    "lenVar": 40
   },
   "kernels_config": {
    "python": {
     "delete_cmd_postfix": "",
     "delete_cmd_prefix": "del ",
     "library": "var_list.py",
     "varRefreshCmd": "print(var_dic_list())"
    },
    "r": {
     "delete_cmd_postfix": ") ",
     "delete_cmd_prefix": "rm(",
     "library": "var_list.r",
     "varRefreshCmd": "cat(var_dic_list()) "
    }
   },
   "types_to_exclude": [
    "module",
    "function",
    "builtin_function_or_method",
    "instance",
    "_Feature"
   ],
   "window_display": false
  }
 },
 "nbformat": 4,
 "nbformat_minor": 4
}
