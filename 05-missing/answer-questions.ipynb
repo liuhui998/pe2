{
 "cells": [
  {
   "cell_type": "markdown",
   "metadata": {},
   "source": [
    "# 1. 免学部分\n",
    "* 这一章只有14面内容，所以暂不设免学部分"
   ]
  },
  {
   "cell_type": "markdown",
   "metadata": {
    "ExecuteTime": {
     "end_time": "2020-07-29T03:37:40.187956Z",
     "start_time": "2020-07-29T03:37:40.184665Z"
    }
   },
   "source": [
    "# 2. 前言\n",
    "\n",
    "* 大家在做题目前一定要先把第5章的书大概的读一下\n",
    "* 写本作业，请使用 Anaconda 里的 Notebook\n",
    "* 我做了一个[打包下载 Link](https://downgit.github.io/#/home?url=https://github.com/liuhui998/pe2/tree/master/05-missing), 大家下载下来解压后，使用 Notebook 打开"
   ]
  },
  {
   "cell_type": "markdown",
   "metadata": {},
   "source": [
    "# 3. 学习概要\n",
    "* 我会在每道题有前标明对的书页码\n",
    "* 如果超纲我会提前提示，并加上资料 Link\n",
    "---\n",
    "\n",
    "知识点整理\n",
    "\n",
    "* "
   ]
  },
  {
   "cell_type": "code",
   "execution_count": 17,
   "metadata": {
    "ExecuteTime": {
     "end_time": "2020-07-30T02:29:19.755658Z",
     "start_time": "2020-07-30T02:29:19.753050Z"
    }
   },
   "outputs": [],
   "source": [
    "import pandas as pd"
   ]
  },
  {
   "cell_type": "markdown",
   "metadata": {},
   "source": [
    "# 找出订单表中没有物流号的订单\n",
    "\n",
    "* 读取本地目录下的 trackings_all.xlsx 到  trackings_all\n",
    "* 找出 tracking_no 为空的数据，并输出\n",
    "* 将tracking_no 为空的数据的 tracking_no 改为 \"missing\", is_delivered 为 0\n"
   ]
  },
  {
   "cell_type": "code",
   "execution_count": 18,
   "metadata": {
    "ExecuteTime": {
     "end_time": "2020-07-30T02:29:21.016873Z",
     "start_time": "2020-07-30T02:29:21.001040Z"
    }
   },
   "outputs": [
    {
     "data": {
      "text/html": [
       "<div>\n",
       "<style scoped>\n",
       "    .dataframe tbody tr th:only-of-type {\n",
       "        vertical-align: middle;\n",
       "    }\n",
       "\n",
       "    .dataframe tbody tr th {\n",
       "        vertical-align: top;\n",
       "    }\n",
       "\n",
       "    .dataframe thead th {\n",
       "        text-align: right;\n",
       "    }\n",
       "</style>\n",
       "<table border=\"1\" class=\"dataframe\">\n",
       "  <thead>\n",
       "    <tr style=\"text-align: right;\">\n",
       "      <th></th>\n",
       "      <th>order_no</th>\n",
       "      <th>sku</th>\n",
       "      <th>quantity</th>\n",
       "      <th>tracking_no</th>\n",
       "      <th>is_delivered</th>\n",
       "    </tr>\n",
       "  </thead>\n",
       "  <tbody>\n",
       "    <tr>\n",
       "      <th>0</th>\n",
       "      <td>O_2020_01</td>\n",
       "      <td>A1234</td>\n",
       "      <td>2</td>\n",
       "      <td>T_2020_1</td>\n",
       "      <td>1.0</td>\n",
       "    </tr>\n",
       "    <tr>\n",
       "      <th>1</th>\n",
       "      <td>O_2020_02</td>\n",
       "      <td>A1234</td>\n",
       "      <td>2</td>\n",
       "      <td>T_2020_2</td>\n",
       "      <td>0.0</td>\n",
       "    </tr>\n",
       "    <tr>\n",
       "      <th>2</th>\n",
       "      <td>O_2020_03</td>\n",
       "      <td>A1235</td>\n",
       "      <td>1</td>\n",
       "      <td>T_2020_3</td>\n",
       "      <td>1.0</td>\n",
       "    </tr>\n",
       "    <tr>\n",
       "      <th>3</th>\n",
       "      <td>O_2020_04</td>\n",
       "      <td>A1235</td>\n",
       "      <td>1</td>\n",
       "      <td>NaN</td>\n",
       "      <td>NaN</td>\n",
       "    </tr>\n",
       "  </tbody>\n",
       "</table>\n",
       "</div>"
      ],
      "text/plain": [
       "    order_no    sku  quantity tracking_no  is_delivered\n",
       "0  O_2020_01  A1234         2    T_2020_1           1.0\n",
       "1  O_2020_02  A1234         2    T_2020_2           0.0\n",
       "2  O_2020_03  A1235         1    T_2020_3           1.0\n",
       "3  O_2020_04  A1235         1         NaN           NaN"
      ]
     },
     "execution_count": 18,
     "metadata": {},
     "output_type": "execute_result"
    }
   ],
   "source": [
    "trackings_all = pd.read_excel(\"trackings_all.xlsx\")\n",
    "trackings_all"
   ]
  },
  {
   "cell_type": "code",
   "execution_count": 27,
   "metadata": {
    "ExecuteTime": {
     "end_time": "2020-07-30T02:34:16.819873Z",
     "start_time": "2020-07-30T02:34:16.813905Z"
    }
   },
   "outputs": [
    {
     "data": {
      "text/plain": [
       "0    T_2020_1\n",
       "1    T_2020_2\n",
       "2    T_2020_3\n",
       "3     missing\n",
       "Name: tracking_no, dtype: object"
      ]
     },
     "execution_count": 27,
     "metadata": {},
     "output_type": "execute_result"
    }
   ],
   "source": [
    "# 这样改不会改掉 trackings_all 里的内容\n",
    "trackings_all.tracking_no.fillna(\"missing\")"
   ]
  },
  {
   "cell_type": "code",
   "execution_count": 28,
   "metadata": {
    "ExecuteTime": {
     "end_time": "2020-07-30T02:36:45.882719Z",
     "start_time": "2020-07-30T02:36:45.874279Z"
    }
   },
   "outputs": [
    {
     "data": {
      "text/html": [
       "<div>\n",
       "<style scoped>\n",
       "    .dataframe tbody tr th:only-of-type {\n",
       "        vertical-align: middle;\n",
       "    }\n",
       "\n",
       "    .dataframe tbody tr th {\n",
       "        vertical-align: top;\n",
       "    }\n",
       "\n",
       "    .dataframe thead th {\n",
       "        text-align: right;\n",
       "    }\n",
       "</style>\n",
       "<table border=\"1\" class=\"dataframe\">\n",
       "  <thead>\n",
       "    <tr style=\"text-align: right;\">\n",
       "      <th></th>\n",
       "      <th>order_no</th>\n",
       "      <th>sku</th>\n",
       "      <th>quantity</th>\n",
       "      <th>tracking_no</th>\n",
       "      <th>is_delivered</th>\n",
       "    </tr>\n",
       "  </thead>\n",
       "  <tbody>\n",
       "    <tr>\n",
       "      <th>0</th>\n",
       "      <td>O_2020_01</td>\n",
       "      <td>A1234</td>\n",
       "      <td>2</td>\n",
       "      <td>T_2020_1</td>\n",
       "      <td>1.0</td>\n",
       "    </tr>\n",
       "    <tr>\n",
       "      <th>1</th>\n",
       "      <td>O_2020_02</td>\n",
       "      <td>A1234</td>\n",
       "      <td>2</td>\n",
       "      <td>T_2020_2</td>\n",
       "      <td>0.0</td>\n",
       "    </tr>\n",
       "    <tr>\n",
       "      <th>2</th>\n",
       "      <td>O_2020_03</td>\n",
       "      <td>A1235</td>\n",
       "      <td>1</td>\n",
       "      <td>T_2020_3</td>\n",
       "      <td>1.0</td>\n",
       "    </tr>\n",
       "    <tr>\n",
       "      <th>3</th>\n",
       "      <td>O_2020_04</td>\n",
       "      <td>A1235</td>\n",
       "      <td>1</td>\n",
       "      <td>NaN</td>\n",
       "      <td>NaN</td>\n",
       "    </tr>\n",
       "  </tbody>\n",
       "</table>\n",
       "</div>"
      ],
      "text/plain": [
       "    order_no    sku  quantity tracking_no  is_delivered\n",
       "0  O_2020_01  A1234         2    T_2020_1           1.0\n",
       "1  O_2020_02  A1234         2    T_2020_2           0.0\n",
       "2  O_2020_03  A1235         1    T_2020_3           1.0\n",
       "3  O_2020_04  A1235         1         NaN           NaN"
      ]
     },
     "execution_count": 28,
     "metadata": {},
     "output_type": "execute_result"
    }
   ],
   "source": [
    "# 现在 tracking_no 还是为空\n",
    "trackings_all"
   ]
  },
  {
   "cell_type": "code",
   "execution_count": 30,
   "metadata": {
    "ExecuteTime": {
     "end_time": "2020-07-30T02:37:36.591707Z",
     "start_time": "2020-07-30T02:37:36.582782Z"
    }
   },
   "outputs": [
    {
     "data": {
      "text/html": [
       "<div>\n",
       "<style scoped>\n",
       "    .dataframe tbody tr th:only-of-type {\n",
       "        vertical-align: middle;\n",
       "    }\n",
       "\n",
       "    .dataframe tbody tr th {\n",
       "        vertical-align: top;\n",
       "    }\n",
       "\n",
       "    .dataframe thead th {\n",
       "        text-align: right;\n",
       "    }\n",
       "</style>\n",
       "<table border=\"1\" class=\"dataframe\">\n",
       "  <thead>\n",
       "    <tr style=\"text-align: right;\">\n",
       "      <th></th>\n",
       "      <th>order_no</th>\n",
       "      <th>sku</th>\n",
       "      <th>quantity</th>\n",
       "      <th>tracking_no</th>\n",
       "      <th>is_delivered</th>\n",
       "    </tr>\n",
       "  </thead>\n",
       "  <tbody>\n",
       "    <tr>\n",
       "      <th>0</th>\n",
       "      <td>O_2020_01</td>\n",
       "      <td>A1234</td>\n",
       "      <td>2</td>\n",
       "      <td>T_2020_1</td>\n",
       "      <td>1.0</td>\n",
       "    </tr>\n",
       "    <tr>\n",
       "      <th>1</th>\n",
       "      <td>O_2020_02</td>\n",
       "      <td>A1234</td>\n",
       "      <td>2</td>\n",
       "      <td>T_2020_2</td>\n",
       "      <td>0.0</td>\n",
       "    </tr>\n",
       "    <tr>\n",
       "      <th>2</th>\n",
       "      <td>O_2020_03</td>\n",
       "      <td>A1235</td>\n",
       "      <td>1</td>\n",
       "      <td>T_2020_3</td>\n",
       "      <td>1.0</td>\n",
       "    </tr>\n",
       "    <tr>\n",
       "      <th>3</th>\n",
       "      <td>O_2020_04</td>\n",
       "      <td>A1235</td>\n",
       "      <td>1</td>\n",
       "      <td>missing</td>\n",
       "      <td>NaN</td>\n",
       "    </tr>\n",
       "  </tbody>\n",
       "</table>\n",
       "</div>"
      ],
      "text/plain": [
       "    order_no    sku  quantity tracking_no  is_delivered\n",
       "0  O_2020_01  A1234         2    T_2020_1           1.0\n",
       "1  O_2020_02  A1234         2    T_2020_2           0.0\n",
       "2  O_2020_03  A1235         1    T_2020_3           1.0\n",
       "3  O_2020_04  A1235         1     missing           NaN"
      ]
     },
     "execution_count": 30,
     "metadata": {},
     "output_type": "execute_result"
    }
   ],
   "source": [
    "# 将tracking_no 为空的数据的 tracking_no 改为 \"missing\"\n",
    "# 加入了 inplace = True, 就会直接改原始值，而不只是返回一个新的数值\n",
    "# inplace = True 在后面很多函数都可以用到，大家一定记住\n",
    "trackings_all.tracking_no.fillna('missing',inplace = True)\n",
    "trackings_all"
   ]
  },
  {
   "cell_type": "code",
   "execution_count": 31,
   "metadata": {
    "ExecuteTime": {
     "end_time": "2020-07-30T02:39:21.372114Z",
     "start_time": "2020-07-30T02:39:21.362863Z"
    }
   },
   "outputs": [
    {
     "data": {
      "text/html": [
       "<div>\n",
       "<style scoped>\n",
       "    .dataframe tbody tr th:only-of-type {\n",
       "        vertical-align: middle;\n",
       "    }\n",
       "\n",
       "    .dataframe tbody tr th {\n",
       "        vertical-align: top;\n",
       "    }\n",
       "\n",
       "    .dataframe thead th {\n",
       "        text-align: right;\n",
       "    }\n",
       "</style>\n",
       "<table border=\"1\" class=\"dataframe\">\n",
       "  <thead>\n",
       "    <tr style=\"text-align: right;\">\n",
       "      <th></th>\n",
       "      <th>order_no</th>\n",
       "      <th>sku</th>\n",
       "      <th>quantity</th>\n",
       "      <th>tracking_no</th>\n",
       "      <th>is_delivered</th>\n",
       "    </tr>\n",
       "  </thead>\n",
       "  <tbody>\n",
       "    <tr>\n",
       "      <th>0</th>\n",
       "      <td>O_2020_01</td>\n",
       "      <td>A1234</td>\n",
       "      <td>2</td>\n",
       "      <td>T_2020_1</td>\n",
       "      <td>1.0</td>\n",
       "    </tr>\n",
       "    <tr>\n",
       "      <th>1</th>\n",
       "      <td>O_2020_02</td>\n",
       "      <td>A1234</td>\n",
       "      <td>2</td>\n",
       "      <td>T_2020_2</td>\n",
       "      <td>0.0</td>\n",
       "    </tr>\n",
       "    <tr>\n",
       "      <th>2</th>\n",
       "      <td>O_2020_03</td>\n",
       "      <td>A1235</td>\n",
       "      <td>1</td>\n",
       "      <td>T_2020_3</td>\n",
       "      <td>1.0</td>\n",
       "    </tr>\n",
       "    <tr>\n",
       "      <th>3</th>\n",
       "      <td>O_2020_04</td>\n",
       "      <td>A1235</td>\n",
       "      <td>1</td>\n",
       "      <td>missing</td>\n",
       "      <td>0.0</td>\n",
       "    </tr>\n",
       "  </tbody>\n",
       "</table>\n",
       "</div>"
      ],
      "text/plain": [
       "    order_no    sku  quantity tracking_no  is_delivered\n",
       "0  O_2020_01  A1234         2    T_2020_1           1.0\n",
       "1  O_2020_02  A1234         2    T_2020_2           0.0\n",
       "2  O_2020_03  A1235         1    T_2020_3           1.0\n",
       "3  O_2020_04  A1235         1     missing           0.0"
      ]
     },
     "execution_count": 31,
     "metadata": {},
     "output_type": "execute_result"
    }
   ],
   "source": [
    "# 将tracking_no 为空的数据的  is_delivered 为 0\n",
    "trackings_all.is_delivered.fillna(0,inplace = True)\n",
    "trackings_all"
   ]
  },
  {
   "cell_type": "markdown",
   "metadata": {},
   "source": [
    "# 处理 Amazon review 数据缺失的情况\n",
    "---\n",
    "* 现在有一张 SKU A1234 的 Amazon Review 表\n",
    "* 字段有两列: day（日期）, star（星级）\n",
    "* 现在有一些的数据是缺失的，我们想把它补上\n",
    "\n",
    "---\n"
   ]
  },
  {
   "cell_type": "markdown",
   "metadata": {},
   "source": [
    "# 处理缺失的客户调查数据\n",
    "---\n",
    "* 现在有一张客户调查表 survey\n",
    "* 字段有 name(姓名),gender(性别),income(收入）\n",
    "\n",
    "--- \n",
    "* 删掉所有 gender(性别） 为空的调查数据\n",
    "\n",
    "* 分别计算男性 (gender=='Male') 的平均收入 \n",
    "\n",
    "  (先对 gender 过滤, 再对 income 用 sum 求和，记得使用 skipna 参数）\n",
    "  \n",
    "* 分别计算男性 (gender=='Female') 的平均收入\n",
    "\n",
    "* 使用男性平均收入，填充男性客户收入值缺失的数据 (income.isnull())\n",
    "\n",
    "* 使用女性平均收入，填充女性客户收入值缺失的数据 (income.isnull())"
   ]
  }
 ],
 "metadata": {
  "kernelspec": {
   "display_name": "Python 3",
   "language": "python",
   "name": "python3"
  },
  "language_info": {
   "codemirror_mode": {
    "name": "ipython",
    "version": 3
   },
   "file_extension": ".py",
   "mimetype": "text/x-python",
   "name": "python",
   "nbconvert_exporter": "python",
   "pygments_lexer": "ipython3",
   "version": "3.7.6"
  },
  "toc": {
   "base_numbering": 1,
   "nav_menu": {},
   "number_sections": true,
   "sideBar": true,
   "skip_h1_title": false,
   "title_cell": "Table of Contents",
   "title_sidebar": "Contents",
   "toc_cell": false,
   "toc_position": {},
   "toc_section_display": true,
   "toc_window_display": false
  },
  "varInspector": {
   "cols": {
    "lenName": 16,
    "lenType": 16,
    "lenVar": 40
   },
   "kernels_config": {
    "python": {
     "delete_cmd_postfix": "",
     "delete_cmd_prefix": "del ",
     "library": "var_list.py",
     "varRefreshCmd": "print(var_dic_list())"
    },
    "r": {
     "delete_cmd_postfix": ") ",
     "delete_cmd_prefix": "rm(",
     "library": "var_list.r",
     "varRefreshCmd": "cat(var_dic_list()) "
    }
   },
   "types_to_exclude": [
    "module",
    "function",
    "builtin_function_or_method",
    "instance",
    "_Feature"
   ],
   "window_display": false
  }
 },
 "nbformat": 4,
 "nbformat_minor": 4
}
