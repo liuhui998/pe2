{
 "cells": [
  {
   "cell_type": "markdown",
   "metadata": {
    "ExecuteTime": {
     "end_time": "2020-07-21T07:05:22.198538Z",
     "start_time": "2020-07-21T07:05:22.195202Z"
    }
   },
   "source": [
    "# 免学部分\n",
    "* 本章21面，《1.5基本绘图》部分"
   ]
  },
  {
   "cell_type": "markdown",
   "metadata": {
    "ExecuteTime": {
     "end_time": "2020-07-20T06:13:09.095602Z",
     "start_time": "2020-07-20T06:13:09.092324Z"
    }
   },
   "source": [
    "# 前言\n",
    "\n",
    "* 从现在起大家要开始学习 Pandas \n",
    "* 大家在做题目前一定要先把第一章的书读一下\n",
    "* 写本作业，请使用 Anaconda 里的 Notebook\n",
    "* 我做了一个[打包下载 Link](https://downgit.github.io/#/home?url=https://github.com/liuhui998/pe2/tree/master/01-dataframe-basic), 大家下载下来解压后，使用 Notebook 打开"
   ]
  },
  {
   "cell_type": "markdown",
   "metadata": {
    "ExecuteTime": {
     "end_time": "2020-07-21T07:15:33.871131Z",
     "start_time": "2020-07-21T07:15:33.867069Z"
    }
   },
   "source": [
    "# 学习概要\n",
    "* import pandas as pd: 将 pandas包导入并重名为 pd\n",
    "* pd.read_excel：读取 excel 文件\n",
    "* DataFrame 属性 iloc:  用整数下标取 DataFrame 里的数据       \n",
    "* DataFrame 属性 loc:   用索引名index + 列名取 DataFrame 里的数据\n",
    "* DataFrame 属性 columns: DataFrame对象中的所有列名\n",
    "* DataFrame 属性 shape:   DataFrame对象中的行数和列数\n",
    "* DataFrame 属性 index:   DataFrame对象中的所有索引\n",
    "* DataFrame 属性 dtypes:   DataFrame对象中的所有字段的数据类型\n",
    "* DataFrame 方法 head:   DataFrame对象中的前5行数据\n",
    "* DataFrame 方法 tail:   DataFrame对象中的后5计数据\n",
    "* DataFrame 方法 groupby:  对DataFrame对象中的数据进行分组"
   ]
  },
  {
   "cell_type": "markdown",
   "metadata": {},
   "source": [
    "# 读取 Excel 文件\n",
    "* 学习目的: 让大家可以自由的读取本地的 Excel 文件\n",
    "\n",
    "* 请用 import 导入 pandas 库, 你这样就可以直接使用 pandas 提供的各种类和函数了\n",
    "```\n",
    "import pandas\n",
    "```\n",
    "  有时大家觉得 pandas 太长了，也会用 \n",
    "```  \n",
    "  import pandas as pd\n",
    "```  \n",
    "  这样 pandas 导进来了就有一新名字叫 pd\n",
    "\n",
    "\n",
    "* 当前目录一下有一个名叫 gapminder.xlsx Excel 文件, 把它读到名为 df 的变量中\n",
    "\n",
    "  这里是 [gapminder.xlsx 的下载地址](https://github.com/liuhui998/pe2/raw/master/01-dataframe-basic/gapminder.xlsx), 如果目录没有这个文件，请下载并把这个文件放到和代码同一个目录中\n",
    "  \n",
    "  read_excel 函数的更详细的用法可以看 [资料Link](https://blog.csdn.net/brucewong0516/article/details/79096633)\n",
    "\n",
    "```\n",
    "  # 大家记住，这里 pd 和 pandas 是等价的哈\n",
    "  df = pd.read_excel(\"gapminder.xlsx\") \n",
    "```\n",
    "   \n",
    "* 查看 df 前面5行的数据\n",
    "\n",
    "--- \n",
    "备注：\n",
    "\n",
    "* 书上的是读 tsv 文件，国内很多同学没有接触过，所以我改写成 read_excel\n",
    "\n",
    "  \n",
    "  \n"
   ]
  },
  {
   "cell_type": "code",
   "execution_count": null,
   "metadata": {},
   "outputs": [],
   "source": [
    "import pandas as pd\n",
    "# 当前目录一下有一个名叫 gapminder.xlsx Excel 文件, 把它读到名为 df 的变量中"
   ]
  },
  {
   "cell_type": "code",
   "execution_count": null,
   "metadata": {},
   "outputs": [],
   "source": [
    "#查看 df 前面5行的数据"
   ]
  },
  {
   "cell_type": "markdown",
   "metadata": {
    "ExecuteTime": {
     "end_time": "2020-07-17T09:16:07.833525Z",
     "start_time": "2020-07-17T09:16:07.827786Z"
    }
   },
   "source": [
    "# 检查 DataFrame 的信息\n",
    "\n",
    "* 查看 df 的数据类型是什么\n",
    "\n",
    "* 查看 df 有多少行，多少列\n",
    "  \n",
    "  DataFrame 对象有一个名叫的 shape 的属性(属性是没有 \"()\" 的)，它的类型是元组(tuple)\n",
    "    \n",
    "  shape 的第一个值是行数，第二个值是列数\n",
    "  \n",
    "  \n",
    "* 查看 df 有哪些列名\n",
    "\n",
    "\n",
    "* 查看 df 每一列的数据类型\n",
    "\n",
    "\n",
    "* 调用 df.info(), 大家可以思考一下 memory usage是什么意思\n",
    "\n",
    "\n",
    "* 大家试着把 df 这个变量放到单元格的最后一行，然后执行单元格，看一下输出的表格是否变漂亮了\n",
    "\n",
    "* 我还给大家传授一个重要经验，一个单元格最好不放超过 10行代码，这样很好运行调试\n"
   ]
  },
  {
   "cell_type": "code",
   "execution_count": null,
   "metadata": {},
   "outputs": [],
   "source": [
    "#查看 df 的数据类型是什么"
   ]
  },
  {
   "cell_type": "code",
   "execution_count": null,
   "metadata": {
    "ExecuteTime": {
     "end_time": "2020-07-21T08:30:11.991681Z",
     "start_time": "2020-07-21T08:30:11.988261Z"
    },
    "scrolled": true
   },
   "outputs": [],
   "source": [
    "#查看 df 有多少行，多少列\n"
   ]
  },
  {
   "cell_type": "code",
   "execution_count": null,
   "metadata": {
    "ExecuteTime": {
     "end_time": "2020-07-21T08:30:26.812513Z",
     "start_time": "2020-07-21T08:30:26.809185Z"
    }
   },
   "outputs": [],
   "source": [
    "# 查看 df 有哪些列名\n",
    "# 第一种查看方式\n",
    "# 第二种查看方式\n",
    "\n"
   ]
  },
  {
   "cell_type": "code",
   "execution_count": null,
   "metadata": {
    "ExecuteTime": {
     "end_time": "2020-07-21T08:30:28.101573Z",
     "start_time": "2020-07-21T08:30:28.096855Z"
    }
   },
   "outputs": [],
   "source": [
    "#查看 df 每一列的数据类型\n"
   ]
  },
  {
   "cell_type": "code",
   "execution_count": null,
   "metadata": {
    "ExecuteTime": {
     "end_time": "2020-07-21T08:30:56.046509Z",
     "start_time": "2020-07-21T08:30:56.037168Z"
    }
   },
   "outputs": [],
   "source": [
    "# 用 info 函数查看 df 信息\n"
   ]
  },
  {
   "cell_type": "code",
   "execution_count": null,
   "metadata": {
    "ExecuteTime": {
     "end_time": "2020-07-21T08:31:23.549908Z",
     "start_time": "2020-07-21T08:31:23.530730Z"
    }
   },
   "outputs": [],
   "source": [
    "# 单独显示 df\n"
   ]
  },
  {
   "cell_type": "markdown",
   "metadata": {},
   "source": [
    "# DataFrame 常用操作1\n",
    "* 获取 df 的前 10行，放到变量 df1 中\n",
    "   \n",
    "  提示，可以使用 head 函数，里面有一个数量参数 n\n",
    "  \n",
    "  \n",
    "* 获取 df 的后 20行，放到变量 df2 中\n",
    "\n",
    "  提示，可以使用 tail 函数，里面有一个数量参数 n\n"
   ]
  },
  {
   "cell_type": "code",
   "execution_count": null,
   "metadata": {
    "ExecuteTime": {
     "end_time": "2020-07-21T08:31:59.380782Z",
     "start_time": "2020-07-21T08:31:59.369302Z"
    }
   },
   "outputs": [],
   "source": [
    "#获取 df 的前 10行，放到变量 df1 中\n"
   ]
  },
  {
   "cell_type": "code",
   "execution_count": null,
   "metadata": {
    "ExecuteTime": {
     "end_time": "2020-07-21T08:32:14.954642Z",
     "start_time": "2020-07-21T08:32:14.939740Z"
    }
   },
   "outputs": [],
   "source": [
    "#获取 df 的后 20行，放到变量 df2 中\n"
   ]
  },
  {
   "cell_type": "markdown",
   "metadata": {},
   "source": [
    "# DataFrame 常用操作1\n",
    "\n",
    "---\n",
    "\n",
    "备注：\n",
    "* iloc 是 DataFrame 的里一个属性，就像 shape 一样, \n",
    "  然后我们通过 [] 来取数，而不是通过 ()\n",
    "  \n",
    "* 使用 iloc 操作 DataFrame\n",
    "* i 表示 integer(整数), loc 代表 location (位置)\n",
    "* iloc 通过整数来标明要操作的数据位置, 类似我们操作列表\n",
    "\n",
    "```\n",
    "a = [1,2,3,4]\n",
    "a[1]\n",
    "a[1:3]\n",
    "```\n",
    "\n",
    "---\n",
    "题目:\n",
    "\n",
    "* 取 df 的第1行，放到 df2 中 \n",
    "* 取 df 的最后1行，放到 df3 中\n",
    "* 取 df 的第一列，放到 df4 中\n",
    "* 取 df 的第0,2,3列，放到 df5中\n",
    "* 大家做每一道题时，都查看取来的数据的类型, （使用 type 函数），大家想想为什么\n",
    "* 如果看到Series 不要怕，因为这是下一章的内容"
   ]
  },
  {
   "cell_type": "code",
   "execution_count": null,
   "metadata": {
    "ExecuteTime": {
     "end_time": "2020-07-20T06:23:01.261511Z",
     "start_time": "2020-07-20T06:23:01.255922Z"
    }
   },
   "outputs": [],
   "source": [
    "# 取 df 的第1行，放到 df2 中 \n"
   ]
  },
  {
   "cell_type": "code",
   "execution_count": null,
   "metadata": {
    "ExecuteTime": {
     "end_time": "2020-07-21T08:47:39.529377Z",
     "start_time": "2020-07-21T08:47:39.522804Z"
    }
   },
   "outputs": [],
   "source": [
    "# 取 df 的最后1行，放到 df3 中\n"
   ]
  },
  {
   "cell_type": "code",
   "execution_count": null,
   "metadata": {
    "ExecuteTime": {
     "end_time": "2020-07-21T08:47:49.552195Z",
     "start_time": "2020-07-21T08:47:49.546174Z"
    }
   },
   "outputs": [],
   "source": [
    "# 取 df 的第一列，放到 df4 中\n"
   ]
  },
  {
   "cell_type": "code",
   "execution_count": null,
   "metadata": {
    "ExecuteTime": {
     "end_time": "2020-07-21T08:48:01.520425Z",
     "start_time": "2020-07-21T08:48:01.508977Z"
    }
   },
   "outputs": [],
   "source": [
    "#取 df 的第0,2,3列，放到 df5中\n"
   ]
  },
  {
   "cell_type": "markdown",
   "metadata": {},
   "source": [
    "# DataFrame 重要概念（无题目）\n",
    "\n",
    "    这是 Pandas  里最难的概念部分，如果大家一次学不会也很正常\n",
    "    但是看到大家这么认真学习我就提前来讲\n",
    "\n",
    "* 什么叫索引(index)\n",
    "  \n",
    "  故名思意，索引就是用来帮我们找到 DataFrame 里数据的标签\n",
    "  \n",
    "  \n",
    "* DataFrame 默认自带的整数索引\n",
    "\n",
    "![](index_integer.jpg)\n",
    "\n",
    "* DataFrame 各种特列类型索引(以后章节会细讲，本次了解一下就好）\n",
    "\n",
    "![](index_str.jpg)\n"
   ]
  },
  {
   "cell_type": "code",
   "execution_count": null,
   "metadata": {
    "ExecuteTime": {
     "end_time": "2020-07-20T06:23:01.292035Z",
     "start_time": "2020-07-20T06:23:01.289008Z"
    }
   },
   "outputs": [],
   "source": [
    "# 访问索引是有一个名叫 index 的属性\n",
    "df.index"
   ]
  },
  {
   "cell_type": "markdown",
   "metadata": {
    "ExecuteTime": {
     "end_time": "2020-07-20T02:38:04.055377Z",
     "start_time": "2020-07-20T02:38:04.052513Z"
    }
   },
   "source": [
    "# DataFrame 常用操作2\n",
    "\n",
    "---\n",
    "备注:\n",
    "* loc 是 DataFrame 的里一个属性，就像 shape 一样, \n",
    "  然后我们通过 [] 来取数，而不是通过 ()* 使用 loc 操作 DataFrame  \n",
    "* loc 就是 location 的意思\n",
    "* loc 里第一个参数是索引编号（类似于行号），如果索引是什么，就传什么\n",
    "* loc 里第二个参数列的名字（iloc传的是列的编号), 一般是字符串\n",
    "\n",
    "---\n",
    "题目:\n",
    "* 请一定使用 loc 来操作\n",
    "* 取 df 的第1行，放到 df2 中 \n",
    "* 取 df 的最后1行，放到 df3 中 （注意，loc 不支持 -1 这个操作，大家想想要怎么做）\n",
    "* 取 df 的 \"country\" 列，放到 df4 中\n",
    "* 取 df 的 [\"year\",\"pop\"] 列，放到 df5中\n",
    "* 取 df 的前5行，[\"year\",\"pop\"] 列，放到 df6中\n",
    "* 大家做每一道题时，都查看取来的数据的类型, （使用 type 函数），大家想想为什么\n",
    "* 如果看到Series 不要怕，因为这是下一章的内容"
   ]
  },
  {
   "cell_type": "code",
   "execution_count": null,
   "metadata": {
    "ExecuteTime": {
     "end_time": "2020-07-21T08:55:16.013829Z",
     "start_time": "2020-07-21T08:55:16.007273Z"
    }
   },
   "outputs": [],
   "source": [
    "# 取 df 的第1行，放到 df2 中 \n"
   ]
  },
  {
   "cell_type": "code",
   "execution_count": null,
   "metadata": {
    "ExecuteTime": {
     "end_time": "2020-07-21T08:56:05.042306Z",
     "start_time": "2020-07-21T08:56:05.035147Z"
    }
   },
   "outputs": [],
   "source": [
    "# 取 df 的最后1行，放到 df3 中\n"
   ]
  },
  {
   "cell_type": "code",
   "execution_count": null,
   "metadata": {
    "ExecuteTime": {
     "end_time": "2020-07-21T08:56:21.593287Z",
     "start_time": "2020-07-21T08:56:21.587034Z"
    }
   },
   "outputs": [],
   "source": [
    "# 取 df 的 \"country\" 列，放到 df4 中\n"
   ]
  },
  {
   "cell_type": "code",
   "execution_count": null,
   "metadata": {
    "ExecuteTime": {
     "end_time": "2020-07-21T08:56:24.568310Z",
     "start_time": "2020-07-21T08:56:24.553468Z"
    }
   },
   "outputs": [],
   "source": [
    "df"
   ]
  },
  {
   "cell_type": "code",
   "execution_count": null,
   "metadata": {
    "ExecuteTime": {
     "end_time": "2020-07-21T08:56:43.735875Z",
     "start_time": "2020-07-21T08:56:43.725995Z"
    }
   },
   "outputs": [],
   "source": [
    "# 取 df 的 [\"year\",\"pop\"] 列，放到 df5中\n"
   ]
  },
  {
   "cell_type": "code",
   "execution_count": null,
   "metadata": {
    "ExecuteTime": {
     "end_time": "2020-07-21T08:57:04.537758Z",
     "start_time": "2020-07-21T08:57:04.528480Z"
    }
   },
   "outputs": [],
   "source": [
    "# 取 df 的前5行，[\"year\",\"pop\"] 列，放到 df6中\n"
   ]
  },
  {
   "cell_type": "markdown",
   "metadata": {},
   "source": [
    "# 分组和聚合计算\n",
    "---\n",
    "备注：\n",
    "\n",
    "* 这一部分类似于数据库的 SQL 语言\n",
    "* 如果大家学会了，就可开始进入了数据分析师的大门\n",
    "* 后面第10章会专讲，我这里提前给大家大略的看一下\n",
    "\n",
    "---\n",
    "题目:\n",
    "* 按年 'year' 分组(groupby)，然后统计人口 'pop' 总数 (sum函数)\n",
    "* 按国家 'country' 分组(groupby)，然后统计人口 'pop' 总数(sum函数)\n",
    "* 按年 'year' 分组(groupby)，然后统计预期寿命 'lifeExp' 平均值 (mean函数)\n"
   ]
  },
  {
   "cell_type": "code",
   "execution_count": null,
   "metadata": {
    "ExecuteTime": {
     "end_time": "2020-07-20T06:23:01.353367Z",
     "start_time": "2020-07-20T06:23:01.348110Z"
    }
   },
   "outputs": [],
   "source": [
    "#按年 'year' 分组(groupby)，然后统计人口 'pop' 总数 (sum函数)\n"
   ]
  },
  {
   "cell_type": "code",
   "execution_count": null,
   "metadata": {
    "ExecuteTime": {
     "end_time": "2020-07-20T06:23:01.360039Z",
     "start_time": "2020-07-20T06:23:01.354767Z"
    }
   },
   "outputs": [],
   "source": [
    "#按年 'year' 分组(groupby)，然后统计预期寿命 'lifeExp' 平均值(mean函数)\n"
   ]
  },
  {
   "cell_type": "code",
   "execution_count": null,
   "metadata": {
    "ExecuteTime": {
     "end_time": "2020-07-20T06:23:01.368167Z",
     "start_time": "2020-07-20T06:23:01.361517Z"
    }
   },
   "outputs": [],
   "source": [
    "#按国家 'country' 分组(groupby)，然后统计人口 'pop' 总数(sum函数)\n"
   ]
  },
  {
   "cell_type": "markdown",
   "metadata": {},
   "source": [
    "# 学习资料Link\n",
    "\n",
    "* read_excel 函数的更详细的用法可以看 https://blog.csdn.net/brucewong0516/article/details/79096633\n",
    "\n"
   ]
  },
  {
   "cell_type": "markdown",
   "metadata": {},
   "source": [
    "# 致谢\n",
    "\n",
    "* 谢谢 junjie.huang 对材料的检查"
   ]
  }
 ],
 "metadata": {
  "kernelspec": {
   "display_name": "Python 3",
   "language": "python",
   "name": "python3"
  },
  "language_info": {
   "codemirror_mode": {
    "name": "ipython",
    "version": 3
   },
   "file_extension": ".py",
   "mimetype": "text/x-python",
   "name": "python",
   "nbconvert_exporter": "python",
   "pygments_lexer": "ipython3",
   "version": "3.8.3"
  },
  "toc": {
   "base_numbering": 1,
   "nav_menu": {},
   "number_sections": true,
   "sideBar": true,
   "skip_h1_title": false,
   "title_cell": "Table of Contents",
   "title_sidebar": "Contents",
   "toc_cell": false,
   "toc_position": {},
   "toc_section_display": true,
   "toc_window_display": false
  },
  "varInspector": {
   "cols": {
    "lenName": 16,
    "lenType": 16,
    "lenVar": 40
   },
   "kernels_config": {
    "python": {
     "delete_cmd_postfix": "",
     "delete_cmd_prefix": "del ",
     "library": "var_list.py",
     "varRefreshCmd": "print(var_dic_list())"
    },
    "r": {
     "delete_cmd_postfix": ") ",
     "delete_cmd_prefix": "rm(",
     "library": "var_list.r",
     "varRefreshCmd": "cat(var_dic_list()) "
    }
   },
   "types_to_exclude": [
    "module",
    "function",
    "builtin_function_or_method",
    "instance",
    "_Feature"
   ],
   "window_display": false
  }
 },
 "nbformat": 4,
 "nbformat_minor": 4
}
