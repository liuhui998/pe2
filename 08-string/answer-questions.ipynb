{
 "cells": [
  {
   "cell_type": "markdown",
   "metadata": {},
   "source": [
    "# 1. 免学部分\n",
    "* p137~p138\n",
    "* 扣除免学部分只有7面\n"
   ]
  },
  {
   "cell_type": "markdown",
   "metadata": {},
   "source": [
    "# 2. 前言\n",
    "\n",
    "* 大家在做题目前一定要先把第7章的书读一下\n",
    "* 写本作业，请使用 Anaconda 里的 Notebook\n",
    "* 我做了一个[打包下载 Link](https://downgit.github.io/#/home?url=https://github.com/liuhui998/pe2/tree/master/07-data-type), 大家下载下来解压后，使用 Notebook 打开"
   ]
  },
  {
   "cell_type": "markdown",
   "metadata": {},
   "source": [
    "# 3. 学习概要\n",
    "* 我会在每道题有前标明对的书页码\n",
    "* 如果超纲我会提前提示，并加上资料 Link\n",
    "---\n",
    "重点知识：\n",
    "\n",
    "---\n",
    "知识点整理\n"
   ]
  },
  {
   "cell_type": "code",
   "execution_count": 3,
   "metadata": {
    "ExecuteTime": {
     "end_time": "2020-08-02T14:32:01.149469Z",
     "start_time": "2020-08-02T14:32:00.763705Z"
    }
   },
   "outputs": [],
   "source": [
    "import pandas as pd"
   ]
  },
  {
   "cell_type": "markdown",
   "metadata": {},
   "source": [
    "# 4. 汇总各国销售数据\n"
   ]
  },
  {
   "cell_type": "code",
   "execution_count": 13,
   "metadata": {
    "ExecuteTime": {
     "end_time": "2020-08-02T14:38:20.549037Z",
     "start_time": "2020-08-02T14:38:20.538421Z"
    }
   },
   "outputs": [
    {
     "data": {
      "text/html": [
       "<div>\n",
       "<style scoped>\n",
       "    .dataframe tbody tr th:only-of-type {\n",
       "        vertical-align: middle;\n",
       "    }\n",
       "\n",
       "    .dataframe tbody tr th {\n",
       "        vertical-align: top;\n",
       "    }\n",
       "\n",
       "    .dataframe thead th {\n",
       "        text-align: right;\n",
       "    }\n",
       "</style>\n",
       "<table border=\"1\" class=\"dataframe\">\n",
       "  <thead>\n",
       "    <tr style=\"text-align: right;\">\n",
       "      <th></th>\n",
       "      <th>sku</th>\n",
       "      <th>price</th>\n",
       "      <th>quantity</th>\n",
       "      <th>currency</th>\n",
       "    </tr>\n",
       "  </thead>\n",
       "  <tbody>\n",
       "    <tr>\n",
       "      <th>0</th>\n",
       "      <td>A1234</td>\n",
       "      <td>$100</td>\n",
       "      <td>200</td>\n",
       "      <td>USD</td>\n",
       "    </tr>\n",
       "    <tr>\n",
       "      <th>1</th>\n",
       "      <td>A1235</td>\n",
       "      <td>$200</td>\n",
       "      <td>200</td>\n",
       "      <td>USD</td>\n",
       "    </tr>\n",
       "    <tr>\n",
       "      <th>2</th>\n",
       "      <td>A1236</td>\n",
       "      <td>$300</td>\n",
       "      <td>100</td>\n",
       "      <td>USD</td>\n",
       "    </tr>\n",
       "    <tr>\n",
       "      <th>3</th>\n",
       "      <td>A1234</td>\n",
       "      <td>£76</td>\n",
       "      <td>100</td>\n",
       "      <td>GBP</td>\n",
       "    </tr>\n",
       "    <tr>\n",
       "      <th>4</th>\n",
       "      <td>A1235</td>\n",
       "      <td>£160</td>\n",
       "      <td>100</td>\n",
       "      <td>GBP</td>\n",
       "    </tr>\n",
       "    <tr>\n",
       "      <th>5</th>\n",
       "      <td>A1236</td>\n",
       "      <td>£200</td>\n",
       "      <td>60</td>\n",
       "      <td>GBP</td>\n",
       "    </tr>\n",
       "  </tbody>\n",
       "</table>\n",
       "</div>"
      ],
      "text/plain": [
       "     sku  price  quantity currency\n",
       "0  A1234   $100       200      USD\n",
       "1  A1235   $200       200      USD\n",
       "2  A1236   $300       100      USD\n",
       "3  A1234    £76       100      GBP\n",
       "4  A1235   £160       100      GBP\n",
       "5  A1236   £200        60      GBP"
      ]
     },
     "execution_count": 13,
     "metadata": {},
     "output_type": "execute_result"
    }
   ],
   "source": [
    "sales = pd.read_csv(\"world_sales_data.csv\")\n",
    "sales"
   ]
  },
  {
   "cell_type": "code",
   "execution_count": 14,
   "metadata": {
    "ExecuteTime": {
     "end_time": "2020-08-02T14:38:21.286405Z",
     "start_time": "2020-08-02T14:38:21.281607Z"
    }
   },
   "outputs": [
    {
     "data": {
      "text/plain": [
       "sku         object\n",
       "price       object\n",
       "quantity     int64\n",
       "currency    object\n",
       "dtype: object"
      ]
     },
     "execution_count": 14,
     "metadata": {},
     "output_type": "execute_result"
    }
   ],
   "source": [
    "sales.dtypes"
   ]
  },
  {
   "cell_type": "code",
   "execution_count": 15,
   "metadata": {
    "ExecuteTime": {
     "end_time": "2020-08-02T14:38:22.032888Z",
     "start_time": "2020-08-02T14:38:22.029470Z"
    }
   },
   "outputs": [
    {
     "name": "stdout",
     "output_type": "stream",
     "text": [
      "*$100*\n",
      "* $200*\n",
      "*$300*\n",
      "*£76*\n",
      "* £160*\n",
      "*£200*\n"
     ]
    }
   ],
   "source": [
    "# 发现有些价格前面有空格\n",
    "for price in sales['price']:\n",
    "    print(\"*%s*\" % price)"
   ]
  },
  {
   "cell_type": "code",
   "execution_count": 28,
   "metadata": {
    "ExecuteTime": {
     "end_time": "2020-08-02T14:44:27.183604Z",
     "start_time": "2020-08-02T14:44:27.173444Z"
    }
   },
   "outputs": [
    {
     "data": {
      "text/html": [
       "<div>\n",
       "<style scoped>\n",
       "    .dataframe tbody tr th:only-of-type {\n",
       "        vertical-align: middle;\n",
       "    }\n",
       "\n",
       "    .dataframe tbody tr th {\n",
       "        vertical-align: top;\n",
       "    }\n",
       "\n",
       "    .dataframe thead th {\n",
       "        text-align: right;\n",
       "    }\n",
       "</style>\n",
       "<table border=\"1\" class=\"dataframe\">\n",
       "  <thead>\n",
       "    <tr style=\"text-align: right;\">\n",
       "      <th></th>\n",
       "      <th>sku</th>\n",
       "      <th>price</th>\n",
       "      <th>quantity</th>\n",
       "      <th>currency</th>\n",
       "      <th>new_price</th>\n",
       "    </tr>\n",
       "  </thead>\n",
       "  <tbody>\n",
       "    <tr>\n",
       "      <th>0</th>\n",
       "      <td>A1234</td>\n",
       "      <td>$100</td>\n",
       "      <td>200</td>\n",
       "      <td>USD</td>\n",
       "      <td>100.0</td>\n",
       "    </tr>\n",
       "    <tr>\n",
       "      <th>1</th>\n",
       "      <td>A1235</td>\n",
       "      <td>$200</td>\n",
       "      <td>200</td>\n",
       "      <td>USD</td>\n",
       "      <td>200.0</td>\n",
       "    </tr>\n",
       "    <tr>\n",
       "      <th>2</th>\n",
       "      <td>A1236</td>\n",
       "      <td>$300</td>\n",
       "      <td>100</td>\n",
       "      <td>USD</td>\n",
       "      <td>300.0</td>\n",
       "    </tr>\n",
       "    <tr>\n",
       "      <th>3</th>\n",
       "      <td>A1234</td>\n",
       "      <td>£76</td>\n",
       "      <td>100</td>\n",
       "      <td>GBP</td>\n",
       "      <td>76.0</td>\n",
       "    </tr>\n",
       "    <tr>\n",
       "      <th>4</th>\n",
       "      <td>A1235</td>\n",
       "      <td>£160</td>\n",
       "      <td>100</td>\n",
       "      <td>GBP</td>\n",
       "      <td>160.0</td>\n",
       "    </tr>\n",
       "    <tr>\n",
       "      <th>5</th>\n",
       "      <td>A1236</td>\n",
       "      <td>£200</td>\n",
       "      <td>60</td>\n",
       "      <td>GBP</td>\n",
       "      <td>200.0</td>\n",
       "    </tr>\n",
       "  </tbody>\n",
       "</table>\n",
       "</div>"
      ],
      "text/plain": [
       "     sku  price  quantity currency  new_price\n",
       "0  A1234   $100       200      USD      100.0\n",
       "1  A1235   $200       200      USD      200.0\n",
       "2  A1236   $300       100      USD      300.0\n",
       "3  A1234    £76       100      GBP       76.0\n",
       "4  A1235   £160       100      GBP      160.0\n",
       "5  A1236   £200        60      GBP      200.0"
      ]
     },
     "execution_count": 28,
     "metadata": {},
     "output_type": "execute_result"
    }
   ],
   "source": [
    "\n",
    "new_prices = []\n",
    "for price in sales['price']:\n",
    "    new_price = float(price.strip()[1:])\n",
    "    #print(f\"*{new_price}*\")\n",
    "    new_prices.append(new_price)\n",
    "    #print(\"*%f*\" % new_price)\n",
    "sales['new_price'] = new_prices\n",
    "sales"
   ]
  },
  {
   "cell_type": "code",
   "execution_count": 29,
   "metadata": {
    "ExecuteTime": {
     "end_time": "2020-08-02T14:44:28.041979Z",
     "start_time": "2020-08-02T14:44:28.032999Z"
    }
   },
   "outputs": [
    {
     "data": {
      "text/html": [
       "<div>\n",
       "<style scoped>\n",
       "    .dataframe tbody tr th:only-of-type {\n",
       "        vertical-align: middle;\n",
       "    }\n",
       "\n",
       "    .dataframe tbody tr th {\n",
       "        vertical-align: top;\n",
       "    }\n",
       "\n",
       "    .dataframe thead th {\n",
       "        text-align: right;\n",
       "    }\n",
       "</style>\n",
       "<table border=\"1\" class=\"dataframe\">\n",
       "  <thead>\n",
       "    <tr style=\"text-align: right;\">\n",
       "      <th></th>\n",
       "      <th>src</th>\n",
       "      <th>dest</th>\n",
       "      <th>rate</th>\n",
       "    </tr>\n",
       "  </thead>\n",
       "  <tbody>\n",
       "    <tr>\n",
       "      <th>0</th>\n",
       "      <td>USD</td>\n",
       "      <td>RMB</td>\n",
       "      <td>6.9752</td>\n",
       "    </tr>\n",
       "    <tr>\n",
       "      <th>1</th>\n",
       "      <td>GBP</td>\n",
       "      <td>RMB</td>\n",
       "      <td>9.1348</td>\n",
       "    </tr>\n",
       "  </tbody>\n",
       "</table>\n",
       "</div>"
      ],
      "text/plain": [
       "   src dest    rate\n",
       "0  USD  RMB  6.9752\n",
       "1  GBP  RMB  9.1348"
      ]
     },
     "execution_count": 29,
     "metadata": {},
     "output_type": "execute_result"
    }
   ],
   "source": [
    "currency = pd.read_csv(\"currency.csv\")\n",
    "currency"
   ]
  },
  {
   "cell_type": "code",
   "execution_count": 30,
   "metadata": {
    "ExecuteTime": {
     "end_time": "2020-08-02T14:44:28.800137Z",
     "start_time": "2020-08-02T14:44:28.786185Z"
    }
   },
   "outputs": [
    {
     "data": {
      "text/html": [
       "<div>\n",
       "<style scoped>\n",
       "    .dataframe tbody tr th:only-of-type {\n",
       "        vertical-align: middle;\n",
       "    }\n",
       "\n",
       "    .dataframe tbody tr th {\n",
       "        vertical-align: top;\n",
       "    }\n",
       "\n",
       "    .dataframe thead th {\n",
       "        text-align: right;\n",
       "    }\n",
       "</style>\n",
       "<table border=\"1\" class=\"dataframe\">\n",
       "  <thead>\n",
       "    <tr style=\"text-align: right;\">\n",
       "      <th></th>\n",
       "      <th>sku</th>\n",
       "      <th>price</th>\n",
       "      <th>quantity</th>\n",
       "      <th>currency</th>\n",
       "      <th>new_price</th>\n",
       "      <th>src</th>\n",
       "      <th>dest</th>\n",
       "      <th>rate</th>\n",
       "    </tr>\n",
       "  </thead>\n",
       "  <tbody>\n",
       "    <tr>\n",
       "      <th>0</th>\n",
       "      <td>A1234</td>\n",
       "      <td>$100</td>\n",
       "      <td>200</td>\n",
       "      <td>USD</td>\n",
       "      <td>100.0</td>\n",
       "      <td>USD</td>\n",
       "      <td>RMB</td>\n",
       "      <td>6.9752</td>\n",
       "    </tr>\n",
       "    <tr>\n",
       "      <th>1</th>\n",
       "      <td>A1235</td>\n",
       "      <td>$200</td>\n",
       "      <td>200</td>\n",
       "      <td>USD</td>\n",
       "      <td>200.0</td>\n",
       "      <td>USD</td>\n",
       "      <td>RMB</td>\n",
       "      <td>6.9752</td>\n",
       "    </tr>\n",
       "    <tr>\n",
       "      <th>2</th>\n",
       "      <td>A1236</td>\n",
       "      <td>$300</td>\n",
       "      <td>100</td>\n",
       "      <td>USD</td>\n",
       "      <td>300.0</td>\n",
       "      <td>USD</td>\n",
       "      <td>RMB</td>\n",
       "      <td>6.9752</td>\n",
       "    </tr>\n",
       "    <tr>\n",
       "      <th>3</th>\n",
       "      <td>A1234</td>\n",
       "      <td>£76</td>\n",
       "      <td>100</td>\n",
       "      <td>GBP</td>\n",
       "      <td>76.0</td>\n",
       "      <td>GBP</td>\n",
       "      <td>RMB</td>\n",
       "      <td>9.1348</td>\n",
       "    </tr>\n",
       "    <tr>\n",
       "      <th>4</th>\n",
       "      <td>A1235</td>\n",
       "      <td>£160</td>\n",
       "      <td>100</td>\n",
       "      <td>GBP</td>\n",
       "      <td>160.0</td>\n",
       "      <td>GBP</td>\n",
       "      <td>RMB</td>\n",
       "      <td>9.1348</td>\n",
       "    </tr>\n",
       "    <tr>\n",
       "      <th>5</th>\n",
       "      <td>A1236</td>\n",
       "      <td>£200</td>\n",
       "      <td>60</td>\n",
       "      <td>GBP</td>\n",
       "      <td>200.0</td>\n",
       "      <td>GBP</td>\n",
       "      <td>RMB</td>\n",
       "      <td>9.1348</td>\n",
       "    </tr>\n",
       "  </tbody>\n",
       "</table>\n",
       "</div>"
      ],
      "text/plain": [
       "     sku  price  quantity currency  new_price  src dest    rate\n",
       "0  A1234   $100       200      USD      100.0  USD  RMB  6.9752\n",
       "1  A1235   $200       200      USD      200.0  USD  RMB  6.9752\n",
       "2  A1236   $300       100      USD      300.0  USD  RMB  6.9752\n",
       "3  A1234    £76       100      GBP       76.0  GBP  RMB  9.1348\n",
       "4  A1235   £160       100      GBP      160.0  GBP  RMB  9.1348\n",
       "5  A1236   £200        60      GBP      200.0  GBP  RMB  9.1348"
      ]
     },
     "execution_count": 30,
     "metadata": {},
     "output_type": "execute_result"
    }
   ],
   "source": [
    "sales_stats = sales.merge(currency,left_on=\"currency\",right_on=\"src\")\n",
    "sales_stats"
   ]
  },
  {
   "cell_type": "code",
   "execution_count": 31,
   "metadata": {
    "ExecuteTime": {
     "end_time": "2020-08-02T14:44:29.494330Z",
     "start_time": "2020-08-02T14:44:29.490506Z"
    }
   },
   "outputs": [
    {
     "data": {
      "text/plain": [
       "Index(['sku', 'price', 'quantity', 'currency', 'new_price', 'src', 'dest',\n",
       "       'rate'],\n",
       "      dtype='object')"
      ]
     },
     "execution_count": 31,
     "metadata": {},
     "output_type": "execute_result"
    }
   ],
   "source": [
    "sales_stats.columns"
   ]
  },
  {
   "cell_type": "code",
   "execution_count": 32,
   "metadata": {
    "ExecuteTime": {
     "end_time": "2020-08-02T14:44:30.369032Z",
     "start_time": "2020-08-02T14:44:30.357657Z"
    }
   },
   "outputs": [
    {
     "data": {
      "text/html": [
       "<div>\n",
       "<style scoped>\n",
       "    .dataframe tbody tr th:only-of-type {\n",
       "        vertical-align: middle;\n",
       "    }\n",
       "\n",
       "    .dataframe tbody tr th {\n",
       "        vertical-align: top;\n",
       "    }\n",
       "\n",
       "    .dataframe thead th {\n",
       "        text-align: right;\n",
       "    }\n",
       "</style>\n",
       "<table border=\"1\" class=\"dataframe\">\n",
       "  <thead>\n",
       "    <tr style=\"text-align: right;\">\n",
       "      <th></th>\n",
       "      <th>sku</th>\n",
       "      <th>price</th>\n",
       "      <th>quantity</th>\n",
       "      <th>currency</th>\n",
       "      <th>new_price</th>\n",
       "      <th>rate</th>\n",
       "    </tr>\n",
       "  </thead>\n",
       "  <tbody>\n",
       "    <tr>\n",
       "      <th>0</th>\n",
       "      <td>A1234</td>\n",
       "      <td>$100</td>\n",
       "      <td>200</td>\n",
       "      <td>USD</td>\n",
       "      <td>100.0</td>\n",
       "      <td>6.9752</td>\n",
       "    </tr>\n",
       "    <tr>\n",
       "      <th>1</th>\n",
       "      <td>A1235</td>\n",
       "      <td>$200</td>\n",
       "      <td>200</td>\n",
       "      <td>USD</td>\n",
       "      <td>200.0</td>\n",
       "      <td>6.9752</td>\n",
       "    </tr>\n",
       "    <tr>\n",
       "      <th>2</th>\n",
       "      <td>A1236</td>\n",
       "      <td>$300</td>\n",
       "      <td>100</td>\n",
       "      <td>USD</td>\n",
       "      <td>300.0</td>\n",
       "      <td>6.9752</td>\n",
       "    </tr>\n",
       "    <tr>\n",
       "      <th>3</th>\n",
       "      <td>A1234</td>\n",
       "      <td>£76</td>\n",
       "      <td>100</td>\n",
       "      <td>GBP</td>\n",
       "      <td>76.0</td>\n",
       "      <td>9.1348</td>\n",
       "    </tr>\n",
       "    <tr>\n",
       "      <th>4</th>\n",
       "      <td>A1235</td>\n",
       "      <td>£160</td>\n",
       "      <td>100</td>\n",
       "      <td>GBP</td>\n",
       "      <td>160.0</td>\n",
       "      <td>9.1348</td>\n",
       "    </tr>\n",
       "    <tr>\n",
       "      <th>5</th>\n",
       "      <td>A1236</td>\n",
       "      <td>£200</td>\n",
       "      <td>60</td>\n",
       "      <td>GBP</td>\n",
       "      <td>200.0</td>\n",
       "      <td>9.1348</td>\n",
       "    </tr>\n",
       "  </tbody>\n",
       "</table>\n",
       "</div>"
      ],
      "text/plain": [
       "     sku  price  quantity currency  new_price    rate\n",
       "0  A1234   $100       200      USD      100.0  6.9752\n",
       "1  A1235   $200       200      USD      200.0  6.9752\n",
       "2  A1236   $300       100      USD      300.0  6.9752\n",
       "3  A1234    £76       100      GBP       76.0  9.1348\n",
       "4  A1235   £160       100      GBP      160.0  9.1348\n",
       "5  A1236   £200        60      GBP      200.0  9.1348"
      ]
     },
     "execution_count": 32,
     "metadata": {},
     "output_type": "execute_result"
    }
   ],
   "source": [
    "sales_stats_new = sales_stats[['sku', 'price', 'quantity', 'currency', 'new_price', 'rate']].copy()\n",
    "sales_stats_new"
   ]
  },
  {
   "cell_type": "code",
   "execution_count": 33,
   "metadata": {
    "ExecuteTime": {
     "end_time": "2020-08-02T14:44:31.360835Z",
     "start_time": "2020-08-02T14:44:31.349509Z"
    }
   },
   "outputs": [
    {
     "data": {
      "text/html": [
       "<div>\n",
       "<style scoped>\n",
       "    .dataframe tbody tr th:only-of-type {\n",
       "        vertical-align: middle;\n",
       "    }\n",
       "\n",
       "    .dataframe tbody tr th {\n",
       "        vertical-align: top;\n",
       "    }\n",
       "\n",
       "    .dataframe thead th {\n",
       "        text-align: right;\n",
       "    }\n",
       "</style>\n",
       "<table border=\"1\" class=\"dataframe\">\n",
       "  <thead>\n",
       "    <tr style=\"text-align: right;\">\n",
       "      <th></th>\n",
       "      <th>sku</th>\n",
       "      <th>price</th>\n",
       "      <th>quantity</th>\n",
       "      <th>currency</th>\n",
       "      <th>new_price</th>\n",
       "      <th>rate</th>\n",
       "      <th>RMB</th>\n",
       "    </tr>\n",
       "  </thead>\n",
       "  <tbody>\n",
       "    <tr>\n",
       "      <th>0</th>\n",
       "      <td>A1234</td>\n",
       "      <td>$100</td>\n",
       "      <td>200</td>\n",
       "      <td>USD</td>\n",
       "      <td>100.0</td>\n",
       "      <td>6.9752</td>\n",
       "      <td>697.5200</td>\n",
       "    </tr>\n",
       "    <tr>\n",
       "      <th>1</th>\n",
       "      <td>A1235</td>\n",
       "      <td>$200</td>\n",
       "      <td>200</td>\n",
       "      <td>USD</td>\n",
       "      <td>200.0</td>\n",
       "      <td>6.9752</td>\n",
       "      <td>1395.0400</td>\n",
       "    </tr>\n",
       "    <tr>\n",
       "      <th>2</th>\n",
       "      <td>A1236</td>\n",
       "      <td>$300</td>\n",
       "      <td>100</td>\n",
       "      <td>USD</td>\n",
       "      <td>300.0</td>\n",
       "      <td>6.9752</td>\n",
       "      <td>2092.5600</td>\n",
       "    </tr>\n",
       "    <tr>\n",
       "      <th>3</th>\n",
       "      <td>A1234</td>\n",
       "      <td>£76</td>\n",
       "      <td>100</td>\n",
       "      <td>GBP</td>\n",
       "      <td>76.0</td>\n",
       "      <td>9.1348</td>\n",
       "      <td>694.2448</td>\n",
       "    </tr>\n",
       "    <tr>\n",
       "      <th>4</th>\n",
       "      <td>A1235</td>\n",
       "      <td>£160</td>\n",
       "      <td>100</td>\n",
       "      <td>GBP</td>\n",
       "      <td>160.0</td>\n",
       "      <td>9.1348</td>\n",
       "      <td>1461.5680</td>\n",
       "    </tr>\n",
       "    <tr>\n",
       "      <th>5</th>\n",
       "      <td>A1236</td>\n",
       "      <td>£200</td>\n",
       "      <td>60</td>\n",
       "      <td>GBP</td>\n",
       "      <td>200.0</td>\n",
       "      <td>9.1348</td>\n",
       "      <td>1826.9600</td>\n",
       "    </tr>\n",
       "  </tbody>\n",
       "</table>\n",
       "</div>"
      ],
      "text/plain": [
       "     sku  price  quantity currency  new_price    rate        RMB\n",
       "0  A1234   $100       200      USD      100.0  6.9752   697.5200\n",
       "1  A1235   $200       200      USD      200.0  6.9752  1395.0400\n",
       "2  A1236   $300       100      USD      300.0  6.9752  2092.5600\n",
       "3  A1234    £76       100      GBP       76.0  9.1348   694.2448\n",
       "4  A1235   £160       100      GBP      160.0  9.1348  1461.5680\n",
       "5  A1236   £200        60      GBP      200.0  9.1348  1826.9600"
      ]
     },
     "execution_count": 33,
     "metadata": {},
     "output_type": "execute_result"
    }
   ],
   "source": [
    "sales_stats_new[\"RMB\"] = sales_stats_new[\"new_price\"] * sales_stats_new[\"rate\"]\n",
    "sales_stats_new"
   ]
  },
  {
   "cell_type": "code",
   "execution_count": 34,
   "metadata": {
    "ExecuteTime": {
     "end_time": "2020-08-02T14:44:32.469090Z",
     "start_time": "2020-08-02T14:44:32.465247Z"
    }
   },
   "outputs": [
    {
     "data": {
      "text/plain": [
       "8167.8928000000005"
      ]
     },
     "execution_count": 34,
     "metadata": {},
     "output_type": "execute_result"
    }
   ],
   "source": [
    "sales_stats_new[\"RMB\"].sum()"
   ]
  },
  {
   "cell_type": "code",
   "execution_count": null,
   "metadata": {},
   "outputs": [],
   "source": []
  }
 ],
 "metadata": {
  "kernelspec": {
   "display_name": "Python 3",
   "language": "python",
   "name": "python3"
  },
  "language_info": {
   "codemirror_mode": {
    "name": "ipython",
    "version": 3
   },
   "file_extension": ".py",
   "mimetype": "text/x-python",
   "name": "python",
   "nbconvert_exporter": "python",
   "pygments_lexer": "ipython3",
   "version": "3.7.6"
  },
  "toc": {
   "base_numbering": 1,
   "nav_menu": {},
   "number_sections": true,
   "sideBar": true,
   "skip_h1_title": false,
   "title_cell": "Table of Contents",
   "title_sidebar": "Contents",
   "toc_cell": false,
   "toc_position": {},
   "toc_section_display": true,
   "toc_window_display": false
  },
  "varInspector": {
   "cols": {
    "lenName": 16,
    "lenType": 16,
    "lenVar": 40
   },
   "kernels_config": {
    "python": {
     "delete_cmd_postfix": "",
     "delete_cmd_prefix": "del ",
     "library": "var_list.py",
     "varRefreshCmd": "print(var_dic_list())"
    },
    "r": {
     "delete_cmd_postfix": ") ",
     "delete_cmd_prefix": "rm(",
     "library": "var_list.r",
     "varRefreshCmd": "cat(var_dic_list()) "
    }
   },
   "types_to_exclude": [
    "module",
    "function",
    "builtin_function_or_method",
    "instance",
    "_Feature"
   ],
   "window_display": false
  }
 },
 "nbformat": 4,
 "nbformat_minor": 4
}
