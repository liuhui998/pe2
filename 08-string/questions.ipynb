{
 "cells": [
  {
   "cell_type": "markdown",
   "metadata": {},
   "source": [
    "# 1. 免学部分\n",
    "* p149~p154\n",
    "* 扣除免学部分只有10面\n"
   ]
  },
  {
   "cell_type": "markdown",
   "metadata": {},
   "source": [
    "# 2. 前言\n",
    "\n",
    "* 大家在做题目前一定要先把第8章的书读一下\n",
    "* 写本作业，请使用 Anaconda 里的 Notebook\n",
    "* 我做了一个[打包下载 Link](https://downgit.github.io/#/home?url=https://github.com/liuhui998/pe2/tree/master/08-string), 大家下载下来解压后，使用 Notebook 打开"
   ]
  },
  {
   "cell_type": "markdown",
   "metadata": {},
   "source": [
    "# 3. 学习概要\n",
    "* 我会在每道题有前标明对的书页码\n",
    "* 如果超纲我会提前提示，并加上资料 Link\n",
    "---\n",
    "重点知识&知识点整理：\n",
    "\n",
    "* 对字符串进行各种切片操作 \n",
    "* 各种字符串方法 (p143 )\n",
    "* 使用新的格式化字符串 (p148)\n",
    "* 正则表达式（选学，不考）\n",
    "\n",
    "---\n",
    "* [Python3 字符串全指南](https://www.runoob.com/python3/python3-string.html)\n",
    "* [Python3 正则表达式](https://www.runoob.com/python3/python3-reg-expressions.html)\n"
   ]
  },
  {
   "cell_type": "code",
   "execution_count": 15,
   "metadata": {
    "ExecuteTime": {
     "end_time": "2020-08-03T07:01:07.729560Z",
     "start_time": "2020-08-03T07:01:07.717535Z"
    }
   },
   "outputs": [],
   "source": [
    "import pandas as pd"
   ]
  },
  {
   "cell_type": "markdown",
   "metadata": {},
   "source": [
    "# 4. 汇总各国销售数据\n",
    "---\n",
    "备注：这里综合了 p94,p140~143,p148面的内容，同时我们也会介绍很多书上没有使用的参数\n",
    "\n",
    "* 要本题中会学习 Python 新的格式化字符串 p148\n",
    "* 会了解如何去掉字段前后的空格 strip p143\n",
    "* 也会了解如何用字符串切片去掉货币符号 p140~p142\n",
    "* 最后我们也会再次使用之前学过 merge 函数 p94\n",
    "  \n",
    "---\n",
    "\n",
    "背景:\n",
    "\n",
    "* 你现在公司财务，负责整理各个国家的报过来的销售数据\n",
    "* 各国都是以本国货币单位来汇报(USD/GBP等）\n",
    "* 老板让你把本期的各国的销售数据用本币(RMB)汇总情况\n",
    "* 有些销售汇报时，数据前后不小心加了空格要去掉\n",
    "* 在你的电脑里有一个 currency.csv 文件，里面有汇率\n",
    "\n",
    "---\n",
    "* 读取 world_sales_data.csv 到 sales\n",
    "\n",
    "  字段解释：\n",
    "\n",
    "   sku: 商品编号\n",
    "   \n",
    "   price: 价格\n",
    "   \n",
    "   quantity: 数量\n",
    "   \n",
    "   currency: 货币类型\n",
    "   \n",
    "* 查看 sales 的数据类型\n",
    "\n",
    "* 尝试打印  sales 中的每一个价格 price (前后加 \"*\")\n",
    "\n",
    "* 定义一个空列表: new_prices\n",
    "\n",
    "   遍历 sales 中的每一个价格 price, 去掉前后的空格(strip), 再取第2到最后一个字符，再转成浮点数，最后把它加到列表 new_prices 里\n",
    "\n",
    "* 将 new_prices 放到 sales 的 new_price 列中(会自动创建这一列）\n",
    "\n",
    "* 将 currency.csv 读取到 currency\n",
    "\n",
    "  字段解释：\n",
    "  \n",
    "  src: 原始货币类型\n",
    "  \n",
    "  dest: 目的货币类型\n",
    "  \n",
    "  rate: 1单位原始货币 兑换 1单位目的货币的比率 (汇率)\n",
    "  \n",
    "  \n",
    "* 用 sales 来 merge currency 生成 sales_stats\n",
    "  \n",
    "  大家要用 sales表里的 currency 字段来联接 currency 表里的 src 字段\n",
    "  \n",
    "* 选取 sales_stats 里的 ['sku', 'price', 'quantity', 'currency', 'new_price', 'rate'] 字段，生成 sales_stats_new\n",
    "\n",
    "* 在 sales_stats_new 中生成一个新列 RMB, 计算公式为 new_price * quantity\n",
    "\n",
    "* 最后对 sales_stats_new 的 RMB 进行求和\n",
    "---\n",
    "相关资料：\n",
    "\n",
    "* [一文看懂 Pandas 透视表](https://zhuanlan.zhihu.com/p/31952948)\n",
    "* [Python: Pandas中stack和unstack的形象理解](https://blog.csdn.net/anshuai_aw1/article/details/82830916) #补充资料，选 学\n",
    "\n",
    "---\n",
    "备注:\n",
    "\n",
    "* 大家在GitHub 里看输出的表格，price 列显示有时可能会错位，这是GitHub 的bug, 如果列数里有美元符号，它就显示不正常；不影响大家日常使用; 后面我们也会想办法解决。\n",
    "  \n",
    "  因为代码运行在自己的电脑上不是运行在 Github 上，GitHub 只是一个展示教材的地方\n"
   ]
  },
  {
   "cell_type": "code",
   "execution_count": 16,
   "metadata": {
    "ExecuteTime": {
     "end_time": "2020-08-03T07:02:47.239390Z",
     "start_time": "2020-08-03T07:02:47.202672Z"
    }
   },
   "outputs": [
    {
     "data": {
      "text/html": [
       "<div>\n",
       "<style scoped>\n",
       "    .dataframe tbody tr th:only-of-type {\n",
       "        vertical-align: middle;\n",
       "    }\n",
       "\n",
       "    .dataframe tbody tr th {\n",
       "        vertical-align: top;\n",
       "    }\n",
       "\n",
       "    .dataframe thead th {\n",
       "        text-align: right;\n",
       "    }\n",
       "</style>\n",
       "<table border=\"1\" class=\"dataframe\">\n",
       "  <thead>\n",
       "    <tr style=\"text-align: right;\">\n",
       "      <th></th>\n",
       "      <th>sku</th>\n",
       "      <th>price</th>\n",
       "      <th>quantity</th>\n",
       "      <th>currency</th>\n",
       "    </tr>\n",
       "  </thead>\n",
       "  <tbody>\n",
       "    <tr>\n",
       "      <th>0</th>\n",
       "      <td>A1234</td>\n",
       "      <td>$100</td>\n",
       "      <td>200</td>\n",
       "      <td>USD</td>\n",
       "    </tr>\n",
       "    <tr>\n",
       "      <th>1</th>\n",
       "      <td>A1235</td>\n",
       "      <td>$200</td>\n",
       "      <td>200</td>\n",
       "      <td>USD</td>\n",
       "    </tr>\n",
       "    <tr>\n",
       "      <th>2</th>\n",
       "      <td>A1236</td>\n",
       "      <td>$300</td>\n",
       "      <td>100</td>\n",
       "      <td>USD</td>\n",
       "    </tr>\n",
       "    <tr>\n",
       "      <th>3</th>\n",
       "      <td>A1234</td>\n",
       "      <td>£76</td>\n",
       "      <td>100</td>\n",
       "      <td>GBP</td>\n",
       "    </tr>\n",
       "    <tr>\n",
       "      <th>4</th>\n",
       "      <td>A1235</td>\n",
       "      <td>£160</td>\n",
       "      <td>100</td>\n",
       "      <td>GBP</td>\n",
       "    </tr>\n",
       "    <tr>\n",
       "      <th>5</th>\n",
       "      <td>A1236</td>\n",
       "      <td>£200</td>\n",
       "      <td>60</td>\n",
       "      <td>GBP</td>\n",
       "    </tr>\n",
       "  </tbody>\n",
       "</table>\n",
       "</div>"
      ],
      "text/plain": [
       "     sku  price  quantity currency\n",
       "0  A1234   $100       200      USD\n",
       "1  A1235   $200       200      USD\n",
       "2  A1236   $300       100      USD\n",
       "3  A1234    £76       100      GBP\n",
       "4  A1235   £160       100      GBP\n",
       "5  A1236   £200        60      GBP"
      ]
     },
     "execution_count": 16,
     "metadata": {},
     "output_type": "execute_result"
    }
   ],
   "source": [
    "\"\"\"\n",
    "* 读取 world_sales_data.csv 到 sales\n",
    "\n",
    "  字段解释：\n",
    "\n",
    "   sku: 商品编号\n",
    "   \n",
    "   price: 价格\n",
    "   \n",
    "   quantity: 数量\n",
    "   \n",
    "   currency: 货币类型\n",
    "\"\"\"\n"
   ]
  },
  {
   "cell_type": "code",
   "execution_count": 17,
   "metadata": {
    "ExecuteTime": {
     "end_time": "2020-08-03T07:03:04.651032Z",
     "start_time": "2020-08-03T07:03:04.645594Z"
    }
   },
   "outputs": [
    {
     "data": {
      "text/plain": [
       "sku         object\n",
       "price       object\n",
       "quantity     int64\n",
       "currency    object\n",
       "dtype: object"
      ]
     },
     "execution_count": 17,
     "metadata": {},
     "output_type": "execute_result"
    }
   ],
   "source": [
    "# 查看 sales 的数据类型\n"
   ]
  },
  {
   "cell_type": "code",
   "execution_count": 18,
   "metadata": {
    "ExecuteTime": {
     "end_time": "2020-08-03T07:03:50.732308Z",
     "start_time": "2020-08-03T07:03:50.728010Z"
    }
   },
   "outputs": [
    {
     "name": "stdout",
     "output_type": "stream",
     "text": [
      "*$100*\n",
      "* $200*\n",
      "*$300*\n",
      "*£76*\n",
      "* £160*\n",
      "*£200*\n"
     ]
    }
   ],
   "source": [
    "#* 尝试打印  sales 中的每一个价格 price (前后加 \"*\")\n",
    "# 发现有些价格前面有空格\n",
    "# 同时大家看一下书 p148，这种新的字符串拼接的用法\n"
   ]
  },
  {
   "cell_type": "code",
   "execution_count": null,
   "metadata": {},
   "outputs": [],
   "source": [
    "#思考建议（非题目）\n",
    "# 大家可以考虑一下，如果有 price 为空，price.strip() 会怎么样？\n",
    "# 这时程序就会报错，这时可以考虑先提前把 price 为空的数据先删掉"
   ]
  },
  {
   "cell_type": "code",
   "execution_count": 19,
   "metadata": {
    "ExecuteTime": {
     "end_time": "2020-08-03T07:05:45.058670Z",
     "start_time": "2020-08-03T07:05:45.051630Z"
    }
   },
   "outputs": [
    {
     "name": "stdout",
     "output_type": "stream",
     "text": [
      "*100.0*\n",
      "*200.0*\n",
      "*300.0*\n",
      "*76.0*\n",
      "*160.0*\n",
      "*200.0*\n"
     ]
    },
    {
     "data": {
      "text/plain": [
       "[100.0, 200.0, 300.0, 76.0, 160.0, 200.0]"
      ]
     },
     "execution_count": 19,
     "metadata": {},
     "output_type": "execute_result"
    }
   ],
   "source": [
    "#定义一个空列表: new_prices \n",
    "\n",
    "# 遍历 sales 中的每一个价格 price, 去掉前后的空格(strip), 再取第2到最后一个字符，再再转成浮点数，最后把它加到列表 new_prices 里\n"
   ]
  },
  {
   "cell_type": "code",
   "execution_count": 20,
   "metadata": {
    "ExecuteTime": {
     "end_time": "2020-08-03T07:05:51.160652Z",
     "start_time": "2020-08-03T07:05:51.145879Z"
    }
   },
   "outputs": [
    {
     "data": {
      "text/html": [
       "<div>\n",
       "<style scoped>\n",
       "    .dataframe tbody tr th:only-of-type {\n",
       "        vertical-align: middle;\n",
       "    }\n",
       "\n",
       "    .dataframe tbody tr th {\n",
       "        vertical-align: top;\n",
       "    }\n",
       "\n",
       "    .dataframe thead th {\n",
       "        text-align: right;\n",
       "    }\n",
       "</style>\n",
       "<table border=\"1\" class=\"dataframe\">\n",
       "  <thead>\n",
       "    <tr style=\"text-align: right;\">\n",
       "      <th></th>\n",
       "      <th>sku</th>\n",
       "      <th>price</th>\n",
       "      <th>quantity</th>\n",
       "      <th>currency</th>\n",
       "      <th>new_price</th>\n",
       "    </tr>\n",
       "  </thead>\n",
       "  <tbody>\n",
       "    <tr>\n",
       "      <th>0</th>\n",
       "      <td>A1234</td>\n",
       "      <td>$100</td>\n",
       "      <td>200</td>\n",
       "      <td>USD</td>\n",
       "      <td>100.0</td>\n",
       "    </tr>\n",
       "    <tr>\n",
       "      <th>1</th>\n",
       "      <td>A1235</td>\n",
       "      <td>$200</td>\n",
       "      <td>200</td>\n",
       "      <td>USD</td>\n",
       "      <td>200.0</td>\n",
       "    </tr>\n",
       "    <tr>\n",
       "      <th>2</th>\n",
       "      <td>A1236</td>\n",
       "      <td>$300</td>\n",
       "      <td>100</td>\n",
       "      <td>USD</td>\n",
       "      <td>300.0</td>\n",
       "    </tr>\n",
       "    <tr>\n",
       "      <th>3</th>\n",
       "      <td>A1234</td>\n",
       "      <td>£76</td>\n",
       "      <td>100</td>\n",
       "      <td>GBP</td>\n",
       "      <td>76.0</td>\n",
       "    </tr>\n",
       "    <tr>\n",
       "      <th>4</th>\n",
       "      <td>A1235</td>\n",
       "      <td>£160</td>\n",
       "      <td>100</td>\n",
       "      <td>GBP</td>\n",
       "      <td>160.0</td>\n",
       "    </tr>\n",
       "    <tr>\n",
       "      <th>5</th>\n",
       "      <td>A1236</td>\n",
       "      <td>£200</td>\n",
       "      <td>60</td>\n",
       "      <td>GBP</td>\n",
       "      <td>200.0</td>\n",
       "    </tr>\n",
       "  </tbody>\n",
       "</table>\n",
       "</div>"
      ],
      "text/plain": [
       "     sku  price  quantity currency  new_price\n",
       "0  A1234   $100       200      USD      100.0\n",
       "1  A1235   $200       200      USD      200.0\n",
       "2  A1236   $300       100      USD      300.0\n",
       "3  A1234    £76       100      GBP       76.0\n",
       "4  A1235   £160       100      GBP      160.0\n",
       "5  A1236   £200        60      GBP      200.0"
      ]
     },
     "execution_count": 20,
     "metadata": {},
     "output_type": "execute_result"
    }
   ],
   "source": [
    "# 将 new_prices 放到 sales 的 new_price 列中(会自动创建这一列）\n"
   ]
  },
  {
   "cell_type": "code",
   "execution_count": 23,
   "metadata": {
    "ExecuteTime": {
     "end_time": "2020-08-03T07:07:35.126180Z",
     "start_time": "2020-08-03T07:07:35.115667Z"
    }
   },
   "outputs": [
    {
     "data": {
      "text/html": [
       "<div>\n",
       "<style scoped>\n",
       "    .dataframe tbody tr th:only-of-type {\n",
       "        vertical-align: middle;\n",
       "    }\n",
       "\n",
       "    .dataframe tbody tr th {\n",
       "        vertical-align: top;\n",
       "    }\n",
       "\n",
       "    .dataframe thead th {\n",
       "        text-align: right;\n",
       "    }\n",
       "</style>\n",
       "<table border=\"1\" class=\"dataframe\">\n",
       "  <thead>\n",
       "    <tr style=\"text-align: right;\">\n",
       "      <th></th>\n",
       "      <th>src</th>\n",
       "      <th>dest</th>\n",
       "      <th>rate</th>\n",
       "    </tr>\n",
       "  </thead>\n",
       "  <tbody>\n",
       "    <tr>\n",
       "      <th>0</th>\n",
       "      <td>USD</td>\n",
       "      <td>RMB</td>\n",
       "      <td>6.9752</td>\n",
       "    </tr>\n",
       "    <tr>\n",
       "      <th>1</th>\n",
       "      <td>GBP</td>\n",
       "      <td>RMB</td>\n",
       "      <td>9.1348</td>\n",
       "    </tr>\n",
       "  </tbody>\n",
       "</table>\n",
       "</div>"
      ],
      "text/plain": [
       "   src dest    rate\n",
       "0  USD  RMB  6.9752\n",
       "1  GBP  RMB  9.1348"
      ]
     },
     "execution_count": 23,
     "metadata": {},
     "output_type": "execute_result"
    }
   ],
   "source": [
    "\"\"\"\n",
    "* 将 currency.csv 读取到 currency\n",
    "\n",
    "  字段解释：\n",
    "  \n",
    "  src: 原始货币类型\n",
    "  \n",
    "  dest: 目的货币类型\n",
    "  \n",
    "  rate: 1原始货币单位 兑换 1目的货币单位的比率(汇率)\n",
    "\"\"\"\n"
   ]
  },
  {
   "cell_type": "code",
   "execution_count": 24,
   "metadata": {
    "ExecuteTime": {
     "end_time": "2020-08-03T07:07:52.782637Z",
     "start_time": "2020-08-03T07:07:52.759243Z"
    }
   },
   "outputs": [
    {
     "data": {
      "text/html": [
       "<div>\n",
       "<style scoped>\n",
       "    .dataframe tbody tr th:only-of-type {\n",
       "        vertical-align: middle;\n",
       "    }\n",
       "\n",
       "    .dataframe tbody tr th {\n",
       "        vertical-align: top;\n",
       "    }\n",
       "\n",
       "    .dataframe thead th {\n",
       "        text-align: right;\n",
       "    }\n",
       "</style>\n",
       "<table border=\"1\" class=\"dataframe\">\n",
       "  <thead>\n",
       "    <tr style=\"text-align: right;\">\n",
       "      <th></th>\n",
       "      <th>sku</th>\n",
       "      <th>price</th>\n",
       "      <th>quantity</th>\n",
       "      <th>currency</th>\n",
       "      <th>new_price</th>\n",
       "      <th>src</th>\n",
       "      <th>dest</th>\n",
       "      <th>rate</th>\n",
       "    </tr>\n",
       "  </thead>\n",
       "  <tbody>\n",
       "    <tr>\n",
       "      <th>0</th>\n",
       "      <td>A1234</td>\n",
       "      <td>$100</td>\n",
       "      <td>200</td>\n",
       "      <td>USD</td>\n",
       "      <td>100.0</td>\n",
       "      <td>USD</td>\n",
       "      <td>RMB</td>\n",
       "      <td>6.9752</td>\n",
       "    </tr>\n",
       "    <tr>\n",
       "      <th>1</th>\n",
       "      <td>A1235</td>\n",
       "      <td>$200</td>\n",
       "      <td>200</td>\n",
       "      <td>USD</td>\n",
       "      <td>200.0</td>\n",
       "      <td>USD</td>\n",
       "      <td>RMB</td>\n",
       "      <td>6.9752</td>\n",
       "    </tr>\n",
       "    <tr>\n",
       "      <th>2</th>\n",
       "      <td>A1236</td>\n",
       "      <td>$300</td>\n",
       "      <td>100</td>\n",
       "      <td>USD</td>\n",
       "      <td>300.0</td>\n",
       "      <td>USD</td>\n",
       "      <td>RMB</td>\n",
       "      <td>6.9752</td>\n",
       "    </tr>\n",
       "    <tr>\n",
       "      <th>3</th>\n",
       "      <td>A1234</td>\n",
       "      <td>£76</td>\n",
       "      <td>100</td>\n",
       "      <td>GBP</td>\n",
       "      <td>76.0</td>\n",
       "      <td>GBP</td>\n",
       "      <td>RMB</td>\n",
       "      <td>9.1348</td>\n",
       "    </tr>\n",
       "    <tr>\n",
       "      <th>4</th>\n",
       "      <td>A1235</td>\n",
       "      <td>£160</td>\n",
       "      <td>100</td>\n",
       "      <td>GBP</td>\n",
       "      <td>160.0</td>\n",
       "      <td>GBP</td>\n",
       "      <td>RMB</td>\n",
       "      <td>9.1348</td>\n",
       "    </tr>\n",
       "    <tr>\n",
       "      <th>5</th>\n",
       "      <td>A1236</td>\n",
       "      <td>£200</td>\n",
       "      <td>60</td>\n",
       "      <td>GBP</td>\n",
       "      <td>200.0</td>\n",
       "      <td>GBP</td>\n",
       "      <td>RMB</td>\n",
       "      <td>9.1348</td>\n",
       "    </tr>\n",
       "  </tbody>\n",
       "</table>\n",
       "</div>"
      ],
      "text/plain": [
       "     sku  price  quantity currency  new_price  src dest    rate\n",
       "0  A1234   $100       200      USD      100.0  USD  RMB  6.9752\n",
       "1  A1235   $200       200      USD      200.0  USD  RMB  6.9752\n",
       "2  A1236   $300       100      USD      300.0  USD  RMB  6.9752\n",
       "3  A1234    £76       100      GBP       76.0  GBP  RMB  9.1348\n",
       "4  A1235   £160       100      GBP      160.0  GBP  RMB  9.1348\n",
       "5  A1236   £200        60      GBP      200.0  GBP  RMB  9.1348"
      ]
     },
     "execution_count": 24,
     "metadata": {},
     "output_type": "execute_result"
    }
   ],
   "source": [
    "\"\"\"\n",
    "用 sales 来 merge currency 生成 sales_stats\n",
    "  \n",
    "  大家要用 sales表里的 currency 字段来联接 currency 表里的 src 字段\n",
    "\"\"\"\n"
   ]
  },
  {
   "cell_type": "code",
   "execution_count": 25,
   "metadata": {
    "ExecuteTime": {
     "end_time": "2020-08-03T07:08:10.168227Z",
     "start_time": "2020-08-03T07:08:10.160477Z"
    }
   },
   "outputs": [
    {
     "data": {
      "text/plain": [
       "Index(['sku', 'price', 'quantity', 'currency', 'new_price', 'src', 'dest',\n",
       "       'rate'],\n",
       "      dtype='object')"
      ]
     },
     "execution_count": 25,
     "metadata": {},
     "output_type": "execute_result"
    }
   ],
   "source": [
    "# 查看字段，（非题目）\n",
    "# 方便大家复制字段\n",
    "sales_stats.columns"
   ]
  },
  {
   "cell_type": "code",
   "execution_count": 29,
   "metadata": {
    "ExecuteTime": {
     "end_time": "2020-08-03T07:09:17.164805Z",
     "start_time": "2020-08-03T07:09:17.152533Z"
    }
   },
   "outputs": [
    {
     "data": {
      "text/html": [
       "<div>\n",
       "<style scoped>\n",
       "    .dataframe tbody tr th:only-of-type {\n",
       "        vertical-align: middle;\n",
       "    }\n",
       "\n",
       "    .dataframe tbody tr th {\n",
       "        vertical-align: top;\n",
       "    }\n",
       "\n",
       "    .dataframe thead th {\n",
       "        text-align: right;\n",
       "    }\n",
       "</style>\n",
       "<table border=\"1\" class=\"dataframe\">\n",
       "  <thead>\n",
       "    <tr style=\"text-align: right;\">\n",
       "      <th></th>\n",
       "      <th>sku</th>\n",
       "      <th>price</th>\n",
       "      <th>quantity</th>\n",
       "      <th>currency</th>\n",
       "      <th>new_price</th>\n",
       "      <th>rate</th>\n",
       "    </tr>\n",
       "  </thead>\n",
       "  <tbody>\n",
       "    <tr>\n",
       "      <th>0</th>\n",
       "      <td>A1234</td>\n",
       "      <td>$100</td>\n",
       "      <td>200</td>\n",
       "      <td>USD</td>\n",
       "      <td>100.0</td>\n",
       "      <td>6.9752</td>\n",
       "    </tr>\n",
       "    <tr>\n",
       "      <th>1</th>\n",
       "      <td>A1235</td>\n",
       "      <td>$200</td>\n",
       "      <td>200</td>\n",
       "      <td>USD</td>\n",
       "      <td>200.0</td>\n",
       "      <td>6.9752</td>\n",
       "    </tr>\n",
       "    <tr>\n",
       "      <th>2</th>\n",
       "      <td>A1236</td>\n",
       "      <td>$300</td>\n",
       "      <td>100</td>\n",
       "      <td>USD</td>\n",
       "      <td>300.0</td>\n",
       "      <td>6.9752</td>\n",
       "    </tr>\n",
       "    <tr>\n",
       "      <th>3</th>\n",
       "      <td>A1234</td>\n",
       "      <td>£76</td>\n",
       "      <td>100</td>\n",
       "      <td>GBP</td>\n",
       "      <td>76.0</td>\n",
       "      <td>9.1348</td>\n",
       "    </tr>\n",
       "    <tr>\n",
       "      <th>4</th>\n",
       "      <td>A1235</td>\n",
       "      <td>£160</td>\n",
       "      <td>100</td>\n",
       "      <td>GBP</td>\n",
       "      <td>160.0</td>\n",
       "      <td>9.1348</td>\n",
       "    </tr>\n",
       "    <tr>\n",
       "      <th>5</th>\n",
       "      <td>A1236</td>\n",
       "      <td>£200</td>\n",
       "      <td>60</td>\n",
       "      <td>GBP</td>\n",
       "      <td>200.0</td>\n",
       "      <td>9.1348</td>\n",
       "    </tr>\n",
       "  </tbody>\n",
       "</table>\n",
       "</div>"
      ],
      "text/plain": [
       "     sku  price  quantity currency  new_price    rate\n",
       "0  A1234   $100       200      USD      100.0  6.9752\n",
       "1  A1235   $200       200      USD      200.0  6.9752\n",
       "2  A1236   $300       100      USD      300.0  6.9752\n",
       "3  A1234    £76       100      GBP       76.0  9.1348\n",
       "4  A1235   £160       100      GBP      160.0  9.1348\n",
       "5  A1236   £200        60      GBP      200.0  9.1348"
      ]
     },
     "execution_count": 29,
     "metadata": {},
     "output_type": "execute_result"
    }
   ],
   "source": [
    "#选取 sales_stats 里的 ['sku', 'price', 'quantity', 'currency', 'new_price', 'rate'] 字段 并创建副本(copy)，生成 sales_stats_new\n"
   ]
  },
  {
   "cell_type": "code",
   "execution_count": 30,
   "metadata": {
    "ExecuteTime": {
     "end_time": "2020-08-03T07:09:19.293635Z",
     "start_time": "2020-08-03T07:09:19.277395Z"
    }
   },
   "outputs": [
    {
     "data": {
      "text/html": [
       "<div>\n",
       "<style scoped>\n",
       "    .dataframe tbody tr th:only-of-type {\n",
       "        vertical-align: middle;\n",
       "    }\n",
       "\n",
       "    .dataframe tbody tr th {\n",
       "        vertical-align: top;\n",
       "    }\n",
       "\n",
       "    .dataframe thead th {\n",
       "        text-align: right;\n",
       "    }\n",
       "</style>\n",
       "<table border=\"1\" class=\"dataframe\">\n",
       "  <thead>\n",
       "    <tr style=\"text-align: right;\">\n",
       "      <th></th>\n",
       "      <th>sku</th>\n",
       "      <th>price</th>\n",
       "      <th>quantity</th>\n",
       "      <th>currency</th>\n",
       "      <th>new_price</th>\n",
       "      <th>rate</th>\n",
       "      <th>RMB</th>\n",
       "    </tr>\n",
       "  </thead>\n",
       "  <tbody>\n",
       "    <tr>\n",
       "      <th>0</th>\n",
       "      <td>A1234</td>\n",
       "      <td>$100</td>\n",
       "      <td>200</td>\n",
       "      <td>USD</td>\n",
       "      <td>100.0</td>\n",
       "      <td>6.9752</td>\n",
       "      <td>697.5200</td>\n",
       "    </tr>\n",
       "    <tr>\n",
       "      <th>1</th>\n",
       "      <td>A1235</td>\n",
       "      <td>$200</td>\n",
       "      <td>200</td>\n",
       "      <td>USD</td>\n",
       "      <td>200.0</td>\n",
       "      <td>6.9752</td>\n",
       "      <td>1395.0400</td>\n",
       "    </tr>\n",
       "    <tr>\n",
       "      <th>2</th>\n",
       "      <td>A1236</td>\n",
       "      <td>$300</td>\n",
       "      <td>100</td>\n",
       "      <td>USD</td>\n",
       "      <td>300.0</td>\n",
       "      <td>6.9752</td>\n",
       "      <td>2092.5600</td>\n",
       "    </tr>\n",
       "    <tr>\n",
       "      <th>3</th>\n",
       "      <td>A1234</td>\n",
       "      <td>£76</td>\n",
       "      <td>100</td>\n",
       "      <td>GBP</td>\n",
       "      <td>76.0</td>\n",
       "      <td>9.1348</td>\n",
       "      <td>694.2448</td>\n",
       "    </tr>\n",
       "    <tr>\n",
       "      <th>4</th>\n",
       "      <td>A1235</td>\n",
       "      <td>£160</td>\n",
       "      <td>100</td>\n",
       "      <td>GBP</td>\n",
       "      <td>160.0</td>\n",
       "      <td>9.1348</td>\n",
       "      <td>1461.5680</td>\n",
       "    </tr>\n",
       "    <tr>\n",
       "      <th>5</th>\n",
       "      <td>A1236</td>\n",
       "      <td>£200</td>\n",
       "      <td>60</td>\n",
       "      <td>GBP</td>\n",
       "      <td>200.0</td>\n",
       "      <td>9.1348</td>\n",
       "      <td>1826.9600</td>\n",
       "    </tr>\n",
       "  </tbody>\n",
       "</table>\n",
       "</div>"
      ],
      "text/plain": [
       "     sku  price  quantity currency  new_price    rate        RMB\n",
       "0  A1234   $100       200      USD      100.0  6.9752   697.5200\n",
       "1  A1235   $200       200      USD      200.0  6.9752  1395.0400\n",
       "2  A1236   $300       100      USD      300.0  6.9752  2092.5600\n",
       "3  A1234    £76       100      GBP       76.0  9.1348   694.2448\n",
       "4  A1235   £160       100      GBP      160.0  9.1348  1461.5680\n",
       "5  A1236   £200        60      GBP      200.0  9.1348  1826.9600"
      ]
     },
     "execution_count": 30,
     "metadata": {},
     "output_type": "execute_result"
    }
   ],
   "source": [
    "# 在 sales_stats_new 中生成一个新列 RMB, 计算公式为 new_price * rate\n"
   ]
  },
  {
   "cell_type": "code",
   "execution_count": 31,
   "metadata": {
    "ExecuteTime": {
     "end_time": "2020-08-03T07:09:25.466432Z",
     "start_time": "2020-08-03T07:09:25.459861Z"
    }
   },
   "outputs": [
    {
     "data": {
      "text/plain": [
       "8167.89"
      ]
     },
     "execution_count": 31,
     "metadata": {},
     "output_type": "execute_result"
    }
   ],
   "source": [
    "#* 最后对 sales_stats_new 的 RMB 进行求和&取2位小数 (sum, round)\n",
    "sales_stats_new[\"RMB\"].sum().round(2)"
   ]
  },
  {
   "cell_type": "markdown",
   "metadata": {},
   "source": [
    "# 5. 为什么在 df 中有时要用 copy\n",
    "\n",
    "昨天有同学搞不懂为什么对DataFrame过滤后的数据要用 copy 函数\n",
    "\n",
    "这里有一篇文章进行了解释\n",
    "\n",
    "[用.copy获取df数据的数据副本](https://blog.csdn.net/weixin_41855010/article/details/104270536)"
   ]
  },
  {
   "cell_type": "markdown",
   "metadata": {
    "ExecuteTime": {
     "end_time": "2020-08-02T23:55:09.015498Z",
     "start_time": "2020-08-02T23:55:08.983165Z"
    }
   },
   "source": [
    "# 6. 参考资料\n",
    "* [Python3 字符串全指南](https://www.runoob.com/python3/python3-string.html)\n",
    "* [Python3 正则表达式](https://www.runoob.com/python3/python3-reg-expressions.html)\n",
    "[用.copy获取df数据的数据副本](https://blog.csdn.net/weixin_41855010/article/details/104270536)"
   ]
  }
 ],
 "metadata": {
  "kernelspec": {
   "display_name": "Python 3",
   "language": "python",
   "name": "python3"
  },
  "language_info": {
   "codemirror_mode": {
    "name": "ipython",
    "version": 3
   },
   "file_extension": ".py",
   "mimetype": "text/x-python",
   "name": "python",
   "nbconvert_exporter": "python",
   "pygments_lexer": "ipython3",
   "version": "3.7.6"
  },
  "toc": {
   "base_numbering": 1,
   "nav_menu": {},
   "number_sections": true,
   "sideBar": true,
   "skip_h1_title": false,
   "title_cell": "Table of Contents",
   "title_sidebar": "Contents",
   "toc_cell": false,
   "toc_position": {},
   "toc_section_display": true,
   "toc_window_display": false
  },
  "varInspector": {
   "cols": {
    "lenName": 16,
    "lenType": 16,
    "lenVar": 40
   },
   "kernels_config": {
    "python": {
     "delete_cmd_postfix": "",
     "delete_cmd_prefix": "del ",
     "library": "var_list.py",
     "varRefreshCmd": "print(var_dic_list())"
    },
    "r": {
     "delete_cmd_postfix": ") ",
     "delete_cmd_prefix": "rm(",
     "library": "var_list.r",
     "varRefreshCmd": "cat(var_dic_list()) "
    }
   },
   "types_to_exclude": [
    "module",
    "function",
    "builtin_function_or_method",
    "instance",
    "_Feature"
   ],
   "window_display": false
  }
 },
 "nbformat": 4,
 "nbformat_minor": 4
}
