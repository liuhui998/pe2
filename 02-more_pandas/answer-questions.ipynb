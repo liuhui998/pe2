{
 "cells": [
  {
   "cell_type": "markdown",
   "metadata": {},
   "source": [
    "# 手工创建工数据 Series\n",
    "---\n",
    "备注：这里综合了 24~27面的的内容\n",
    "\n",
    "* 创建一个 Series 对象 s\n",
    "* 数据为 \"China\",\"Hunan\",\"Peter\"\n",
    "* 索引为 \"Country\",\"Province\",\"Name\"\n",
    "* 用两种方法输出 s 里的数据（提示第二种方法可以用 for 循环）\n",
    "* 用两种方法输出 s 里的索引（提示第二种方法可以用 for 循环）"
   ]
  },
  {
   "cell_type": "code",
   "execution_count": 2,
   "metadata": {
    "ExecuteTime": {
     "end_time": "2020-07-23T03:20:03.124442Z",
     "start_time": "2020-07-23T03:20:03.121960Z"
    }
   },
   "outputs": [],
   "source": [
    "import pandas as pd\n",
    "import numpy as np"
   ]
  },
  {
   "cell_type": "code",
   "execution_count": 3,
   "metadata": {
    "ExecuteTime": {
     "end_time": "2020-07-23T03:21:14.653563Z",
     "start_time": "2020-07-23T03:21:14.642208Z"
    }
   },
   "outputs": [
    {
     "data": {
      "text/plain": [
       "Country     China\n",
       "Province    Hunan\n",
       "Name        Peter\n",
       "dtype: object"
      ]
     },
     "execution_count": 3,
     "metadata": {},
     "output_type": "execute_result"
    }
   ],
   "source": [
    "#创建一个 Series 对象 s\n",
    "#* 数据为 \"China\",\"Hunan\",\"Peter\"\n",
    "#* 索引为 \"Country\",\"Province\",\"Name\"\n",
    "s = pd.Series(\n",
    "    [\"China\",\"Hunan\",\"Peter\"],\n",
    "    index = [\"Country\",\"Province\",\"Name\"]\n",
    ")\n",
    "s"
   ]
  },
  {
   "cell_type": "code",
   "execution_count": 6,
   "metadata": {
    "ExecuteTime": {
     "end_time": "2020-07-23T03:22:32.253750Z",
     "start_time": "2020-07-23T03:22:32.250305Z"
    }
   },
   "outputs": [
    {
     "name": "stdout",
     "output_type": "stream",
     "text": [
      "['China' 'Hunan' 'Peter']\n",
      "China\n",
      "Hunan\n",
      "Peter\n"
     ]
    }
   ],
   "source": [
    "#用两种方法输出 s 里的数据（提示第二种方法可以用 for 循环）\n",
    "print(s.values)\n",
    "\n",
    "for value in s.values:\n",
    "    print(value)"
   ]
  },
  {
   "cell_type": "code",
   "execution_count": 7,
   "metadata": {
    "ExecuteTime": {
     "end_time": "2020-07-23T03:23:10.383000Z",
     "start_time": "2020-07-23T03:23:10.379550Z"
    }
   },
   "outputs": [
    {
     "name": "stdout",
     "output_type": "stream",
     "text": [
      "Index(['Country', 'Province', 'Name'], dtype='object')\n",
      "Country\n",
      "Province\n",
      "Name\n"
     ]
    }
   ],
   "source": [
    "#用两种方法输出 s 里的索引（提示第二种方法可以用 for 循环）\n",
    "print(s.index)\n",
    "\n",
    "for i in s.index:\n",
    "    print(i)"
   ]
  },
  {
   "cell_type": "markdown",
   "metadata": {},
   "source": [
    "# 手工创建工数据 DataFrame\n",
    "---\n",
    "备注：这里综合了 25~27面的的内容\n",
    "\n",
    "* 手工创建一个 DataFrame 对象 df\n",
    "* 索引是 [\"bu1\",\"bu2\",\"bu3\",\"bu4\"]\n",
    "* 第1列 列名是\"sales\"(销售额）,  数据为 [200,100,300,70]\n",
    "* 列2列 列名是\"profit\"(利润）, 数据为 [34,20,50,14]\n",
    "* 用 loc 属性从 df中找 \"bu1\" 这一行，存到名为 bu1 的变量中\n",
    "* 计算 bu1 的利润率 profit_ratio = (profit/sales),并且输出\n",
    "\n",
    "  提示：bu1 是Series 对象，可以直接 bu1['index_name'] 来访问数据\n",
    "  \n",
    "  例如: bu1['sales'], bu1['profit']"
   ]
  },
  {
   "cell_type": "code",
   "execution_count": 12,
   "metadata": {
    "ExecuteTime": {
     "end_time": "2020-07-23T03:26:14.627009Z",
     "start_time": "2020-07-23T03:26:14.617653Z"
    }
   },
   "outputs": [
    {
     "data": {
      "text/html": [
       "<div>\n",
       "<style scoped>\n",
       "    .dataframe tbody tr th:only-of-type {\n",
       "        vertical-align: middle;\n",
       "    }\n",
       "\n",
       "    .dataframe tbody tr th {\n",
       "        vertical-align: top;\n",
       "    }\n",
       "\n",
       "    .dataframe thead th {\n",
       "        text-align: right;\n",
       "    }\n",
       "</style>\n",
       "<table border=\"1\" class=\"dataframe\">\n",
       "  <thead>\n",
       "    <tr style=\"text-align: right;\">\n",
       "      <th></th>\n",
       "      <th>sales</th>\n",
       "      <th>profit</th>\n",
       "    </tr>\n",
       "  </thead>\n",
       "  <tbody>\n",
       "    <tr>\n",
       "      <th>bu1</th>\n",
       "      <td>200</td>\n",
       "      <td>34</td>\n",
       "    </tr>\n",
       "    <tr>\n",
       "      <th>bu2</th>\n",
       "      <td>100</td>\n",
       "      <td>20</td>\n",
       "    </tr>\n",
       "    <tr>\n",
       "      <th>bu3</th>\n",
       "      <td>300</td>\n",
       "      <td>50</td>\n",
       "    </tr>\n",
       "    <tr>\n",
       "      <th>bu4</th>\n",
       "      <td>70</td>\n",
       "      <td>14</td>\n",
       "    </tr>\n",
       "  </tbody>\n",
       "</table>\n",
       "</div>"
      ],
      "text/plain": [
       "     sales  profit\n",
       "bu1    200      34\n",
       "bu2    100      20\n",
       "bu3    300      50\n",
       "bu4     70      14"
      ]
     },
     "execution_count": 12,
     "metadata": {},
     "output_type": "execute_result"
    }
   ],
   "source": [
    "#手工创建一个 DataFrame 对象 df\n",
    "#索引是 [\"bu1\",\"bu2\",\"bu3\",\"bu4\"]\n",
    "#第1列 列名是\"sales\"(销售额）, 数据为 [200,100,300,70]\n",
    "#列2列 列名是\"profit\"(利润）, 数据为 [34,20,50,14]\n",
    "df = pd.DataFrame(\n",
    "    data = {\n",
    "        \"sales\": [200,100,300,70],\n",
    "        \"profit\": [34,20,50,14]\n",
    "    },\n",
    "    index = [\"bu1\",\"bu2\",\"bu3\",\"bu4\"] \n",
    "    #由于data里的key命名刚才完全规范，所以我这里不用指定 columns\n",
    ")\n",
    "df"
   ]
  },
  {
   "cell_type": "code",
   "execution_count": 14,
   "metadata": {
    "ExecuteTime": {
     "end_time": "2020-07-23T03:27:44.762546Z",
     "start_time": "2020-07-23T03:27:44.756928Z"
    }
   },
   "outputs": [
    {
     "data": {
      "text/plain": [
       "sales     200\n",
       "profit     34\n",
       "Name: bu1, dtype: int64"
      ]
     },
     "execution_count": 14,
     "metadata": {},
     "output_type": "execute_result"
    }
   ],
   "source": [
    "# 用 loc 属性从 df中找 \"bu1\" 这一行，存到名为 bu1 的变量中\n",
    "bu1 = df.loc['bu1']\n",
    "bu1"
   ]
  },
  {
   "cell_type": "code",
   "execution_count": 16,
   "metadata": {
    "ExecuteTime": {
     "end_time": "2020-07-23T03:29:21.844542Z",
     "start_time": "2020-07-23T03:29:21.840451Z"
    }
   },
   "outputs": [
    {
     "name": "stdout",
     "output_type": "stream",
     "text": [
      "bu1 利润率为:  0.17\n"
     ]
    }
   ],
   "source": [
    "#计算 bu1 的利润率 profit_ratio = (profit/sales),并且输出\n",
    "sales_profit = bu1['profit']/bu1['sales']\n",
    "print(\"bu1 利润率为: \", sales_profit)"
   ]
  },
  {
   "cell_type": "markdown",
   "metadata": {},
   "source": [
    "# 数据过滤(Series)\n",
    "---\n",
    "备注：这里综合了 30面的的内容\n",
    "\n",
    "* 把 df 的 sales 列取出，放到变量 sales 中\n",
    "* 计算 sales 的平均值, 放到变量 mean_sales 中\n",
    "* 找出所有 sales 中所有大于 mean_sales 的数值"
   ]
  },
  {
   "cell_type": "code",
   "execution_count": 18,
   "metadata": {
    "ExecuteTime": {
     "end_time": "2020-07-23T03:34:49.907996Z",
     "start_time": "2020-07-23T03:34:49.903452Z"
    }
   },
   "outputs": [
    {
     "data": {
      "text/plain": [
       "bu1    200\n",
       "bu2    100\n",
       "bu3    300\n",
       "bu4     70\n",
       "Name: sales, dtype: int64"
      ]
     },
     "execution_count": 18,
     "metadata": {},
     "output_type": "execute_result"
    }
   ],
   "source": [
    "#把 df 的 sales 列取出，放到变量 sales 中\n",
    "sales = df['sales']\n",
    "sales"
   ]
  },
  {
   "cell_type": "code",
   "execution_count": 19,
   "metadata": {
    "ExecuteTime": {
     "end_time": "2020-07-23T03:34:53.516942Z",
     "start_time": "2020-07-23T03:34:53.513503Z"
    }
   },
   "outputs": [
    {
     "data": {
      "text/plain": [
       "167.5"
      ]
     },
     "execution_count": 19,
     "metadata": {},
     "output_type": "execute_result"
    }
   ],
   "source": [
    "#计算 sales 的平均值, 放到变量 mean_sales 中\n",
    "mean_sales = sales.mean()\n",
    "mean_sales"
   ]
  },
  {
   "cell_type": "code",
   "execution_count": 20,
   "metadata": {
    "ExecuteTime": {
     "end_time": "2020-07-23T03:35:12.686428Z",
     "start_time": "2020-07-23T03:35:12.681710Z"
    }
   },
   "outputs": [
    {
     "data": {
      "text/plain": [
       "bu1    200\n",
       "bu3    300\n",
       "Name: sales, dtype: int64"
      ]
     },
     "execution_count": 20,
     "metadata": {},
     "output_type": "execute_result"
    }
   ],
   "source": [
    "#找出所有 sales 中所有大于 mean_sales 的数值\n",
    "sales[sales > mean_sales]"
   ]
  },
  {
   "cell_type": "markdown",
   "metadata": {},
   "source": [
    "# 增加新列\n",
    "---\n",
    "备注：这里综合了 31，36两面的的内容\n",
    "* 计算 df 中的利润率(profit_ratio = profit/sales), 存到 profit_ratio 中\n",
    "* 为 df 新加一列 \"profit_ratio\", 把 profit_ratio 放到里\n"
   ]
  },
  {
   "cell_type": "code",
   "execution_count": 21,
   "metadata": {
    "ExecuteTime": {
     "end_time": "2020-07-23T03:36:06.992212Z",
     "start_time": "2020-07-23T03:36:06.976165Z"
    }
   },
   "outputs": [
    {
     "data": {
      "text/plain": [
       "bu1    0.170000\n",
       "bu2    0.200000\n",
       "bu3    0.166667\n",
       "bu4    0.200000\n",
       "dtype: float64"
      ]
     },
     "execution_count": 21,
     "metadata": {},
     "output_type": "execute_result"
    }
   ],
   "source": [
    "# 计算 df 中的利润率(profit_ratio = profit/sales), 存到 profit_ratio 中\n",
    "profit_ratio = df['profit']/df['sales']\n",
    "profit_ratio"
   ]
  },
  {
   "cell_type": "code",
   "execution_count": 22,
   "metadata": {
    "ExecuteTime": {
     "end_time": "2020-07-23T03:36:37.684111Z",
     "start_time": "2020-07-23T03:36:37.675301Z"
    }
   },
   "outputs": [
    {
     "data": {
      "text/html": [
       "<div>\n",
       "<style scoped>\n",
       "    .dataframe tbody tr th:only-of-type {\n",
       "        vertical-align: middle;\n",
       "    }\n",
       "\n",
       "    .dataframe tbody tr th {\n",
       "        vertical-align: top;\n",
       "    }\n",
       "\n",
       "    .dataframe thead th {\n",
       "        text-align: right;\n",
       "    }\n",
       "</style>\n",
       "<table border=\"1\" class=\"dataframe\">\n",
       "  <thead>\n",
       "    <tr style=\"text-align: right;\">\n",
       "      <th></th>\n",
       "      <th>sales</th>\n",
       "      <th>profit</th>\n",
       "      <th>profit_ratio</th>\n",
       "    </tr>\n",
       "  </thead>\n",
       "  <tbody>\n",
       "    <tr>\n",
       "      <th>bu1</th>\n",
       "      <td>200</td>\n",
       "      <td>34</td>\n",
       "      <td>0.170000</td>\n",
       "    </tr>\n",
       "    <tr>\n",
       "      <th>bu2</th>\n",
       "      <td>100</td>\n",
       "      <td>20</td>\n",
       "      <td>0.200000</td>\n",
       "    </tr>\n",
       "    <tr>\n",
       "      <th>bu3</th>\n",
       "      <td>300</td>\n",
       "      <td>50</td>\n",
       "      <td>0.166667</td>\n",
       "    </tr>\n",
       "    <tr>\n",
       "      <th>bu4</th>\n",
       "      <td>70</td>\n",
       "      <td>14</td>\n",
       "      <td>0.200000</td>\n",
       "    </tr>\n",
       "  </tbody>\n",
       "</table>\n",
       "</div>"
      ],
      "text/plain": [
       "     sales  profit  profit_ratio\n",
       "bu1    200      34      0.170000\n",
       "bu2    100      20      0.200000\n",
       "bu3    300      50      0.166667\n",
       "bu4     70      14      0.200000"
      ]
     },
     "execution_count": 22,
     "metadata": {},
     "output_type": "execute_result"
    }
   ],
   "source": [
    "#为 df 新加一列 \"profit_ratio\", 把 profit_ratio 放到里\n",
    "df['profit_ratio'] = profit_ratio\n",
    "df"
   ]
  },
  {
   "cell_type": "markdown",
   "metadata": {},
   "source": [
    "# 数据排序(DataFrame)\n",
    "---\n",
    "备注：这里综合了 33,43面的内容，有部分超纲，有不明白的这题可以直接抄答案\n",
    "\n",
    "我们发的 Pandas Cheat Sheet 有讲这一部分\n",
    "\n",
    "这里还有详细的外部参考资料：[pandas 数据排序.sort_index()和.sort_values()](https://www.jianshu.com/p/f0ed06cd5003)\n",
    "\n",
    "* 对 df 按 bu 名进行排序 （因为bu名放在索引里，可以使用 sort_index 方法)\n",
    "* 对 df 按 bu 名进行降序排序 (在用 sort_index里，可以加 ascending=False参数）\n",
    "* 对 df 按销售额(sales)进行排序 ( 可以使用 sort_values，提示增加 by 参数，指定列名即可)，\n",
    "```\n",
    "  df.sort_values(by='sales') #示例代码\n",
    "```\n",
    "  将结果写到 sort_sales.xlsx 文件\n",
    "  \n",
    "  \n",
    "* 对 df 按利润(profit)进行排序 ( 可以使用 sort_values)，将结果写到 sort_profit.xlsx 文件\n",
    "\n",
    "* 对 df 按利润率(profit_ratio)进行排序 ( 可以使用 sort_values)，将结果写到 sort_profit_ratio.xlsx 文件\n"
   ]
  },
  {
   "cell_type": "code",
   "execution_count": 23,
   "metadata": {
    "ExecuteTime": {
     "end_time": "2020-07-23T03:41:44.288502Z",
     "start_time": "2020-07-23T03:41:44.281225Z"
    }
   },
   "outputs": [
    {
     "data": {
      "text/html": [
       "<div>\n",
       "<style scoped>\n",
       "    .dataframe tbody tr th:only-of-type {\n",
       "        vertical-align: middle;\n",
       "    }\n",
       "\n",
       "    .dataframe tbody tr th {\n",
       "        vertical-align: top;\n",
       "    }\n",
       "\n",
       "    .dataframe thead th {\n",
       "        text-align: right;\n",
       "    }\n",
       "</style>\n",
       "<table border=\"1\" class=\"dataframe\">\n",
       "  <thead>\n",
       "    <tr style=\"text-align: right;\">\n",
       "      <th></th>\n",
       "      <th>sales</th>\n",
       "      <th>profit</th>\n",
       "      <th>profit_ratio</th>\n",
       "    </tr>\n",
       "  </thead>\n",
       "  <tbody>\n",
       "    <tr>\n",
       "      <th>bu1</th>\n",
       "      <td>200</td>\n",
       "      <td>34</td>\n",
       "      <td>0.170000</td>\n",
       "    </tr>\n",
       "    <tr>\n",
       "      <th>bu2</th>\n",
       "      <td>100</td>\n",
       "      <td>20</td>\n",
       "      <td>0.200000</td>\n",
       "    </tr>\n",
       "    <tr>\n",
       "      <th>bu3</th>\n",
       "      <td>300</td>\n",
       "      <td>50</td>\n",
       "      <td>0.166667</td>\n",
       "    </tr>\n",
       "    <tr>\n",
       "      <th>bu4</th>\n",
       "      <td>70</td>\n",
       "      <td>14</td>\n",
       "      <td>0.200000</td>\n",
       "    </tr>\n",
       "  </tbody>\n",
       "</table>\n",
       "</div>"
      ],
      "text/plain": [
       "     sales  profit  profit_ratio\n",
       "bu1    200      34      0.170000\n",
       "bu2    100      20      0.200000\n",
       "bu3    300      50      0.166667\n",
       "bu4     70      14      0.200000"
      ]
     },
     "execution_count": 23,
     "metadata": {},
     "output_type": "execute_result"
    }
   ],
   "source": [
    "#对 df 按 bu 名进行排序 （因为bu名放在索引里，可以使用 sort_index 方法)\n",
    "df.sort_index()"
   ]
  },
  {
   "cell_type": "code",
   "execution_count": 24,
   "metadata": {
    "ExecuteTime": {
     "end_time": "2020-07-23T03:42:23.995243Z",
     "start_time": "2020-07-23T03:42:23.985843Z"
    }
   },
   "outputs": [
    {
     "data": {
      "text/html": [
       "<div>\n",
       "<style scoped>\n",
       "    .dataframe tbody tr th:only-of-type {\n",
       "        vertical-align: middle;\n",
       "    }\n",
       "\n",
       "    .dataframe tbody tr th {\n",
       "        vertical-align: top;\n",
       "    }\n",
       "\n",
       "    .dataframe thead th {\n",
       "        text-align: right;\n",
       "    }\n",
       "</style>\n",
       "<table border=\"1\" class=\"dataframe\">\n",
       "  <thead>\n",
       "    <tr style=\"text-align: right;\">\n",
       "      <th></th>\n",
       "      <th>sales</th>\n",
       "      <th>profit</th>\n",
       "      <th>profit_ratio</th>\n",
       "    </tr>\n",
       "  </thead>\n",
       "  <tbody>\n",
       "    <tr>\n",
       "      <th>bu4</th>\n",
       "      <td>70</td>\n",
       "      <td>14</td>\n",
       "      <td>0.200000</td>\n",
       "    </tr>\n",
       "    <tr>\n",
       "      <th>bu3</th>\n",
       "      <td>300</td>\n",
       "      <td>50</td>\n",
       "      <td>0.166667</td>\n",
       "    </tr>\n",
       "    <tr>\n",
       "      <th>bu2</th>\n",
       "      <td>100</td>\n",
       "      <td>20</td>\n",
       "      <td>0.200000</td>\n",
       "    </tr>\n",
       "    <tr>\n",
       "      <th>bu1</th>\n",
       "      <td>200</td>\n",
       "      <td>34</td>\n",
       "      <td>0.170000</td>\n",
       "    </tr>\n",
       "  </tbody>\n",
       "</table>\n",
       "</div>"
      ],
      "text/plain": [
       "     sales  profit  profit_ratio\n",
       "bu4     70      14      0.200000\n",
       "bu3    300      50      0.166667\n",
       "bu2    100      20      0.200000\n",
       "bu1    200      34      0.170000"
      ]
     },
     "execution_count": 24,
     "metadata": {},
     "output_type": "execute_result"
    }
   ],
   "source": [
    "#对 df 按 bu 名进行降序排序 (在用 sort_index里，可以加 ascending=False参数）\n",
    "df.sort_index(ascending = False)"
   ]
  },
  {
   "cell_type": "code",
   "execution_count": 26,
   "metadata": {
    "ExecuteTime": {
     "end_time": "2020-07-23T03:46:10.900274Z",
     "start_time": "2020-07-23T03:46:10.843674Z"
    }
   },
   "outputs": [
    {
     "data": {
      "text/html": [
       "<div>\n",
       "<style scoped>\n",
       "    .dataframe tbody tr th:only-of-type {\n",
       "        vertical-align: middle;\n",
       "    }\n",
       "\n",
       "    .dataframe tbody tr th {\n",
       "        vertical-align: top;\n",
       "    }\n",
       "\n",
       "    .dataframe thead th {\n",
       "        text-align: right;\n",
       "    }\n",
       "</style>\n",
       "<table border=\"1\" class=\"dataframe\">\n",
       "  <thead>\n",
       "    <tr style=\"text-align: right;\">\n",
       "      <th></th>\n",
       "      <th>sales</th>\n",
       "      <th>profit</th>\n",
       "      <th>profit_ratio</th>\n",
       "    </tr>\n",
       "  </thead>\n",
       "  <tbody>\n",
       "    <tr>\n",
       "      <th>bu4</th>\n",
       "      <td>70</td>\n",
       "      <td>14</td>\n",
       "      <td>0.200000</td>\n",
       "    </tr>\n",
       "    <tr>\n",
       "      <th>bu2</th>\n",
       "      <td>100</td>\n",
       "      <td>20</td>\n",
       "      <td>0.200000</td>\n",
       "    </tr>\n",
       "    <tr>\n",
       "      <th>bu1</th>\n",
       "      <td>200</td>\n",
       "      <td>34</td>\n",
       "      <td>0.170000</td>\n",
       "    </tr>\n",
       "    <tr>\n",
       "      <th>bu3</th>\n",
       "      <td>300</td>\n",
       "      <td>50</td>\n",
       "      <td>0.166667</td>\n",
       "    </tr>\n",
       "  </tbody>\n",
       "</table>\n",
       "</div>"
      ],
      "text/plain": [
       "     sales  profit  profit_ratio\n",
       "bu4     70      14      0.200000\n",
       "bu2    100      20      0.200000\n",
       "bu1    200      34      0.170000\n",
       "bu3    300      50      0.166667"
      ]
     },
     "execution_count": 26,
     "metadata": {},
     "output_type": "execute_result"
    }
   ],
   "source": [
    "#对 df 按销售额(sales)进行排序 ( 可以使用 sort_values)， 将结果写到 sort_sales.xlsx 文件\n",
    "sort_sales = df.sort_values(by='sales')\n",
    "sort_sales.to_excel(\"sort_sales.xlsx\")\n",
    "sort_sales"
   ]
  },
  {
   "cell_type": "code",
   "execution_count": 27,
   "metadata": {
    "ExecuteTime": {
     "end_time": "2020-07-23T03:53:48.022155Z",
     "start_time": "2020-07-23T03:53:48.004107Z"
    }
   },
   "outputs": [
    {
     "data": {
      "text/html": [
       "<div>\n",
       "<style scoped>\n",
       "    .dataframe tbody tr th:only-of-type {\n",
       "        vertical-align: middle;\n",
       "    }\n",
       "\n",
       "    .dataframe tbody tr th {\n",
       "        vertical-align: top;\n",
       "    }\n",
       "\n",
       "    .dataframe thead th {\n",
       "        text-align: right;\n",
       "    }\n",
       "</style>\n",
       "<table border=\"1\" class=\"dataframe\">\n",
       "  <thead>\n",
       "    <tr style=\"text-align: right;\">\n",
       "      <th></th>\n",
       "      <th>sales</th>\n",
       "      <th>profit</th>\n",
       "      <th>profit_ratio</th>\n",
       "    </tr>\n",
       "  </thead>\n",
       "  <tbody>\n",
       "    <tr>\n",
       "      <th>bu4</th>\n",
       "      <td>70</td>\n",
       "      <td>14</td>\n",
       "      <td>0.200000</td>\n",
       "    </tr>\n",
       "    <tr>\n",
       "      <th>bu2</th>\n",
       "      <td>100</td>\n",
       "      <td>20</td>\n",
       "      <td>0.200000</td>\n",
       "    </tr>\n",
       "    <tr>\n",
       "      <th>bu1</th>\n",
       "      <td>200</td>\n",
       "      <td>34</td>\n",
       "      <td>0.170000</td>\n",
       "    </tr>\n",
       "    <tr>\n",
       "      <th>bu3</th>\n",
       "      <td>300</td>\n",
       "      <td>50</td>\n",
       "      <td>0.166667</td>\n",
       "    </tr>\n",
       "  </tbody>\n",
       "</table>\n",
       "</div>"
      ],
      "text/plain": [
       "     sales  profit  profit_ratio\n",
       "bu4     70      14      0.200000\n",
       "bu2    100      20      0.200000\n",
       "bu1    200      34      0.170000\n",
       "bu3    300      50      0.166667"
      ]
     },
     "execution_count": 27,
     "metadata": {},
     "output_type": "execute_result"
    }
   ],
   "source": [
    "# 对 df 按利润(profit)进行排序 ( 可以使用 sort_values)，将结果写到 sort_profit.xlsx 文件\n",
    "sort_profit = df.sort_values(by='profit')\n",
    "sort_profit.to_excel(\"sort_profit.xlsx\")\n",
    "sort_profit"
   ]
  },
  {
   "cell_type": "code",
   "execution_count": 28,
   "metadata": {
    "ExecuteTime": {
     "end_time": "2020-07-23T03:54:54.204718Z",
     "start_time": "2020-07-23T03:54:54.185533Z"
    }
   },
   "outputs": [
    {
     "data": {
      "text/html": [
       "<div>\n",
       "<style scoped>\n",
       "    .dataframe tbody tr th:only-of-type {\n",
       "        vertical-align: middle;\n",
       "    }\n",
       "\n",
       "    .dataframe tbody tr th {\n",
       "        vertical-align: top;\n",
       "    }\n",
       "\n",
       "    .dataframe thead th {\n",
       "        text-align: right;\n",
       "    }\n",
       "</style>\n",
       "<table border=\"1\" class=\"dataframe\">\n",
       "  <thead>\n",
       "    <tr style=\"text-align: right;\">\n",
       "      <th></th>\n",
       "      <th>sales</th>\n",
       "      <th>profit</th>\n",
       "      <th>profit_ratio</th>\n",
       "    </tr>\n",
       "  </thead>\n",
       "  <tbody>\n",
       "    <tr>\n",
       "      <th>bu3</th>\n",
       "      <td>300</td>\n",
       "      <td>50</td>\n",
       "      <td>0.166667</td>\n",
       "    </tr>\n",
       "    <tr>\n",
       "      <th>bu1</th>\n",
       "      <td>200</td>\n",
       "      <td>34</td>\n",
       "      <td>0.170000</td>\n",
       "    </tr>\n",
       "    <tr>\n",
       "      <th>bu2</th>\n",
       "      <td>100</td>\n",
       "      <td>20</td>\n",
       "      <td>0.200000</td>\n",
       "    </tr>\n",
       "    <tr>\n",
       "      <th>bu4</th>\n",
       "      <td>70</td>\n",
       "      <td>14</td>\n",
       "      <td>0.200000</td>\n",
       "    </tr>\n",
       "  </tbody>\n",
       "</table>\n",
       "</div>"
      ],
      "text/plain": [
       "     sales  profit  profit_ratio\n",
       "bu3    300      50      0.166667\n",
       "bu1    200      34      0.170000\n",
       "bu2    100      20      0.200000\n",
       "bu4     70      14      0.200000"
      ]
     },
     "execution_count": 28,
     "metadata": {},
     "output_type": "execute_result"
    }
   ],
   "source": [
    "#对 df 按利润率(profit_ratio)进行排序 ( 可以使用 sort_values)，将结果写到 sort_profit_ratio.xlsx 文件\n",
    "sort_profit_ratio = df.sort_values(by='profit_ratio')\n",
    "sort_profit_ratio.to_excel(\"sort_profit_ratio.xlsx\")\n",
    "sort_profit_ratio"
   ]
  },
  {
   "cell_type": "markdown",
   "metadata": {},
   "source": [
    "# 数据删除\n",
    "---\n",
    "备注：这里综合了 40，43面的的内容\n",
    "\n",
    "* 删除 df 里的 \"profit\",\"profit_ratio\" 两列, 存到 public_sales 中\n",
    "* 把 public_sales 保存为 public_sales.xlsx 文件\n"
   ]
  },
  {
   "cell_type": "code",
   "execution_count": 32,
   "metadata": {
    "ExecuteTime": {
     "end_time": "2020-07-23T04:05:38.899880Z",
     "start_time": "2020-07-23T04:05:38.896691Z"
    }
   },
   "outputs": [],
   "source": [
    "#删除 df 里的 \"profit\",\"profit_ratio\" 两列, 存到 public_sales 中\n",
    "public_sales = df.drop(['profit','profit_ratio'],axis = 1)"
   ]
  },
  {
   "cell_type": "code",
   "execution_count": 33,
   "metadata": {
    "ExecuteTime": {
     "end_time": "2020-07-23T04:05:46.421462Z",
     "start_time": "2020-07-23T04:05:46.408382Z"
    }
   },
   "outputs": [],
   "source": [
    "# 把 public_sales 保存为 public_sales.xlsx 文件\n",
    "public_sales.to_excel(\"public_sales.xlsx\")"
   ]
  },
  {
   "cell_type": "markdown",
   "metadata": {},
   "source": [
    "# 数据过滤(DataFrame)\n",
    "---\n",
    "备注：这里综合了 34，43面的的内容\n",
    "\n",
    "同时有还会有如何在一个Excel文件写入多个Sheet的超纲内容，这一部分不会可以抄答案，我是想尽可能的模拟大家工作中场景！\n",
    "\n",
    "参考 Link: [DataFrame.to_excel多次写入不同Sheet](https://blog.csdn.net/wangxingfan316/article/details/79628463)\n",
    "\n",
    "* 把 df 的 sales 列取出，放到变量 sales 中\n",
    "* 计算 sales 的平均值, 放到变量 mean_sales 中\n",
    "* 找出 df 所有 sales 值大于 mean_sales的数据，放到 high_sales 中\n",
    "* 找出 df 所有 sales 值小于 mean_sales的数据，放到 high_sales 中\n",
    "* 把 high_sales,low_sales 分别写到 new_sales.xlsx 的 high_sales,low_sales 两个sheet 中"
   ]
  },
  {
   "cell_type": "code",
   "execution_count": 34,
   "metadata": {
    "ExecuteTime": {
     "end_time": "2020-07-23T04:08:33.210186Z",
     "start_time": "2020-07-23T04:08:33.206282Z"
    }
   },
   "outputs": [
    {
     "data": {
      "text/plain": [
       "167.5"
      ]
     },
     "execution_count": 34,
     "metadata": {},
     "output_type": "execute_result"
    }
   ],
   "source": [
    "# 把 df 的 sales 列取出，放到变量 sales 中\n",
    "# 计算 sales 的平均值, 放到变量 mean_sales 中\n",
    "sales = df['sales']\n",
    "mean_sales = sales.mean()\n",
    "mean_sales"
   ]
  },
  {
   "cell_type": "code",
   "execution_count": 35,
   "metadata": {
    "ExecuteTime": {
     "end_time": "2020-07-23T04:09:09.580431Z",
     "start_time": "2020-07-23T04:09:09.569282Z"
    }
   },
   "outputs": [
    {
     "data": {
      "text/html": [
       "<div>\n",
       "<style scoped>\n",
       "    .dataframe tbody tr th:only-of-type {\n",
       "        vertical-align: middle;\n",
       "    }\n",
       "\n",
       "    .dataframe tbody tr th {\n",
       "        vertical-align: top;\n",
       "    }\n",
       "\n",
       "    .dataframe thead th {\n",
       "        text-align: right;\n",
       "    }\n",
       "</style>\n",
       "<table border=\"1\" class=\"dataframe\">\n",
       "  <thead>\n",
       "    <tr style=\"text-align: right;\">\n",
       "      <th></th>\n",
       "      <th>sales</th>\n",
       "      <th>profit</th>\n",
       "      <th>profit_ratio</th>\n",
       "    </tr>\n",
       "  </thead>\n",
       "  <tbody>\n",
       "    <tr>\n",
       "      <th>bu1</th>\n",
       "      <td>200</td>\n",
       "      <td>34</td>\n",
       "      <td>0.170000</td>\n",
       "    </tr>\n",
       "    <tr>\n",
       "      <th>bu3</th>\n",
       "      <td>300</td>\n",
       "      <td>50</td>\n",
       "      <td>0.166667</td>\n",
       "    </tr>\n",
       "  </tbody>\n",
       "</table>\n",
       "</div>"
      ],
      "text/plain": [
       "     sales  profit  profit_ratio\n",
       "bu1    200      34      0.170000\n",
       "bu3    300      50      0.166667"
      ]
     },
     "execution_count": 35,
     "metadata": {},
     "output_type": "execute_result"
    }
   ],
   "source": [
    "#找出 df 所有 sales 值大于 mean_sales的数据，放到 high_sales 中\n",
    "high_sales = df[df['sales'] > mean_sales]\n",
    "high_sales"
   ]
  },
  {
   "cell_type": "code",
   "execution_count": 36,
   "metadata": {
    "ExecuteTime": {
     "end_time": "2020-07-23T04:09:42.615568Z",
     "start_time": "2020-07-23T04:09:42.607761Z"
    }
   },
   "outputs": [
    {
     "data": {
      "text/html": [
       "<div>\n",
       "<style scoped>\n",
       "    .dataframe tbody tr th:only-of-type {\n",
       "        vertical-align: middle;\n",
       "    }\n",
       "\n",
       "    .dataframe tbody tr th {\n",
       "        vertical-align: top;\n",
       "    }\n",
       "\n",
       "    .dataframe thead th {\n",
       "        text-align: right;\n",
       "    }\n",
       "</style>\n",
       "<table border=\"1\" class=\"dataframe\">\n",
       "  <thead>\n",
       "    <tr style=\"text-align: right;\">\n",
       "      <th></th>\n",
       "      <th>sales</th>\n",
       "      <th>profit</th>\n",
       "      <th>profit_ratio</th>\n",
       "    </tr>\n",
       "  </thead>\n",
       "  <tbody>\n",
       "    <tr>\n",
       "      <th>bu2</th>\n",
       "      <td>100</td>\n",
       "      <td>20</td>\n",
       "      <td>0.2</td>\n",
       "    </tr>\n",
       "    <tr>\n",
       "      <th>bu4</th>\n",
       "      <td>70</td>\n",
       "      <td>14</td>\n",
       "      <td>0.2</td>\n",
       "    </tr>\n",
       "  </tbody>\n",
       "</table>\n",
       "</div>"
      ],
      "text/plain": [
       "     sales  profit  profit_ratio\n",
       "bu2    100      20           0.2\n",
       "bu4     70      14           0.2"
      ]
     },
     "execution_count": 36,
     "metadata": {},
     "output_type": "execute_result"
    }
   ],
   "source": [
    "#找出 df 所有 sales 值小于 mean_sales的数据，放到 high_sales 中\n",
    "low_sales = df[df['sales'] < mean_sales]\n",
    "low_sales"
   ]
  },
  {
   "cell_type": "code",
   "execution_count": 37,
   "metadata": {
    "ExecuteTime": {
     "end_time": "2020-07-23T04:10:45.856718Z",
     "start_time": "2020-07-23T04:10:45.842204Z"
    }
   },
   "outputs": [],
   "source": [
    "# 把 high_sales,low_sales 分别写到 new_sales.xlsx 的 high_sales,low_sales 两个sheet 中\n",
    "writer = pd.ExcelWriter('new_sales.xlsx')\n",
    "high_sales.to_excel(writer,'high_sales')\n",
    "low_sales.to_excel(writer,'low_sales')\n",
    "writer.save()"
   ]
  }
 ],
 "metadata": {
  "kernelspec": {
   "display_name": "Python 3",
   "language": "python",
   "name": "python3"
  },
  "language_info": {
   "codemirror_mode": {
    "name": "ipython",
    "version": 3
   },
   "file_extension": ".py",
   "mimetype": "text/x-python",
   "name": "python",
   "nbconvert_exporter": "python",
   "pygments_lexer": "ipython3",
   "version": "3.7.6"
  },
  "toc": {
   "base_numbering": 1,
   "nav_menu": {},
   "number_sections": true,
   "sideBar": true,
   "skip_h1_title": false,
   "title_cell": "Table of Contents",
   "title_sidebar": "Contents",
   "toc_cell": false,
   "toc_position": {},
   "toc_section_display": true,
   "toc_window_display": false
  },
  "varInspector": {
   "cols": {
    "lenName": 16,
    "lenType": 16,
    "lenVar": 40
   },
   "kernels_config": {
    "python": {
     "delete_cmd_postfix": "",
     "delete_cmd_prefix": "del ",
     "library": "var_list.py",
     "varRefreshCmd": "print(var_dic_list())"
    },
    "r": {
     "delete_cmd_postfix": ") ",
     "delete_cmd_prefix": "rm(",
     "library": "var_list.r",
     "varRefreshCmd": "cat(var_dic_list()) "
    }
   },
   "types_to_exclude": [
    "module",
    "function",
    "builtin_function_or_method",
    "instance",
    "_Feature"
   ],
   "window_display": false
  }
 },
 "nbformat": 4,
 "nbformat_minor": 4
}
