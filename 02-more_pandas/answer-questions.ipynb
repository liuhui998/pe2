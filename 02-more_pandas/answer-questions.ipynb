{
 "cells": [
  {
   "cell_type": "markdown",
   "metadata": {},
   "source": [
    "# 手工创建工数据 Series\n",
    "---\n",
    "备注：这里综合了 24~27面的的内容\n",
    "\n",
    "* 创建一个 Series 对象 s\n",
    "* 数据为 \"China\",\"Hunan\",\"Peter\"\n",
    "* 索引为 \"Country\",\"Province\",\"Name\"\n",
    "* 用两种方法输出 s 里的数据（提示第二种方法可以用 for 循环）\n",
    "* 用两种方法输出 s 里的索引（提示第二种方法可以用 for 循环）"
   ]
  },
  {
   "cell_type": "markdown",
   "metadata": {},
   "source": [
    "# 手工创建工数据 DataFrame\n",
    "---\n",
    "备注：这里综合了 25~27面的的内容\n",
    "\n",
    "* 手工创建一个 DataFrame 对象 df\n",
    "* 索引是 [\"bu1\",\"bu2\",\"bu3\",\"bu4\"]\n",
    "* 第1列 列名是\"sales\"(销售额）,  数据为 [200,100,300,70]\n",
    "* 列2列 列名是\"profit\"(利润）, 数据为 [34,20,50,14]\n",
    "* 用 loc 属性从 df中找 \"bu1\" 这一行，存到名为 bu1 的变量中\n",
    "* 计算 bu1 的利润率(profit/sales),并且输出\n"
   ]
  },
  {
   "cell_type": "markdown",
   "metadata": {},
   "source": [
    "# 数据过滤(Series)\n",
    "---\n",
    "备注：这里综合了 30面的的内容\n",
    "\n",
    "* 把 df 的 sales 列取出，放到变量 sales 中\n",
    "* 计算 sales 的平均值, 放到变量 mean_sales 中\n",
    "* 找出所有 sales 中所有大于 mean_sales 的数值"
   ]
  },
  {
   "cell_type": "markdown",
   "metadata": {},
   "source": [
    "# 增加新列\n",
    "---\n",
    "备注：这里综合了 31，36两面的的内容\n",
    "* 计算 df 中的利润率(profit_ratio = profit/sales), 存到 profit_ratio 中\n",
    "* 为 df 新加一列 \"profit_ratio\", 把 profit_ratio 放到里\n"
   ]
  },
  {
   "cell_type": "markdown",
   "metadata": {},
   "source": [
    "# 数据排序(DataFrame)\n",
    "---\n",
    "备注：这里综合了 33,43面的内容，有部分超纲，有不明白的这题可以直接抄答案\n",
    "\n",
    "我们发的 Pandas Cheat Sheet 有讲这一部分\n",
    "\n",
    "* 对 df 按 bu 名进行排序 （因为bu名放在索引里，可以使用 sort_index 方法)\n",
    "* 对 df 按 bu 名进行降序排序 (在用 sort_index里，可以加 ascending=False参数）\n",
    "* 对 df 按销售额(sales)进行排序 ( 可以使用 sort_values)，\n",
    "  将结果写到 sort_sales.xlsx 文件\n",
    "  \n",
    "* 对 df 按利率(profit)进行排序 ( 可以使用 sort_values)，\n",
    "  将结果写到 sort_profit.xlsx 文件\n",
    "\n",
    "* 对 df 按利率(profit_ratio)进行排序 ( 可以使用 sort_values)\n",
    "  将结果写到 sort_profit_ratio.xlsx 文件\n"
   ]
  },
  {
   "cell_type": "markdown",
   "metadata": {},
   "source": [
    "# 数据删除\n",
    "---\n",
    "备注：这里综合了 40，43面的的内容\n",
    "\n",
    "* 出于保密需要现在要删除 df 里的 \"profit\",\"profit_ratio\" 两列\n",
    "* 把处理后的数据保存为 public_sales.xlsx 文件\n"
   ]
  },
  {
   "cell_type": "markdown",
   "metadata": {},
   "source": [
    "# 数据过滤(DataFrame)\n",
    "---\n",
    "备注：这里综合了 34，43面的的内容\n",
    "\n",
    "同时有还会有如何在一个Excel文件写入多个Sheet的超纲内容，这一部分不会可以抄答案，我是想尽可能的模拟大家工作中场景！\n",
    "\n",
    "参考 Link: [DataFrame.to_excel多次写入不同Sheet](https://blog.csdn.net/wangxingfan316/article/details/79628463)\n",
    "\n",
    "* 把 df 的 sales 列取出，放到变量 sales 中\n",
    "* 计算 sales 的平均值, 放到变量 mean_sales 中\n",
    "* 找出 df 所有 sales 值大于 mean_sales的数据，放到 high_sales 中\n",
    "* 找出 df 所有 sales 值小于 mean_sales的数据，放到 high_sales 中\n",
    "* 把 high_sales,low_sales 分别写到 new_sales.xlsx 的 high_sales,low_sales 两个sheet 中"
   ]
  }
 ],
 "metadata": {
  "kernelspec": {
   "display_name": "Python 3",
   "language": "python",
   "name": "python3"
  },
  "language_info": {
   "codemirror_mode": {
    "name": "ipython",
    "version": 3
   },
   "file_extension": ".py",
   "mimetype": "text/x-python",
   "name": "python",
   "nbconvert_exporter": "python",
   "pygments_lexer": "ipython3",
   "version": "3.7.6"
  },
  "toc": {
   "base_numbering": 1,
   "nav_menu": {},
   "number_sections": true,
   "sideBar": true,
   "skip_h1_title": false,
   "title_cell": "Table of Contents",
   "title_sidebar": "Contents",
   "toc_cell": false,
   "toc_position": {},
   "toc_section_display": true,
   "toc_window_display": false
  },
  "varInspector": {
   "cols": {
    "lenName": 16,
    "lenType": 16,
    "lenVar": 40
   },
   "kernels_config": {
    "python": {
     "delete_cmd_postfix": "",
     "delete_cmd_prefix": "del ",
     "library": "var_list.py",
     "varRefreshCmd": "print(var_dic_list())"
    },
    "r": {
     "delete_cmd_postfix": ") ",
     "delete_cmd_prefix": "rm(",
     "library": "var_list.r",
     "varRefreshCmd": "cat(var_dic_list()) "
    }
   },
   "types_to_exclude": [
    "module",
    "function",
    "builtin_function_or_method",
    "instance",
    "_Feature"
   ],
   "window_display": false
  }
 },
 "nbformat": 4,
 "nbformat_minor": 4
}
